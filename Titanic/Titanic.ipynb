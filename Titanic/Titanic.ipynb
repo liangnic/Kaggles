{
  "nbformat": 4,
  "nbformat_minor": 0,
  "metadata": {
    "colab": {
      "provenance": []
    },
    "kernelspec": {
      "name": "python3",
      "display_name": "Python 3"
    },
    "language_info": {
      "name": "python"
    }
  },
  "cells": [
    {
      "cell_type": "markdown",
      "source": [
        "# 1. Import libraries and dataset"
      ],
      "metadata": {
        "id": "MHICs8SWTdl1"
      }
    },
    {
      "cell_type": "code",
      "source": [
        "!pip install scikit-plot"
      ],
      "metadata": {
        "id": "E2GOdk1Lt1uN"
      },
      "execution_count": null,
      "outputs": []
    },
    {
      "cell_type": "code",
      "source": [
        "! pip install kaggle\n",
        "! mkdir ~/.kaggle\n",
        "! cp kaggle.json ~/.kaggle/\n",
        "! chmod 600 ~/.kaggle/kaggle.json\n",
        "! kaggle competitions download -c titanic\n",
        "! unzip titanic.zip"
      ],
      "metadata": {
        "id": "gq4dCIKcuomr"
      },
      "execution_count": null,
      "outputs": []
    },
    {
      "cell_type": "code",
      "source": [
        "import pandas as pd\n",
        "import numpy as np\n",
        "import seaborn as sns\n",
        "import scikitplot as skplt\n",
        "import matplotlib.pyplot as plt\n",
        "\n",
        "from sklearn.preprocessing import LabelEncoder\n",
        "from sklearn.model_selection import GridSearchCV\n",
        "from sklearn.model_selection import train_test_split\n",
        "from sklearn.ensemble import RandomForestClassifier\n",
        "from sklearn.preprocessing import PowerTransformer\n",
        "from xgboost import XGBClassifier\n",
        "from sklearn.metrics import accuracy_score, recall_score, confusion_matrix, precision_score, f1_score, classification_report"
      ],
      "metadata": {
        "id": "fvdhqOklTAah"
      },
      "execution_count": 100,
      "outputs": []
    },
    {
      "cell_type": "code",
      "source": [
        "train = pd.read_csv('train.csv')\n",
        "test = pd.read_csv('test.csv')"
      ],
      "metadata": {
        "id": "tqpEa2HITM7H"
      },
      "execution_count": 103,
      "outputs": []
    },
    {
      "cell_type": "markdown",
      "source": [
        "# EDA & pre-processing"
      ],
      "metadata": {
        "id": "q6NbXTmdUHlM"
      }
    },
    {
      "cell_type": "markdown",
      "source": [
        "## EDA"
      ],
      "metadata": {
        "id": "l8nZ5n8XtvRM"
      }
    },
    {
      "cell_type": "code",
      "source": [
        "train.head(5)"
      ],
      "metadata": {
        "colab": {
          "base_uri": "https://localhost:8080/",
          "height": 302
        },
        "id": "k6L3EtApTU2O",
        "outputId": "1beece57-4c77-43cc-e0c7-e227ce5a28a3"
      },
      "execution_count": 69,
      "outputs": [
        {
          "output_type": "execute_result",
          "data": {
            "text/plain": [
              "   PassengerId  Survived  Pclass  \\\n",
              "0            1         0       3   \n",
              "1            2         1       1   \n",
              "2            3         1       3   \n",
              "3            4         1       1   \n",
              "4            5         0       3   \n",
              "\n",
              "                                                Name     Sex   Age  SibSp  \\\n",
              "0                            Braund, Mr. Owen Harris    male  22.0      1   \n",
              "1  Cumings, Mrs. John Bradley (Florence Briggs Th...  female  38.0      1   \n",
              "2                             Heikkinen, Miss. Laina  female  26.0      0   \n",
              "3       Futrelle, Mrs. Jacques Heath (Lily May Peel)  female  35.0      1   \n",
              "4                           Allen, Mr. William Henry    male  35.0      0   \n",
              "\n",
              "   Parch            Ticket     Fare Cabin Embarked  \n",
              "0      0         A/5 21171   7.2500   NaN        S  \n",
              "1      0          PC 17599  71.2833   C85        C  \n",
              "2      0  STON/O2. 3101282   7.9250   NaN        S  \n",
              "3      0            113803  53.1000  C123        S  \n",
              "4      0            373450   8.0500   NaN        S  "
            ],
            "text/html": [
              "\n",
              "  <div id=\"df-3126dd3f-ebc5-4a04-9b39-aecae96e4846\">\n",
              "    <div class=\"colab-df-container\">\n",
              "      <div>\n",
              "<style scoped>\n",
              "    .dataframe tbody tr th:only-of-type {\n",
              "        vertical-align: middle;\n",
              "    }\n",
              "\n",
              "    .dataframe tbody tr th {\n",
              "        vertical-align: top;\n",
              "    }\n",
              "\n",
              "    .dataframe thead th {\n",
              "        text-align: right;\n",
              "    }\n",
              "</style>\n",
              "<table border=\"1\" class=\"dataframe\">\n",
              "  <thead>\n",
              "    <tr style=\"text-align: right;\">\n",
              "      <th></th>\n",
              "      <th>PassengerId</th>\n",
              "      <th>Survived</th>\n",
              "      <th>Pclass</th>\n",
              "      <th>Name</th>\n",
              "      <th>Sex</th>\n",
              "      <th>Age</th>\n",
              "      <th>SibSp</th>\n",
              "      <th>Parch</th>\n",
              "      <th>Ticket</th>\n",
              "      <th>Fare</th>\n",
              "      <th>Cabin</th>\n",
              "      <th>Embarked</th>\n",
              "    </tr>\n",
              "  </thead>\n",
              "  <tbody>\n",
              "    <tr>\n",
              "      <th>0</th>\n",
              "      <td>1</td>\n",
              "      <td>0</td>\n",
              "      <td>3</td>\n",
              "      <td>Braund, Mr. Owen Harris</td>\n",
              "      <td>male</td>\n",
              "      <td>22.0</td>\n",
              "      <td>1</td>\n",
              "      <td>0</td>\n",
              "      <td>A/5 21171</td>\n",
              "      <td>7.2500</td>\n",
              "      <td>NaN</td>\n",
              "      <td>S</td>\n",
              "    </tr>\n",
              "    <tr>\n",
              "      <th>1</th>\n",
              "      <td>2</td>\n",
              "      <td>1</td>\n",
              "      <td>1</td>\n",
              "      <td>Cumings, Mrs. John Bradley (Florence Briggs Th...</td>\n",
              "      <td>female</td>\n",
              "      <td>38.0</td>\n",
              "      <td>1</td>\n",
              "      <td>0</td>\n",
              "      <td>PC 17599</td>\n",
              "      <td>71.2833</td>\n",
              "      <td>C85</td>\n",
              "      <td>C</td>\n",
              "    </tr>\n",
              "    <tr>\n",
              "      <th>2</th>\n",
              "      <td>3</td>\n",
              "      <td>1</td>\n",
              "      <td>3</td>\n",
              "      <td>Heikkinen, Miss. Laina</td>\n",
              "      <td>female</td>\n",
              "      <td>26.0</td>\n",
              "      <td>0</td>\n",
              "      <td>0</td>\n",
              "      <td>STON/O2. 3101282</td>\n",
              "      <td>7.9250</td>\n",
              "      <td>NaN</td>\n",
              "      <td>S</td>\n",
              "    </tr>\n",
              "    <tr>\n",
              "      <th>3</th>\n",
              "      <td>4</td>\n",
              "      <td>1</td>\n",
              "      <td>1</td>\n",
              "      <td>Futrelle, Mrs. Jacques Heath (Lily May Peel)</td>\n",
              "      <td>female</td>\n",
              "      <td>35.0</td>\n",
              "      <td>1</td>\n",
              "      <td>0</td>\n",
              "      <td>113803</td>\n",
              "      <td>53.1000</td>\n",
              "      <td>C123</td>\n",
              "      <td>S</td>\n",
              "    </tr>\n",
              "    <tr>\n",
              "      <th>4</th>\n",
              "      <td>5</td>\n",
              "      <td>0</td>\n",
              "      <td>3</td>\n",
              "      <td>Allen, Mr. William Henry</td>\n",
              "      <td>male</td>\n",
              "      <td>35.0</td>\n",
              "      <td>0</td>\n",
              "      <td>0</td>\n",
              "      <td>373450</td>\n",
              "      <td>8.0500</td>\n",
              "      <td>NaN</td>\n",
              "      <td>S</td>\n",
              "    </tr>\n",
              "  </tbody>\n",
              "</table>\n",
              "</div>\n",
              "      <button class=\"colab-df-convert\" onclick=\"convertToInteractive('df-3126dd3f-ebc5-4a04-9b39-aecae96e4846')\"\n",
              "              title=\"Convert this dataframe to an interactive table.\"\n",
              "              style=\"display:none;\">\n",
              "        \n",
              "  <svg xmlns=\"http://www.w3.org/2000/svg\" height=\"24px\"viewBox=\"0 0 24 24\"\n",
              "       width=\"24px\">\n",
              "    <path d=\"M0 0h24v24H0V0z\" fill=\"none\"/>\n",
              "    <path d=\"M18.56 5.44l.94 2.06.94-2.06 2.06-.94-2.06-.94-.94-2.06-.94 2.06-2.06.94zm-11 1L8.5 8.5l.94-2.06 2.06-.94-2.06-.94L8.5 2.5l-.94 2.06-2.06.94zm10 10l.94 2.06.94-2.06 2.06-.94-2.06-.94-.94-2.06-.94 2.06-2.06.94z\"/><path d=\"M17.41 7.96l-1.37-1.37c-.4-.4-.92-.59-1.43-.59-.52 0-1.04.2-1.43.59L10.3 9.45l-7.72 7.72c-.78.78-.78 2.05 0 2.83L4 21.41c.39.39.9.59 1.41.59.51 0 1.02-.2 1.41-.59l7.78-7.78 2.81-2.81c.8-.78.8-2.07 0-2.86zM5.41 20L4 18.59l7.72-7.72 1.47 1.35L5.41 20z\"/>\n",
              "  </svg>\n",
              "      </button>\n",
              "      \n",
              "  <style>\n",
              "    .colab-df-container {\n",
              "      display:flex;\n",
              "      flex-wrap:wrap;\n",
              "      gap: 12px;\n",
              "    }\n",
              "\n",
              "    .colab-df-convert {\n",
              "      background-color: #E8F0FE;\n",
              "      border: none;\n",
              "      border-radius: 50%;\n",
              "      cursor: pointer;\n",
              "      display: none;\n",
              "      fill: #1967D2;\n",
              "      height: 32px;\n",
              "      padding: 0 0 0 0;\n",
              "      width: 32px;\n",
              "    }\n",
              "\n",
              "    .colab-df-convert:hover {\n",
              "      background-color: #E2EBFA;\n",
              "      box-shadow: 0px 1px 2px rgba(60, 64, 67, 0.3), 0px 1px 3px 1px rgba(60, 64, 67, 0.15);\n",
              "      fill: #174EA6;\n",
              "    }\n",
              "\n",
              "    [theme=dark] .colab-df-convert {\n",
              "      background-color: #3B4455;\n",
              "      fill: #D2E3FC;\n",
              "    }\n",
              "\n",
              "    [theme=dark] .colab-df-convert:hover {\n",
              "      background-color: #434B5C;\n",
              "      box-shadow: 0px 1px 3px 1px rgba(0, 0, 0, 0.15);\n",
              "      filter: drop-shadow(0px 1px 2px rgba(0, 0, 0, 0.3));\n",
              "      fill: #FFFFFF;\n",
              "    }\n",
              "  </style>\n",
              "\n",
              "      <script>\n",
              "        const buttonEl =\n",
              "          document.querySelector('#df-3126dd3f-ebc5-4a04-9b39-aecae96e4846 button.colab-df-convert');\n",
              "        buttonEl.style.display =\n",
              "          google.colab.kernel.accessAllowed ? 'block' : 'none';\n",
              "\n",
              "        async function convertToInteractive(key) {\n",
              "          const element = document.querySelector('#df-3126dd3f-ebc5-4a04-9b39-aecae96e4846');\n",
              "          const dataTable =\n",
              "            await google.colab.kernel.invokeFunction('convertToInteractive',\n",
              "                                                     [key], {});\n",
              "          if (!dataTable) return;\n",
              "\n",
              "          const docLinkHtml = 'Like what you see? Visit the ' +\n",
              "            '<a target=\"_blank\" href=https://colab.research.google.com/notebooks/data_table.ipynb>data table notebook</a>'\n",
              "            + ' to learn more about interactive tables.';\n",
              "          element.innerHTML = '';\n",
              "          dataTable['output_type'] = 'display_data';\n",
              "          await google.colab.output.renderOutput(dataTable, element);\n",
              "          const docLink = document.createElement('div');\n",
              "          docLink.innerHTML = docLinkHtml;\n",
              "          element.appendChild(docLink);\n",
              "        }\n",
              "      </script>\n",
              "    </div>\n",
              "  </div>\n",
              "  "
            ]
          },
          "metadata": {},
          "execution_count": 69
        }
      ]
    },
    {
      "cell_type": "code",
      "source": [
        "train.info()"
      ],
      "metadata": {
        "colab": {
          "base_uri": "https://localhost:8080/"
        },
        "id": "xtsnVvsGUFS8",
        "outputId": "11485a2d-fac1-43bc-8a17-410b3c19390d"
      },
      "execution_count": 70,
      "outputs": [
        {
          "output_type": "stream",
          "name": "stdout",
          "text": [
            "<class 'pandas.core.frame.DataFrame'>\n",
            "RangeIndex: 891 entries, 0 to 890\n",
            "Data columns (total 12 columns):\n",
            " #   Column       Non-Null Count  Dtype  \n",
            "---  ------       --------------  -----  \n",
            " 0   PassengerId  891 non-null    int64  \n",
            " 1   Survived     891 non-null    int64  \n",
            " 2   Pclass       891 non-null    int64  \n",
            " 3   Name         891 non-null    object \n",
            " 4   Sex          891 non-null    object \n",
            " 5   Age          714 non-null    float64\n",
            " 6   SibSp        891 non-null    int64  \n",
            " 7   Parch        891 non-null    int64  \n",
            " 8   Ticket       891 non-null    object \n",
            " 9   Fare         891 non-null    float64\n",
            " 10  Cabin        204 non-null    object \n",
            " 11  Embarked     889 non-null    object \n",
            "dtypes: float64(2), int64(5), object(5)\n",
            "memory usage: 83.7+ KB\n"
          ]
        }
      ]
    },
    {
      "cell_type": "code",
      "source": [
        "sns.countplot(x=\"Sex\", hue=\"Survived\", data=train, palette='Set3')"
      ],
      "metadata": {
        "colab": {
          "base_uri": "https://localhost:8080/",
          "height": 297
        },
        "id": "omJNAXYOworI",
        "outputId": "de2a7ba2-cf6d-4887-bede-40532e71b237"
      },
      "execution_count": 71,
      "outputs": [
        {
          "output_type": "execute_result",
          "data": {
            "text/plain": [
              "<matplotlib.axes._subplots.AxesSubplot at 0x7f5a8f2d4650>"
            ]
          },
          "metadata": {},
          "execution_count": 71
        },
        {
          "output_type": "display_data",
          "data": {
            "text/plain": [
              "<Figure size 432x288 with 1 Axes>"
            ],
            "image/png": "[encoded data removed]"
          },
          "metadata": {
            "needs_background": "light"
          }
        }
      ]
    },
    {
      "cell_type": "code",
      "source": [
        "sns.countplot(x=\"Pclass\", hue=\"Survived\", data=train, palette='Set3')"
      ],
      "metadata": {
        "colab": {
          "base_uri": "https://localhost:8080/",
          "height": 297
        },
        "id": "Ap7xxQVCxHnJ",
        "outputId": "7de78501-a251-4496-ec71-6ba2cde0806f"
      },
      "execution_count": 72,
      "outputs": [
        {
          "output_type": "execute_result",
          "data": {
            "text/plain": [
              "<matplotlib.axes._subplots.AxesSubplot at 0x7f5a8f252050>"
            ]
          },
          "metadata": {},
          "execution_count": 72
        },
        {
          "output_type": "display_data",
          "data": {
            "text/plain": [
              "<Figure size 432x288 with 1 Axes>"
            ],
            "image/png": "[encoded data removed]"
          },
          "metadata": {
            "needs_background": "light"
          }
        }
      ]
    },
    {
      "cell_type": "code",
      "source": [
        "sns.barplot(x=\"Pclass\", y=\"Survived\", data=train, palette='Set3')"
      ],
      "metadata": {
        "colab": {
          "base_uri": "https://localhost:8080/",
          "height": 297
        },
        "id": "ms9LBbiA0iPB",
        "outputId": "6e78beca-b2ce-457b-e652-396ee6e29113"
      },
      "execution_count": 73,
      "outputs": [
        {
          "output_type": "execute_result",
          "data": {
            "text/plain": [
              "<matplotlib.axes._subplots.AxesSubplot at 0x7f5a8f1c95d0>"
            ]
          },
          "metadata": {},
          "execution_count": 73
        },
        {
          "output_type": "display_data",
          "data": {
            "text/plain": [
              "<Figure size 432x288 with 1 Axes>"
            ],
            "image/png": "[encoded data removed]"
          },
          "metadata": {
            "needs_background": "light"
          }
        }
      ]
    },
    {
      "cell_type": "code",
      "source": [
        "train['cabin'] = train['Cabin'].apply(lambda x: 1 if pd.notnull(x) else 0).astype('int')\n",
        "sns.barplot(x=\"cabin\", y=\"Survived\", data=train, palette='Set3')"
      ],
      "metadata": {
        "colab": {
          "base_uri": "https://localhost:8080/",
          "height": 297
        },
        "id": "Covwuh7TvAQU",
        "outputId": "079dc9c8-9caf-49ae-c9dc-3a43e7b0dfc3"
      },
      "execution_count": 74,
      "outputs": [
        {
          "output_type": "execute_result",
          "data": {
            "text/plain": [
              "<matplotlib.axes._subplots.AxesSubplot at 0x7f5a8f1b3c90>"
            ]
          },
          "metadata": {},
          "execution_count": 74
        },
        {
          "output_type": "display_data",
          "data": {
            "text/plain": [
              "<Figure size 432x288 with 1 Axes>"
            ],
            "image/png": "[encoded data removed]"
          },
          "metadata": {
            "needs_background": "light"
          }
        }
      ]
    },
    {
      "cell_type": "code",
      "source": [
        "facet = sns.FacetGrid(train, hue=\"Survived\",aspect=2)\n",
        "facet.map(sns.kdeplot,'Age',shade= True)\n",
        "facet.set(xlim=(0, train['Age'].max()))\n",
        "facet.add_legend()"
      ],
      "metadata": {
        "colab": {
          "base_uri": "https://localhost:8080/",
          "height": 243
        },
        "id": "5YYWKx57xiVG",
        "outputId": "65fe3dc9-a237-449b-ead4-21a406aac0e6"
      },
      "execution_count": 75,
      "outputs": [
        {
          "output_type": "execute_result",
          "data": {
            "text/plain": [
              "<seaborn.axisgrid.FacetGrid at 0x7f5a8f11d450>"
            ]
          },
          "metadata": {},
          "execution_count": 75
        },
        {
          "output_type": "display_data",
          "data": {
            "text/plain": [
              "<Figure size 483.875x216 with 1 Axes>"
            ],
            "image/png": "[encoded data removed]"
          },
          "metadata": {
            "needs_background": "light"
          }
        }
      ]
    },
    {
      "cell_type": "code",
      "source": [
        "facet = sns.FacetGrid(train, hue=\"Survived\",aspect=2)\n",
        "facet.map(sns.kdeplot,'Fare',shade= True)\n",
        "facet.set(xlim=(0, 100))\n",
        "facet.add_legend()"
      ],
      "metadata": {
        "colab": {
          "base_uri": "https://localhost:8080/",
          "height": 243
        },
        "id": "zbGVxD3Oxkhb",
        "outputId": "7d6b813d-9d52-45ff-9e42-5e474058dc21"
      },
      "execution_count": 76,
      "outputs": [
        {
          "output_type": "execute_result",
          "data": {
            "text/plain": [
              "<seaborn.axisgrid.FacetGrid at 0x7f5a8f0fb390>"
            ]
          },
          "metadata": {},
          "execution_count": 76
        },
        {
          "output_type": "display_data",
          "data": {
            "text/plain": [
              "<Figure size 483.875x216 with 1 Axes>"
            ],
            "image/png": "[encoded data removed]"
          },
          "metadata": {
            "needs_background": "light"
          }
        }
      ]
    },
    {
      "cell_type": "code",
      "source": [
        "train['Title'] = train['Name'].apply(lambda x:x.split(',')[1].split('.')[0].strip())\n",
        "titles = train.Title.value_counts().to_frame()\n",
        "titles.reset_index(inplace=True)\n",
        "titles"
      ],
      "metadata": {
        "colab": {
          "base_uri": "https://localhost:8080/",
          "height": 582
        },
        "id": "U10US6dczq0t",
        "outputId": "f612caf7-b9b1-4f15-ce82-3c5711d12581"
      },
      "execution_count": 104,
      "outputs": [
        {
          "output_type": "execute_result",
          "data": {
            "text/plain": [
              "           index  Title\n",
              "0             Mr    517\n",
              "1           Miss    182\n",
              "2            Mrs    125\n",
              "3         Master     40\n",
              "4             Dr      7\n",
              "5            Rev      6\n",
              "6           Mlle      2\n",
              "7          Major      2\n",
              "8            Col      2\n",
              "9   the Countess      1\n",
              "10          Capt      1\n",
              "11            Ms      1\n",
              "12           Sir      1\n",
              "13          Lady      1\n",
              "14           Mme      1\n",
              "15           Don      1\n",
              "16      Jonkheer      1"
            ],
            "text/html": [
              "\n",
              "  <div id=\"df-9b635117-002b-454a-a094-94b02a3b30b6\">\n",
              "    <div class=\"colab-df-container\">\n",
              "      <div>\n",
              "<style scoped>\n",
              "    .dataframe tbody tr th:only-of-type {\n",
              "        vertical-align: middle;\n",
              "    }\n",
              "\n",
              "    .dataframe tbody tr th {\n",
              "        vertical-align: top;\n",
              "    }\n",
              "\n",
              "    .dataframe thead th {\n",
              "        text-align: right;\n",
              "    }\n",
              "</style>\n",
              "<table border=\"1\" class=\"dataframe\">\n",
              "  <thead>\n",
              "    <tr style=\"text-align: right;\">\n",
              "      <th></th>\n",
              "      <th>index</th>\n",
              "      <th>Title</th>\n",
              "    </tr>\n",
              "  </thead>\n",
              "  <tbody>\n",
              "    <tr>\n",
              "      <th>0</th>\n",
              "      <td>Mr</td>\n",
              "      <td>517</td>\n",
              "    </tr>\n",
              "    <tr>\n",
              "      <th>1</th>\n",
              "      <td>Miss</td>\n",
              "      <td>182</td>\n",
              "    </tr>\n",
              "    <tr>\n",
              "      <th>2</th>\n",
              "      <td>Mrs</td>\n",
              "      <td>125</td>\n",
              "    </tr>\n",
              "    <tr>\n",
              "      <th>3</th>\n",
              "      <td>Master</td>\n",
              "      <td>40</td>\n",
              "    </tr>\n",
              "    <tr>\n",
              "      <th>4</th>\n",
              "      <td>Dr</td>\n",
              "      <td>7</td>\n",
              "    </tr>\n",
              "    <tr>\n",
              "      <th>5</th>\n",
              "      <td>Rev</td>\n",
              "      <td>6</td>\n",
              "    </tr>\n",
              "    <tr>\n",
              "      <th>6</th>\n",
              "      <td>Mlle</td>\n",
              "      <td>2</td>\n",
              "    </tr>\n",
              "    <tr>\n",
              "      <th>7</th>\n",
              "      <td>Major</td>\n",
              "      <td>2</td>\n",
              "    </tr>\n",
              "    <tr>\n",
              "      <th>8</th>\n",
              "      <td>Col</td>\n",
              "      <td>2</td>\n",
              "    </tr>\n",
              "    <tr>\n",
              "      <th>9</th>\n",
              "      <td>the Countess</td>\n",
              "      <td>1</td>\n",
              "    </tr>\n",
              "    <tr>\n",
              "      <th>10</th>\n",
              "      <td>Capt</td>\n",
              "      <td>1</td>\n",
              "    </tr>\n",
              "    <tr>\n",
              "      <th>11</th>\n",
              "      <td>Ms</td>\n",
              "      <td>1</td>\n",
              "    </tr>\n",
              "    <tr>\n",
              "      <th>12</th>\n",
              "      <td>Sir</td>\n",
              "      <td>1</td>\n",
              "    </tr>\n",
              "    <tr>\n",
              "      <th>13</th>\n",
              "      <td>Lady</td>\n",
              "      <td>1</td>\n",
              "    </tr>\n",
              "    <tr>\n",
              "      <th>14</th>\n",
              "      <td>Mme</td>\n",
              "      <td>1</td>\n",
              "    </tr>\n",
              "    <tr>\n",
              "      <th>15</th>\n",
              "      <td>Don</td>\n",
              "      <td>1</td>\n",
              "    </tr>\n",
              "    <tr>\n",
              "      <th>16</th>\n",
              "      <td>Jonkheer</td>\n",
              "      <td>1</td>\n",
              "    </tr>\n",
              "  </tbody>\n",
              "</table>\n",
              "</div>\n",
              "      <button class=\"colab-df-convert\" onclick=\"convertToInteractive('df-9b635117-002b-454a-a094-94b02a3b30b6')\"\n",
              "              title=\"Convert this dataframe to an interactive table.\"\n",
              "              style=\"display:none;\">\n",
              "        \n",
              "  <svg xmlns=\"http://www.w3.org/2000/svg\" height=\"24px\"viewBox=\"0 0 24 24\"\n",
              "       width=\"24px\">\n",
              "    <path d=\"M0 0h24v24H0V0z\" fill=\"none\"/>\n",
              "    <path d=\"M18.56 5.44l.94 2.06.94-2.06 2.06-.94-2.06-.94-.94-2.06-.94 2.06-2.06.94zm-11 1L8.5 8.5l.94-2.06 2.06-.94-2.06-.94L8.5 2.5l-.94 2.06-2.06.94zm10 10l.94 2.06.94-2.06 2.06-.94-2.06-.94-.94-2.06-.94 2.06-2.06.94z\"/><path d=\"M17.41 7.96l-1.37-1.37c-.4-.4-.92-.59-1.43-.59-.52 0-1.04.2-1.43.59L10.3 9.45l-7.72 7.72c-.78.78-.78 2.05 0 2.83L4 21.41c.39.39.9.59 1.41.59.51 0 1.02-.2 1.41-.59l7.78-7.78 2.81-2.81c.8-.78.8-2.07 0-2.86zM5.41 20L4 18.59l7.72-7.72 1.47 1.35L5.41 20z\"/>\n",
              "  </svg>\n",
              "      </button>\n",
              "      \n",
              "  <style>\n",
              "    .colab-df-container {\n",
              "      display:flex;\n",
              "      flex-wrap:wrap;\n",
              "      gap: 12px;\n",
              "    }\n",
              "\n",
              "    .colab-df-convert {\n",
              "      background-color: #E8F0FE;\n",
              "      border: none;\n",
              "      border-radius: 50%;\n",
              "      cursor: pointer;\n",
              "      display: none;\n",
              "      fill: #1967D2;\n",
              "      height: 32px;\n",
              "      padding: 0 0 0 0;\n",
              "      width: 32px;\n",
              "    }\n",
              "\n",
              "    .colab-df-convert:hover {\n",
              "      background-color: #E2EBFA;\n",
              "      box-shadow: 0px 1px 2px rgba(60, 64, 67, 0.3), 0px 1px 3px 1px rgba(60, 64, 67, 0.15);\n",
              "      fill: #174EA6;\n",
              "    }\n",
              "\n",
              "    [theme=dark] .colab-df-convert {\n",
              "      background-color: #3B4455;\n",
              "      fill: #D2E3FC;\n",
              "    }\n",
              "\n",
              "    [theme=dark] .colab-df-convert:hover {\n",
              "      background-color: #434B5C;\n",
              "      box-shadow: 0px 1px 3px 1px rgba(0, 0, 0, 0.15);\n",
              "      filter: drop-shadow(0px 1px 2px rgba(0, 0, 0, 0.3));\n",
              "      fill: #FFFFFF;\n",
              "    }\n",
              "  </style>\n",
              "\n",
              "      <script>\n",
              "        const buttonEl =\n",
              "          document.querySelector('#df-9b635117-002b-454a-a094-94b02a3b30b6 button.colab-df-convert');\n",
              "        buttonEl.style.display =\n",
              "          google.colab.kernel.accessAllowed ? 'block' : 'none';\n",
              "\n",
              "        async function convertToInteractive(key) {\n",
              "          const element = document.querySelector('#df-9b635117-002b-454a-a094-94b02a3b30b6');\n",
              "          const dataTable =\n",
              "            await google.colab.kernel.invokeFunction('convertToInteractive',\n",
              "                                                     [key], {});\n",
              "          if (!dataTable) return;\n",
              "\n",
              "          const docLinkHtml = 'Like what you see? Visit the ' +\n",
              "            '<a target=\"_blank\" href=https://colab.research.google.com/notebooks/data_table.ipynb>data table notebook</a>'\n",
              "            + ' to learn more about interactive tables.';\n",
              "          element.innerHTML = '';\n",
              "          dataTable['output_type'] = 'display_data';\n",
              "          await google.colab.output.renderOutput(dataTable, element);\n",
              "          const docLink = document.createElement('div');\n",
              "          docLink.innerHTML = docLinkHtml;\n",
              "          element.appendChild(docLink);\n",
              "        }\n",
              "      </script>\n",
              "    </div>\n",
              "  </div>\n",
              "  "
            ]
          },
          "metadata": {},
          "execution_count": 104
        }
      ]
    },
    {
      "cell_type": "code",
      "source": [
        "Title_Dictionary = {\n",
        "    \"Capt\": 1,\n",
        "    \"Col\": 1,\n",
        "    \"Major\": 1,\n",
        "    \"Dr\": 1,\n",
        "    \"Rev\": 1,\n",
        "    \"Don\": 2,\n",
        "    \"Dona\": 2,\n",
        "    \"Sir\" : 2,\n",
        "    \"the Countess\":2,\n",
        "    \"Lady\" : 2,\n",
        "    \"Mme\": 3,\n",
        "    \"Ms\": 3,\n",
        "    \"Mrs\" : 3,\n",
        "    \"Mr\" : 4,\n",
        "    \"Miss\" : 5,\n",
        "    \"Mlle\": 5,\n",
        "    \"Master\" : 6,\n",
        "    \"Jonkheer\": 6,\n",
        "}"
      ],
      "metadata": {
        "id": "lZvB_w1I15Kq"
      },
      "execution_count": 105,
      "outputs": []
    },
    {
      "cell_type": "code",
      "source": [
        "train['Title'] = train['Title'].apply(lambda x: Title_Dictionary[x])\n",
        "titles = train.Title.value_counts().to_frame()\n",
        "titles.reset_index(inplace=True)\n",
        "titles"
      ],
      "metadata": {
        "colab": {
          "base_uri": "https://localhost:8080/",
          "height": 238
        },
        "id": "VzSDds8Y3wdr",
        "outputId": "239e0802-676d-4609-86e5-d6bcad0ca956"
      },
      "execution_count": 106,
      "outputs": [
        {
          "output_type": "execute_result",
          "data": {
            "text/plain": [
              "   index  Title\n",
              "0      4    517\n",
              "1      5    184\n",
              "2      3    127\n",
              "3      6     41\n",
              "4      1     18\n",
              "5      2      4"
            ],
            "text/html": [
              "\n",
              "  <div id=\"df-bc66578e-cf8e-4ae5-a8c0-daed3abe94a0\">\n",
              "    <div class=\"colab-df-container\">\n",
              "      <div>\n",
              "<style scoped>\n",
              "    .dataframe tbody tr th:only-of-type {\n",
              "        vertical-align: middle;\n",
              "    }\n",
              "\n",
              "    .dataframe tbody tr th {\n",
              "        vertical-align: top;\n",
              "    }\n",
              "\n",
              "    .dataframe thead th {\n",
              "        text-align: right;\n",
              "    }\n",
              "</style>\n",
              "<table border=\"1\" class=\"dataframe\">\n",
              "  <thead>\n",
              "    <tr style=\"text-align: right;\">\n",
              "      <th></th>\n",
              "      <th>index</th>\n",
              "      <th>Title</th>\n",
              "    </tr>\n",
              "  </thead>\n",
              "  <tbody>\n",
              "    <tr>\n",
              "      <th>0</th>\n",
              "      <td>4</td>\n",
              "      <td>517</td>\n",
              "    </tr>\n",
              "    <tr>\n",
              "      <th>1</th>\n",
              "      <td>5</td>\n",
              "      <td>184</td>\n",
              "    </tr>\n",
              "    <tr>\n",
              "      <th>2</th>\n",
              "      <td>3</td>\n",
              "      <td>127</td>\n",
              "    </tr>\n",
              "    <tr>\n",
              "      <th>3</th>\n",
              "      <td>6</td>\n",
              "      <td>41</td>\n",
              "    </tr>\n",
              "    <tr>\n",
              "      <th>4</th>\n",
              "      <td>1</td>\n",
              "      <td>18</td>\n",
              "    </tr>\n",
              "    <tr>\n",
              "      <th>5</th>\n",
              "      <td>2</td>\n",
              "      <td>4</td>\n",
              "    </tr>\n",
              "  </tbody>\n",
              "</table>\n",
              "</div>\n",
              "      <button class=\"colab-df-convert\" onclick=\"convertToInteractive('df-bc66578e-cf8e-4ae5-a8c0-daed3abe94a0')\"\n",
              "              title=\"Convert this dataframe to an interactive table.\"\n",
              "              style=\"display:none;\">\n",
              "        \n",
              "  <svg xmlns=\"http://www.w3.org/2000/svg\" height=\"24px\"viewBox=\"0 0 24 24\"\n",
              "       width=\"24px\">\n",
              "    <path d=\"M0 0h24v24H0V0z\" fill=\"none\"/>\n",
              "    <path d=\"M18.56 5.44l.94 2.06.94-2.06 2.06-.94-2.06-.94-.94-2.06-.94 2.06-2.06.94zm-11 1L8.5 8.5l.94-2.06 2.06-.94-2.06-.94L8.5 2.5l-.94 2.06-2.06.94zm10 10l.94 2.06.94-2.06 2.06-.94-2.06-.94-.94-2.06-.94 2.06-2.06.94z\"/><path d=\"M17.41 7.96l-1.37-1.37c-.4-.4-.92-.59-1.43-.59-.52 0-1.04.2-1.43.59L10.3 9.45l-7.72 7.72c-.78.78-.78 2.05 0 2.83L4 21.41c.39.39.9.59 1.41.59.51 0 1.02-.2 1.41-.59l7.78-7.78 2.81-2.81c.8-.78.8-2.07 0-2.86zM5.41 20L4 18.59l7.72-7.72 1.47 1.35L5.41 20z\"/>\n",
              "  </svg>\n",
              "      </button>\n",
              "      \n",
              "  <style>\n",
              "    .colab-df-container {\n",
              "      display:flex;\n",
              "      flex-wrap:wrap;\n",
              "      gap: 12px;\n",
              "    }\n",
              "\n",
              "    .colab-df-convert {\n",
              "      background-color: #E8F0FE;\n",
              "      border: none;\n",
              "      border-radius: 50%;\n",
              "      cursor: pointer;\n",
              "      display: none;\n",
              "      fill: #1967D2;\n",
              "      height: 32px;\n",
              "      padding: 0 0 0 0;\n",
              "      width: 32px;\n",
              "    }\n",
              "\n",
              "    .colab-df-convert:hover {\n",
              "      background-color: #E2EBFA;\n",
              "      box-shadow: 0px 1px 2px rgba(60, 64, 67, 0.3), 0px 1px 3px 1px rgba(60, 64, 67, 0.15);\n",
              "      fill: #174EA6;\n",
              "    }\n",
              "\n",
              "    [theme=dark] .colab-df-convert {\n",
              "      background-color: #3B4455;\n",
              "      fill: #D2E3FC;\n",
              "    }\n",
              "\n",
              "    [theme=dark] .colab-df-convert:hover {\n",
              "      background-color: #434B5C;\n",
              "      box-shadow: 0px 1px 3px 1px rgba(0, 0, 0, 0.15);\n",
              "      filter: drop-shadow(0px 1px 2px rgba(0, 0, 0, 0.3));\n",
              "      fill: #FFFFFF;\n",
              "    }\n",
              "  </style>\n",
              "\n",
              "      <script>\n",
              "        const buttonEl =\n",
              "          document.querySelector('#df-bc66578e-cf8e-4ae5-a8c0-daed3abe94a0 button.colab-df-convert');\n",
              "        buttonEl.style.display =\n",
              "          google.colab.kernel.accessAllowed ? 'block' : 'none';\n",
              "\n",
              "        async function convertToInteractive(key) {\n",
              "          const element = document.querySelector('#df-bc66578e-cf8e-4ae5-a8c0-daed3abe94a0');\n",
              "          const dataTable =\n",
              "            await google.colab.kernel.invokeFunction('convertToInteractive',\n",
              "                                                     [key], {});\n",
              "          if (!dataTable) return;\n",
              "\n",
              "          const docLinkHtml = 'Like what you see? Visit the ' +\n",
              "            '<a target=\"_blank\" href=https://colab.research.google.com/notebooks/data_table.ipynb>data table notebook</a>'\n",
              "            + ' to learn more about interactive tables.';\n",
              "          element.innerHTML = '';\n",
              "          dataTable['output_type'] = 'display_data';\n",
              "          await google.colab.output.renderOutput(dataTable, element);\n",
              "          const docLink = document.createElement('div');\n",
              "          docLink.innerHTML = docLinkHtml;\n",
              "          element.appendChild(docLink);\n",
              "        }\n",
              "      </script>\n",
              "    </div>\n",
              "  </div>\n",
              "  "
            ]
          },
          "metadata": {},
          "execution_count": 106
        }
      ]
    },
    {
      "cell_type": "code",
      "source": [
        "avg_age = dict(round(train.groupby(['Title'])['Age'].mean(),4))\n",
        "avg_ageS = pd.Series(dict(round(train.groupby(['Title'])['Age'].mean(),4)), name='AVG')\n",
        "avg_ageS"
      ],
      "metadata": {
        "colab": {
          "base_uri": "https://localhost:8080/"
        },
        "id": "qKTJeCLL7n8h",
        "outputId": "0dc4066e-220f-4e54-c63c-c8d9e5ade23c"
      },
      "execution_count": 107,
      "outputs": [
        {
          "output_type": "execute_result",
          "data": {
            "text/plain": [
              "1    46.7059\n",
              "2    42.5000\n",
              "3    35.7182\n",
              "4    32.3681\n",
              "5    21.8041\n",
              "6     5.4776\n",
              "Name: AVG, dtype: float64"
            ]
          },
          "metadata": {},
          "execution_count": 107
        }
      ]
    },
    {
      "cell_type": "markdown",
      "source": [
        "## Preprocessing"
      ],
      "metadata": {
        "id": "raZ-lZb6txrF"
      }
    },
    {
      "cell_type": "code",
      "source": [
        "def preprocessing(dataset):\n",
        "  \n",
        "  dataset['sex'] = dataset['Sex'].apply(lambda x: 1 if x == 'male' else 0).astype('int')\n",
        "  dataset['embark'] = dataset['Embarked'].apply(lambda x: 0 if x =='S' else(1 if x == 'C' else '2')).astype('int')\n",
        "  dataset['cabin'] = dataset['Cabin'].apply(lambda x: 1 if pd.notnull(x) else 0).astype('int')\n",
        "\n",
        "  dataset['Title'] = dataset['Name'].apply(lambda x:x.split(',')[1].split('.')[0].strip())\n",
        "  dataset['Title'] = dataset['Title'].apply(lambda x: Title_Dictionary[x])\n",
        "\n",
        "  avg_age = dict(round(train.groupby(['Title'])['Age'].mean(),4))\n",
        "  for i in avg_age:\n",
        "    dataset['Age'].loc[(dataset.Title==i) & (dataset.Age.isna())]=avg_age[i]\n",
        "\n",
        "  for n in ['Name', 'Cabin', 'Ticket', 'Sex', 'Embarked']:\n",
        "    dataset.drop(n, axis=1, inplace = True)\n",
        "\n",
        "  return dataset"
      ],
      "metadata": {
        "id": "9tc2D2JbYxHJ"
      },
      "execution_count": 176,
      "outputs": []
    },
    {
      "cell_type": "code",
      "source": [
        "train = pd.read_csv('train.csv')\n",
        "test = pd.read_csv('test.csv')"
      ],
      "metadata": {
        "id": "Q7jNGPVy5drW"
      },
      "execution_count": 177,
      "outputs": []
    },
    {
      "cell_type": "code",
      "source": [
        "train = preprocessing(train)\n",
        "test = preprocessing(test)"
      ],
      "metadata": {
        "id": "I__77hX-ZYr3",
        "colab": {
          "base_uri": "https://localhost:8080/"
        },
        "outputId": "c3e55331-35e7-4b90-ef2d-403bcd6cbc71"
      },
      "execution_count": 178,
      "outputs": [
        {
          "output_type": "stream",
          "name": "stderr",
          "text": [
            "/usr/local/lib/python3.7/dist-packages/pandas/core/indexing.py:1732: SettingWithCopyWarning: \n",
            "A value is trying to be set on a copy of a slice from a DataFrame\n",
            "\n",
            "See the caveats in the documentation: https://pandas.pydata.org/pandas-docs/stable/user_guide/indexing.html#returning-a-view-versus-a-copy\n",
            "  self._setitem_single_block(indexer, value, name)\n"
          ]
        }
      ]
    },
    {
      "cell_type": "code",
      "source": [
        "train.info()"
      ],
      "metadata": {
        "colab": {
          "base_uri": "https://localhost:8080/"
        },
        "id": "WCcP6q1bZgrk",
        "outputId": "9181ba4a-1a76-4781-950c-0ef8e5e597eb"
      },
      "execution_count": 179,
      "outputs": [
        {
          "output_type": "stream",
          "name": "stdout",
          "text": [
            "<class 'pandas.core.frame.DataFrame'>\n",
            "RangeIndex: 891 entries, 0 to 890\n",
            "Data columns (total 11 columns):\n",
            " #   Column       Non-Null Count  Dtype  \n",
            "---  ------       --------------  -----  \n",
            " 0   PassengerId  891 non-null    int64  \n",
            " 1   Survived     891 non-null    int64  \n",
            " 2   Pclass       891 non-null    int64  \n",
            " 3   Age          891 non-null    float64\n",
            " 4   SibSp        891 non-null    int64  \n",
            " 5   Parch        891 non-null    int64  \n",
            " 6   Fare         891 non-null    float64\n",
            " 7   sex          891 non-null    int64  \n",
            " 8   embark       891 non-null    int64  \n",
            " 9   cabin        891 non-null    int64  \n",
            " 10  Title        891 non-null    int64  \n",
            "dtypes: float64(2), int64(9)\n",
            "memory usage: 76.7 KB\n"
          ]
        }
      ]
    },
    {
      "cell_type": "code",
      "source": [
        "test.info()"
      ],
      "metadata": {
        "colab": {
          "base_uri": "https://localhost:8080/"
        },
        "id": "GaYJorCw_MgZ",
        "outputId": "bbbf79a2-eb5e-4a7b-daa0-4bfaac95a883"
      },
      "execution_count": 180,
      "outputs": [
        {
          "output_type": "stream",
          "name": "stdout",
          "text": [
            "<class 'pandas.core.frame.DataFrame'>\n",
            "RangeIndex: 418 entries, 0 to 417\n",
            "Data columns (total 10 columns):\n",
            " #   Column       Non-Null Count  Dtype  \n",
            "---  ------       --------------  -----  \n",
            " 0   PassengerId  418 non-null    int64  \n",
            " 1   Pclass       418 non-null    int64  \n",
            " 2   Age          418 non-null    float64\n",
            " 3   SibSp        418 non-null    int64  \n",
            " 4   Parch        418 non-null    int64  \n",
            " 5   Fare         417 non-null    float64\n",
            " 6   sex          418 non-null    int64  \n",
            " 7   embark       418 non-null    int64  \n",
            " 8   cabin        418 non-null    int64  \n",
            " 9   Title        418 non-null    int64  \n",
            "dtypes: float64(2), int64(8)\n",
            "memory usage: 32.8 KB\n"
          ]
        }
      ]
    },
    {
      "cell_type": "code",
      "source": [
        "avg_fare = dict(round(train.groupby(['Pclass'])['Fare'].mean(),4))\n",
        "for i in avg_fare:\n",
        "    test['Fare'].loc[(test.Pclass==i) & (test.Fare.isna())]=avg_age[i]"
      ],
      "metadata": {
        "id": "YO93mpgQ_bxR"
      },
      "execution_count": 181,
      "outputs": []
    },
    {
      "cell_type": "code",
      "source": [
        "test.info()"
      ],
      "metadata": {
        "colab": {
          "base_uri": "https://localhost:8080/"
        },
        "id": "ylCaeZYI_sb9",
        "outputId": "d09a26e2-8348-479f-c6ba-df1c2dbb8c83"
      },
      "execution_count": 182,
      "outputs": [
        {
          "output_type": "stream",
          "name": "stdout",
          "text": [
            "<class 'pandas.core.frame.DataFrame'>\n",
            "RangeIndex: 418 entries, 0 to 417\n",
            "Data columns (total 10 columns):\n",
            " #   Column       Non-Null Count  Dtype  \n",
            "---  ------       --------------  -----  \n",
            " 0   PassengerId  418 non-null    int64  \n",
            " 1   Pclass       418 non-null    int64  \n",
            " 2   Age          418 non-null    float64\n",
            " 3   SibSp        418 non-null    int64  \n",
            " 4   Parch        418 non-null    int64  \n",
            " 5   Fare         418 non-null    float64\n",
            " 6   sex          418 non-null    int64  \n",
            " 7   embark       418 non-null    int64  \n",
            " 8   cabin        418 non-null    int64  \n",
            " 9   Title        418 non-null    int64  \n",
            "dtypes: float64(2), int64(8)\n",
            "memory usage: 32.8 KB\n"
          ]
        }
      ]
    },
    {
      "cell_type": "code",
      "source": [
        "train.head(5)"
      ],
      "metadata": {
        "colab": {
          "base_uri": "https://localhost:8080/",
          "height": 0
        },
        "id": "nAGVSLvTZqoj",
        "outputId": "853e3027-ccdb-4f87-95a6-603efb448029"
      },
      "execution_count": 183,
      "outputs": [
        {
          "output_type": "execute_result",
          "data": {
            "text/plain": [
              "   PassengerId  Survived  Pclass   Age  SibSp  Parch     Fare  sex  embark  \\\n",
              "0            1         0       3  22.0      1      0   7.2500    1       0   \n",
              "1            2         1       1  38.0      1      0  71.2833    0       1   \n",
              "2            3         1       3  26.0      0      0   7.9250    0       0   \n",
              "3            4         1       1  35.0      1      0  53.1000    0       0   \n",
              "4            5         0       3  35.0      0      0   8.0500    1       0   \n",
              "\n",
              "   cabin  Title  \n",
              "0      0      4  \n",
              "1      1      3  \n",
              "2      0      5  \n",
              "3      1      3  \n",
              "4      0      4  "
            ],
            "text/html": [
              "\n",
              "  <div id=\"df-32b0fbb3-5c23-407d-9e37-787297e58e9b\">\n",
              "    <div class=\"colab-df-container\">\n",
              "      <div>\n",
              "<style scoped>\n",
              "    .dataframe tbody tr th:only-of-type {\n",
              "        vertical-align: middle;\n",
              "    }\n",
              "\n",
              "    .dataframe tbody tr th {\n",
              "        vertical-align: top;\n",
              "    }\n",
              "\n",
              "    .dataframe thead th {\n",
              "        text-align: right;\n",
              "    }\n",
              "</style>\n",
              "<table border=\"1\" class=\"dataframe\">\n",
              "  <thead>\n",
              "    <tr style=\"text-align: right;\">\n",
              "      <th></th>\n",
              "      <th>PassengerId</th>\n",
              "      <th>Survived</th>\n",
              "      <th>Pclass</th>\n",
              "      <th>Age</th>\n",
              "      <th>SibSp</th>\n",
              "      <th>Parch</th>\n",
              "      <th>Fare</th>\n",
              "      <th>sex</th>\n",
              "      <th>embark</th>\n",
              "      <th>cabin</th>\n",
              "      <th>Title</th>\n",
              "    </tr>\n",
              "  </thead>\n",
              "  <tbody>\n",
              "    <tr>\n",
              "      <th>0</th>\n",
              "      <td>1</td>\n",
              "      <td>0</td>\n",
              "      <td>3</td>\n",
              "      <td>22.0</td>\n",
              "      <td>1</td>\n",
              "      <td>0</td>\n",
              "      <td>7.2500</td>\n",
              "      <td>1</td>\n",
              "      <td>0</td>\n",
              "      <td>0</td>\n",
              "      <td>4</td>\n",
              "    </tr>\n",
              "    <tr>\n",
              "      <th>1</th>\n",
              "      <td>2</td>\n",
              "      <td>1</td>\n",
              "      <td>1</td>\n",
              "      <td>38.0</td>\n",
              "      <td>1</td>\n",
              "      <td>0</td>\n",
              "      <td>71.2833</td>\n",
              "      <td>0</td>\n",
              "      <td>1</td>\n",
              "      <td>1</td>\n",
              "      <td>3</td>\n",
              "    </tr>\n",
              "    <tr>\n",
              "      <th>2</th>\n",
              "      <td>3</td>\n",
              "      <td>1</td>\n",
              "      <td>3</td>\n",
              "      <td>26.0</td>\n",
              "      <td>0</td>\n",
              "      <td>0</td>\n",
              "      <td>7.9250</td>\n",
              "      <td>0</td>\n",
              "      <td>0</td>\n",
              "      <td>0</td>\n",
              "      <td>5</td>\n",
              "    </tr>\n",
              "    <tr>\n",
              "      <th>3</th>\n",
              "      <td>4</td>\n",
              "      <td>1</td>\n",
              "      <td>1</td>\n",
              "      <td>35.0</td>\n",
              "      <td>1</td>\n",
              "      <td>0</td>\n",
              "      <td>53.1000</td>\n",
              "      <td>0</td>\n",
              "      <td>0</td>\n",
              "      <td>1</td>\n",
              "      <td>3</td>\n",
              "    </tr>\n",
              "    <tr>\n",
              "      <th>4</th>\n",
              "      <td>5</td>\n",
              "      <td>0</td>\n",
              "      <td>3</td>\n",
              "      <td>35.0</td>\n",
              "      <td>0</td>\n",
              "      <td>0</td>\n",
              "      <td>8.0500</td>\n",
              "      <td>1</td>\n",
              "      <td>0</td>\n",
              "      <td>0</td>\n",
              "      <td>4</td>\n",
              "    </tr>\n",
              "  </tbody>\n",
              "</table>\n",
              "</div>\n",
              "      <button class=\"colab-df-convert\" onclick=\"convertToInteractive('df-32b0fbb3-5c23-407d-9e37-787297e58e9b')\"\n",
              "              title=\"Convert this dataframe to an interactive table.\"\n",
              "              style=\"display:none;\">\n",
              "        \n",
              "  <svg xmlns=\"http://www.w3.org/2000/svg\" height=\"24px\"viewBox=\"0 0 24 24\"\n",
              "       width=\"24px\">\n",
              "    <path d=\"M0 0h24v24H0V0z\" fill=\"none\"/>\n",
              "    <path d=\"M18.56 5.44l.94 2.06.94-2.06 2.06-.94-2.06-.94-.94-2.06-.94 2.06-2.06.94zm-11 1L8.5 8.5l.94-2.06 2.06-.94-2.06-.94L8.5 2.5l-.94 2.06-2.06.94zm10 10l.94 2.06.94-2.06 2.06-.94-2.06-.94-.94-2.06-.94 2.06-2.06.94z\"/><path d=\"M17.41 7.96l-1.37-1.37c-.4-.4-.92-.59-1.43-.59-.52 0-1.04.2-1.43.59L10.3 9.45l-7.72 7.72c-.78.78-.78 2.05 0 2.83L4 21.41c.39.39.9.59 1.41.59.51 0 1.02-.2 1.41-.59l7.78-7.78 2.81-2.81c.8-.78.8-2.07 0-2.86zM5.41 20L4 18.59l7.72-7.72 1.47 1.35L5.41 20z\"/>\n",
              "  </svg>\n",
              "      </button>\n",
              "      \n",
              "  <style>\n",
              "    .colab-df-container {\n",
              "      display:flex;\n",
              "      flex-wrap:wrap;\n",
              "      gap: 12px;\n",
              "    }\n",
              "\n",
              "    .colab-df-convert {\n",
              "      background-color: #E8F0FE;\n",
              "      border: none;\n",
              "      border-radius: 50%;\n",
              "      cursor: pointer;\n",
              "      display: none;\n",
              "      fill: #1967D2;\n",
              "      height: 32px;\n",
              "      padding: 0 0 0 0;\n",
              "      width: 32px;\n",
              "    }\n",
              "\n",
              "    .colab-df-convert:hover {\n",
              "      background-color: #E2EBFA;\n",
              "      box-shadow: 0px 1px 2px rgba(60, 64, 67, 0.3), 0px 1px 3px 1px rgba(60, 64, 67, 0.15);\n",
              "      fill: #174EA6;\n",
              "    }\n",
              "\n",
              "    [theme=dark] .colab-df-convert {\n",
              "      background-color: #3B4455;\n",
              "      fill: #D2E3FC;\n",
              "    }\n",
              "\n",
              "    [theme=dark] .colab-df-convert:hover {\n",
              "      background-color: #434B5C;\n",
              "      box-shadow: 0px 1px 3px 1px rgba(0, 0, 0, 0.15);\n",
              "      filter: drop-shadow(0px 1px 2px rgba(0, 0, 0, 0.3));\n",
              "      fill: #FFFFFF;\n",
              "    }\n",
              "  </style>\n",
              "\n",
              "      <script>\n",
              "        const buttonEl =\n",
              "          document.querySelector('#df-32b0fbb3-5c23-407d-9e37-787297e58e9b button.colab-df-convert');\n",
              "        buttonEl.style.display =\n",
              "          google.colab.kernel.accessAllowed ? 'block' : 'none';\n",
              "\n",
              "        async function convertToInteractive(key) {\n",
              "          const element = document.querySelector('#df-32b0fbb3-5c23-407d-9e37-787297e58e9b');\n",
              "          const dataTable =\n",
              "            await google.colab.kernel.invokeFunction('convertToInteractive',\n",
              "                                                     [key], {});\n",
              "          if (!dataTable) return;\n",
              "\n",
              "          const docLinkHtml = 'Like what you see? Visit the ' +\n",
              "            '<a target=\"_blank\" href=https://colab.research.google.com/notebooks/data_table.ipynb>data table notebook</a>'\n",
              "            + ' to learn more about interactive tables.';\n",
              "          element.innerHTML = '';\n",
              "          dataTable['output_type'] = 'display_data';\n",
              "          await google.colab.output.renderOutput(dataTable, element);\n",
              "          const docLink = document.createElement('div');\n",
              "          docLink.innerHTML = docLinkHtml;\n",
              "          element.appendChild(docLink);\n",
              "        }\n",
              "      </script>\n",
              "    </div>\n",
              "  </div>\n",
              "  "
            ]
          },
          "metadata": {},
          "execution_count": 183
        }
      ]
    },
    {
      "cell_type": "code",
      "source": [
        "yData = train.pop('Survived').to_numpy()\n",
        "xData = train.to_numpy()\n",
        "\n",
        "x_train, x_test, y_train, y_test = train_test_split(xData, yData, test_size = .2, \n",
        "                                                    stratify=yData, shuffle=True, random_state = 42)\n",
        "x_train.shape, y_train.shape, x_test.shape, y_test.shape"
      ],
      "metadata": {
        "colab": {
          "base_uri": "https://localhost:8080/"
        },
        "id": "hkW649A_WpUV",
        "outputId": "e7a29fd4-1129-489f-c655-c6e66603ca6d"
      },
      "execution_count": 184,
      "outputs": [
        {
          "output_type": "execute_result",
          "data": {
            "text/plain": [
              "((712, 10), (712,), (179, 10), (179,))"
            ]
          },
          "metadata": {},
          "execution_count": 184
        }
      ]
    },
    {
      "cell_type": "markdown",
      "source": [
        "# XGBoost"
      ],
      "metadata": {
        "id": "02EastMoXG5Q"
      }
    },
    {
      "cell_type": "code",
      "source": [
        "param_grid = {\n",
        "    'n_estimators': [100, 200, 500, 800], \n",
        "    'learning_rate': [0.001, 0.01, 0.1, 0.3]\n",
        "    }\n",
        "\n",
        "xgb = XGBClassifier()\n",
        "xgb_grid = GridSearchCV(xgb, param_grid, cv=3, scoring='accuracy', verbose = 3)\n",
        "xgb_grid.fit(x_train, y_train)"
      ],
      "metadata": {
        "colab": {
          "base_uri": "https://localhost:8080/"
        },
        "id": "vDBpr6xOXCKJ",
        "outputId": "59242338-dac3-46e6-d5c2-76dd8eff4295"
      },
      "execution_count": 185,
      "outputs": [
        {
          "output_type": "stream",
          "name": "stdout",
          "text": [
            "Fitting 3 folds for each of 16 candidates, totalling 48 fits\n",
            "[CV 1/3] END learning_rate=0.001, n_estimators=100;, score=0.803 total time=   0.0s\n",
            "[CV 2/3] END learning_rate=0.001, n_estimators=100;, score=0.806 total time=   0.0s\n",
            "[CV 3/3] END learning_rate=0.001, n_estimators=100;, score=0.806 total time=   0.0s\n",
            "[CV 1/3] END learning_rate=0.001, n_estimators=200;, score=0.803 total time=   0.1s\n",
            "[CV 2/3] END learning_rate=0.001, n_estimators=200;, score=0.806 total time=   0.1s\n",
            "[CV 3/3] END learning_rate=0.001, n_estimators=200;, score=0.810 total time=   0.1s\n",
            "[CV 1/3] END learning_rate=0.001, n_estimators=500;, score=0.803 total time=   0.2s\n",
            "[CV 2/3] END learning_rate=0.001, n_estimators=500;, score=0.814 total time=   0.2s\n",
            "[CV 3/3] END learning_rate=0.001, n_estimators=500;, score=0.814 total time=   0.2s\n",
            "[CV 1/3] END learning_rate=0.001, n_estimators=800;, score=0.803 total time=   0.3s\n",
            "[CV 2/3] END learning_rate=0.001, n_estimators=800;, score=0.814 total time=   0.3s\n",
            "[CV 3/3] END learning_rate=0.001, n_estimators=800;, score=0.814 total time=   0.3s\n",
            "[CV 1/3] END learning_rate=0.01, n_estimators=100;, score=0.794 total time=   0.0s\n",
            "[CV 2/3] END learning_rate=0.01, n_estimators=100;, score=0.814 total time=   0.0s\n",
            "[CV 3/3] END learning_rate=0.01, n_estimators=100;, score=0.814 total time=   0.0s\n",
            "[CV 1/3] END learning_rate=0.01, n_estimators=200;, score=0.794 total time=   0.1s\n",
            "[CV 2/3] END learning_rate=0.01, n_estimators=200;, score=0.814 total time=   0.1s\n",
            "[CV 3/3] END learning_rate=0.01, n_estimators=200;, score=0.819 total time=   0.1s\n",
            "[CV 1/3] END learning_rate=0.01, n_estimators=500;, score=0.815 total time=   0.2s\n",
            "[CV 2/3] END learning_rate=0.01, n_estimators=500;, score=0.827 total time=   0.2s\n",
            "[CV 3/3] END learning_rate=0.01, n_estimators=500;, score=0.823 total time=   0.2s\n",
            "[CV 1/3] END learning_rate=0.01, n_estimators=800;, score=0.815 total time=   0.3s\n",
            "[CV 2/3] END learning_rate=0.01, n_estimators=800;, score=0.840 total time=   0.3s\n",
            "[CV 3/3] END learning_rate=0.01, n_estimators=800;, score=0.814 total time=   0.3s\n",
            "[CV 1/3] END learning_rate=0.1, n_estimators=100;, score=0.807 total time=   0.0s\n",
            "[CV 2/3] END learning_rate=0.1, n_estimators=100;, score=0.840 total time=   0.0s\n",
            "[CV 3/3] END learning_rate=0.1, n_estimators=100;, score=0.797 total time=   0.0s\n",
            "[CV 1/3] END learning_rate=0.1, n_estimators=200;, score=0.807 total time=   0.1s\n",
            "[CV 2/3] END learning_rate=0.1, n_estimators=200;, score=0.840 total time=   0.1s\n",
            "[CV 3/3] END learning_rate=0.1, n_estimators=200;, score=0.806 total time=   0.1s\n",
            "[CV 1/3] END learning_rate=0.1, n_estimators=500;, score=0.803 total time=   0.2s\n",
            "[CV 2/3] END learning_rate=0.1, n_estimators=500;, score=0.848 total time=   0.2s\n",
            "[CV 3/3] END learning_rate=0.1, n_estimators=500;, score=0.759 total time=   0.2s\n",
            "[CV 1/3] END learning_rate=0.1, n_estimators=800;, score=0.807 total time=   0.3s\n",
            "[CV 2/3] END learning_rate=0.1, n_estimators=800;, score=0.844 total time=   0.3s\n",
            "[CV 3/3] END learning_rate=0.1, n_estimators=800;, score=0.755 total time=   0.2s\n",
            "[CV 1/3] END learning_rate=0.3, n_estimators=100;, score=0.803 total time=   0.0s\n",
            "[CV 2/3] END learning_rate=0.3, n_estimators=100;, score=0.852 total time=   0.0s\n",
            "[CV 3/3] END learning_rate=0.3, n_estimators=100;, score=0.789 total time=   0.0s\n",
            "[CV 1/3] END learning_rate=0.3, n_estimators=200;, score=0.807 total time=   0.1s\n",
            "[CV 2/3] END learning_rate=0.3, n_estimators=200;, score=0.844 total time=   0.1s\n",
            "[CV 3/3] END learning_rate=0.3, n_estimators=200;, score=0.764 total time=   0.1s\n",
            "[CV 1/3] END learning_rate=0.3, n_estimators=500;, score=0.798 total time=   0.2s\n",
            "[CV 2/3] END learning_rate=0.3, n_estimators=500;, score=0.840 total time=   0.2s\n",
            "[CV 3/3] END learning_rate=0.3, n_estimators=500;, score=0.764 total time=   0.2s\n",
            "[CV 1/3] END learning_rate=0.3, n_estimators=800;, score=0.798 total time=   0.3s\n",
            "[CV 2/3] END learning_rate=0.3, n_estimators=800;, score=0.835 total time=   0.3s\n",
            "[CV 3/3] END learning_rate=0.3, n_estimators=800;, score=0.764 total time=   0.2s\n"
          ]
        },
        {
          "output_type": "execute_result",
          "data": {
            "text/plain": [
              "GridSearchCV(cv=3, estimator=XGBClassifier(),\n",
              "             param_grid={'learning_rate': [0.001, 0.01, 0.1, 0.3],\n",
              "                         'n_estimators': [100, 200, 500, 800]},\n",
              "             scoring='accuracy', verbose=3)"
            ]
          },
          "metadata": {},
          "execution_count": 185
        }
      ]
    },
    {
      "cell_type": "code",
      "source": [
        "print(xgb_grid.best_params_)"
      ],
      "metadata": {
        "colab": {
          "base_uri": "https://localhost:8080/"
        },
        "id": "7S6jotWnXUCq",
        "outputId": "d07b36ff-a24e-44be-99c5-306215413929"
      },
      "execution_count": 186,
      "outputs": [
        {
          "output_type": "stream",
          "name": "stdout",
          "text": [
            "{'learning_rate': 0.01, 'n_estimators': 800}\n"
          ]
        }
      ]
    },
    {
      "cell_type": "code",
      "source": [
        "final_xgb = XGBClassifier(learning_rate=0.01, n_estimators=800)\n",
        "eval_set = [(x_train, y_train), (x_test, y_test)]\n",
        "final_xgb.fit(x_train, y_train, early_stopping_rounds=15, eval_metric=[\"error\", \"logloss\"], eval_set=eval_set, verbose=True)\n",
        "final_xgb_label_pred = final_xgb.predict(x_test)"
      ],
      "metadata": {
        "colab": {
          "base_uri": "https://localhost:8080/"
        },
        "id": "QUlFJ29IaDIp",
        "outputId": "8f06e2fc-b80b-4bd6-f127-dac6219de959"
      },
      "execution_count": 187,
      "outputs": [
        {
          "output_type": "stream",
          "name": "stdout",
          "text": [
            "[0]\tvalidation_0-error:0.164326\tvalidation_0-logloss:0.688201\tvalidation_1-error:0.217877\tvalidation_1-logloss:0.689236\n",
            "Multiple eval metrics have been passed: 'validation_1-logloss' will be used for early stopping.\n",
            "\n",
            "Will train until validation_1-logloss hasn't improved in 15 rounds.\n",
            "[1]\tvalidation_0-error:0.164326\tvalidation_0-logloss:0.683357\tvalidation_1-error:0.217877\tvalidation_1-logloss:0.685283\n",
            "[2]\tvalidation_0-error:0.164326\tvalidation_0-logloss:0.678602\tvalidation_1-error:0.217877\tvalidation_1-logloss:0.681413\n",
            "[3]\tvalidation_0-error:0.164326\tvalidation_0-logloss:0.673939\tvalidation_1-error:0.217877\tvalidation_1-logloss:0.677622\n",
            "[4]\tvalidation_0-error:0.164326\tvalidation_0-logloss:0.669361\tvalidation_1-error:0.217877\tvalidation_1-logloss:0.673913\n",
            "[5]\tvalidation_0-error:0.164326\tvalidation_0-logloss:0.664871\tvalidation_1-error:0.217877\tvalidation_1-logloss:0.670276\n",
            "[6]\tvalidation_0-error:0.164326\tvalidation_0-logloss:0.660467\tvalidation_1-error:0.217877\tvalidation_1-logloss:0.666566\n",
            "[7]\tvalidation_0-error:0.164326\tvalidation_0-logloss:0.656143\tvalidation_1-error:0.217877\tvalidation_1-logloss:0.663076\n",
            "[8]\tvalidation_0-error:0.164326\tvalidation_0-logloss:0.651892\tvalidation_1-error:0.217877\tvalidation_1-logloss:0.659509\n",
            "[9]\tvalidation_0-error:0.164326\tvalidation_0-logloss:0.64773\tvalidation_1-error:0.217877\tvalidation_1-logloss:0.656158\n",
            "[10]\tvalidation_0-error:0.164326\tvalidation_0-logloss:0.643655\tvalidation_1-error:0.217877\tvalidation_1-logloss:0.652798\n",
            "[11]\tvalidation_0-error:0.164326\tvalidation_0-logloss:0.639651\tvalidation_1-error:0.217877\tvalidation_1-logloss:0.649649\n",
            "[12]\tvalidation_0-error:0.164326\tvalidation_0-logloss:0.635715\tvalidation_1-error:0.217877\tvalidation_1-logloss:0.646418\n",
            "[13]\tvalidation_0-error:0.164326\tvalidation_0-logloss:0.631853\tvalidation_1-error:0.217877\tvalidation_1-logloss:0.643395\n",
            "[14]\tvalidation_0-error:0.164326\tvalidation_0-logloss:0.628068\tvalidation_1-error:0.217877\tvalidation_1-logloss:0.640287\n",
            "[15]\tvalidation_0-error:0.164326\tvalidation_0-logloss:0.624338\tvalidation_1-error:0.217877\tvalidation_1-logloss:0.637439\n",
            "[16]\tvalidation_0-error:0.164326\tvalidation_0-logloss:0.620681\tvalidation_1-error:0.217877\tvalidation_1-logloss:0.634591\n",
            "[17]\tvalidation_0-error:0.164326\tvalidation_0-logloss:0.617079\tvalidation_1-error:0.217877\tvalidation_1-logloss:0.631656\n",
            "[18]\tvalidation_0-error:0.164326\tvalidation_0-logloss:0.613551\tvalidation_1-error:0.217877\tvalidation_1-logloss:0.628975\n",
            "[19]\tvalidation_0-error:0.164326\tvalidation_0-logloss:0.610075\tvalidation_1-error:0.217877\tvalidation_1-logloss:0.626293\n",
            "[20]\tvalidation_0-error:0.164326\tvalidation_0-logloss:0.606665\tvalidation_1-error:0.217877\tvalidation_1-logloss:0.623521\n",
            "[21]\tvalidation_0-error:0.164326\tvalidation_0-logloss:0.60331\tvalidation_1-error:0.217877\tvalidation_1-logloss:0.620995\n",
            "[22]\tvalidation_0-error:0.164326\tvalidation_0-logloss:0.600014\tvalidation_1-error:0.217877\tvalidation_1-logloss:0.618327\n",
            "[23]\tvalidation_0-error:0.164326\tvalidation_0-logloss:0.59677\tvalidation_1-error:0.217877\tvalidation_1-logloss:0.615847\n",
            "[24]\tvalidation_0-error:0.164326\tvalidation_0-logloss:0.593585\tvalidation_1-error:0.217877\tvalidation_1-logloss:0.613307\n",
            "[25]\tvalidation_0-error:0.164326\tvalidation_0-logloss:0.590454\tvalidation_1-error:0.217877\tvalidation_1-logloss:0.611005\n",
            "[26]\tvalidation_0-error:0.164326\tvalidation_0-logloss:0.587372\tvalidation_1-error:0.217877\tvalidation_1-logloss:0.608739\n",
            "[27]\tvalidation_0-error:0.164326\tvalidation_0-logloss:0.584346\tvalidation_1-error:0.217877\tvalidation_1-logloss:0.606339\n",
            "[28]\tvalidation_0-error:0.162921\tvalidation_0-logloss:0.581366\tvalidation_1-error:0.21229\tvalidation_1-logloss:0.604212\n",
            "[29]\tvalidation_0-error:0.164326\tvalidation_0-logloss:0.578441\tvalidation_1-error:0.217877\tvalidation_1-logloss:0.602032\n",
            "[30]\tvalidation_0-error:0.162921\tvalidation_0-logloss:0.575562\tvalidation_1-error:0.21229\tvalidation_1-logloss:0.599802\n",
            "[31]\tvalidation_0-error:0.162921\tvalidation_0-logloss:0.572727\tvalidation_1-error:0.21229\tvalidation_1-logloss:0.597755\n",
            "[32]\tvalidation_0-error:0.162921\tvalidation_0-logloss:0.56992\tvalidation_1-error:0.21229\tvalidation_1-logloss:0.595667\n",
            "[33]\tvalidation_0-error:0.162921\tvalidation_0-logloss:0.567155\tvalidation_1-error:0.21229\tvalidation_1-logloss:0.593443\n",
            "[34]\tvalidation_0-error:0.162921\tvalidation_0-logloss:0.564441\tvalidation_1-error:0.21229\tvalidation_1-logloss:0.59148\n",
            "[35]\tvalidation_0-error:0.162921\tvalidation_0-logloss:0.561772\tvalidation_1-error:0.21229\tvalidation_1-logloss:0.589467\n",
            "[36]\tvalidation_0-error:0.162921\tvalidation_0-logloss:0.559142\tvalidation_1-error:0.21229\tvalidation_1-logloss:0.587399\n",
            "[37]\tvalidation_0-error:0.162921\tvalidation_0-logloss:0.556556\tvalidation_1-error:0.21229\tvalidation_1-logloss:0.58533\n",
            "[38]\tvalidation_0-error:0.162921\tvalidation_0-logloss:0.554011\tvalidation_1-error:0.21229\tvalidation_1-logloss:0.583514\n",
            "[39]\tvalidation_0-error:0.162921\tvalidation_0-logloss:0.551507\tvalidation_1-error:0.21229\tvalidation_1-logloss:0.581645\n",
            "[40]\tvalidation_0-error:0.162921\tvalidation_0-logloss:0.549041\tvalidation_1-error:0.21229\tvalidation_1-logloss:0.579721\n",
            "[41]\tvalidation_0-error:0.162921\tvalidation_0-logloss:0.546617\tvalidation_1-error:0.21229\tvalidation_1-logloss:0.577969\n",
            "[42]\tvalidation_0-error:0.162921\tvalidation_0-logloss:0.544233\tvalidation_1-error:0.21229\tvalidation_1-logloss:0.576239\n",
            "[43]\tvalidation_0-error:0.162921\tvalidation_0-logloss:0.541884\tvalidation_1-error:0.21229\tvalidation_1-logloss:0.574379\n",
            "[44]\tvalidation_0-error:0.162921\tvalidation_0-logloss:0.539571\tvalidation_1-error:0.21229\tvalidation_1-logloss:0.572759\n",
            "[45]\tvalidation_0-error:0.162921\tvalidation_0-logloss:0.537299\tvalidation_1-error:0.21229\tvalidation_1-logloss:0.57109\n",
            "[46]\tvalidation_0-error:0.162921\tvalidation_0-logloss:0.53506\tvalidation_1-error:0.21229\tvalidation_1-logloss:0.56936\n",
            "[47]\tvalidation_0-error:0.162921\tvalidation_0-logloss:0.532857\tvalidation_1-error:0.21229\tvalidation_1-logloss:0.567806\n",
            "[48]\tvalidation_0-error:0.162921\tvalidation_0-logloss:0.530688\tvalidation_1-error:0.21229\tvalidation_1-logloss:0.566281\n",
            "[49]\tvalidation_0-error:0.162921\tvalidation_0-logloss:0.528547\tvalidation_1-error:0.21229\tvalidation_1-logloss:0.564617\n",
            "[50]\tvalidation_0-error:0.162921\tvalidation_0-logloss:0.526446\tvalidation_1-error:0.21229\tvalidation_1-logloss:0.563181\n",
            "[51]\tvalidation_0-error:0.162921\tvalidation_0-logloss:0.524376\tvalidation_1-error:0.21229\tvalidation_1-logloss:0.561573\n",
            "[52]\tvalidation_0-error:0.162921\tvalidation_0-logloss:0.522335\tvalidation_1-error:0.21229\tvalidation_1-logloss:0.560116\n",
            "[53]\tvalidation_0-error:0.162921\tvalidation_0-logloss:0.520327\tvalidation_1-error:0.21229\tvalidation_1-logloss:0.558628\n",
            "[54]\tvalidation_0-error:0.162921\tvalidation_0-logloss:0.518349\tvalidation_1-error:0.21229\tvalidation_1-logloss:0.557223\n",
            "[55]\tvalidation_0-error:0.162921\tvalidation_0-logloss:0.5164\tvalidation_1-error:0.21229\tvalidation_1-logloss:0.55593\n",
            "[56]\tvalidation_0-error:0.162921\tvalidation_0-logloss:0.514485\tvalidation_1-error:0.21229\tvalidation_1-logloss:0.554455\n",
            "[57]\tvalidation_0-error:0.162921\tvalidation_0-logloss:0.512594\tvalidation_1-error:0.21229\tvalidation_1-logloss:0.553168\n",
            "[58]\tvalidation_0-error:0.162921\tvalidation_0-logloss:0.510731\tvalidation_1-error:0.21229\tvalidation_1-logloss:0.551905\n",
            "[59]\tvalidation_0-error:0.162921\tvalidation_0-logloss:0.508898\tvalidation_1-error:0.21229\tvalidation_1-logloss:0.550536\n",
            "[60]\tvalidation_0-error:0.162921\tvalidation_0-logloss:0.507005\tvalidation_1-error:0.21229\tvalidation_1-logloss:0.548879\n",
            "[61]\tvalidation_0-error:0.162921\tvalidation_0-logloss:0.505224\tvalidation_1-error:0.21229\tvalidation_1-logloss:0.547728\n",
            "[62]\tvalidation_0-error:0.162921\tvalidation_0-logloss:0.503472\tvalidation_1-error:0.21229\tvalidation_1-logloss:0.546396\n",
            "[63]\tvalidation_0-error:0.162921\tvalidation_0-logloss:0.501748\tvalidation_1-error:0.21229\tvalidation_1-logloss:0.545267\n",
            "[64]\tvalidation_0-error:0.162921\tvalidation_0-logloss:0.499955\tvalidation_1-error:0.21229\tvalidation_1-logloss:0.543587\n",
            "[65]\tvalidation_0-error:0.162921\tvalidation_0-logloss:0.498277\tvalidation_1-error:0.21229\tvalidation_1-logloss:0.542521\n",
            "[66]\tvalidation_0-error:0.162921\tvalidation_0-logloss:0.496537\tvalidation_1-error:0.21229\tvalidation_1-logloss:0.540906\n",
            "[67]\tvalidation_0-error:0.162921\tvalidation_0-logloss:0.494908\tvalidation_1-error:0.21229\tvalidation_1-logloss:0.539881\n",
            "[68]\tvalidation_0-error:0.162921\tvalidation_0-logloss:0.493308\tvalidation_1-error:0.21229\tvalidation_1-logloss:0.538791\n",
            "[69]\tvalidation_0-error:0.162921\tvalidation_0-logloss:0.491726\tvalidation_1-error:0.21229\tvalidation_1-logloss:0.53767\n",
            "[70]\tvalidation_0-error:0.162921\tvalidation_0-logloss:0.490078\tvalidation_1-error:0.21229\tvalidation_1-logloss:0.536266\n",
            "[71]\tvalidation_0-error:0.162921\tvalidation_0-logloss:0.488543\tvalidation_1-error:0.21229\tvalidation_1-logloss:0.53528\n",
            "[72]\tvalidation_0-error:0.162921\tvalidation_0-logloss:0.487034\tvalidation_1-error:0.21229\tvalidation_1-logloss:0.534172\n",
            "[73]\tvalidation_0-error:0.162921\tvalidation_0-logloss:0.485544\tvalidation_1-error:0.21229\tvalidation_1-logloss:0.533111\n",
            "[74]\tvalidation_0-error:0.162921\tvalidation_0-logloss:0.483985\tvalidation_1-error:0.21229\tvalidation_1-logloss:0.531794\n",
            "[75]\tvalidation_0-error:0.162921\tvalidation_0-logloss:0.48254\tvalidation_1-error:0.21229\tvalidation_1-logloss:0.53088\n",
            "[76]\tvalidation_0-error:0.162921\tvalidation_0-logloss:0.481019\tvalidation_1-error:0.21229\tvalidation_1-logloss:0.529488\n",
            "[77]\tvalidation_0-error:0.162921\tvalidation_0-logloss:0.479614\tvalidation_1-error:0.21229\tvalidation_1-logloss:0.528647\n",
            "[78]\tvalidation_0-error:0.162921\tvalidation_0-logloss:0.478231\tvalidation_1-error:0.21229\tvalidation_1-logloss:0.527738\n",
            "[79]\tvalidation_0-error:0.162921\tvalidation_0-logloss:0.476865\tvalidation_1-error:0.21229\tvalidation_1-logloss:0.526801\n",
            "[80]\tvalidation_0-error:0.162921\tvalidation_0-logloss:0.47543\tvalidation_1-error:0.21229\tvalidation_1-logloss:0.525594\n",
            "[81]\tvalidation_0-error:0.162921\tvalidation_0-logloss:0.474103\tvalidation_1-error:0.21229\tvalidation_1-logloss:0.524659\n",
            "[82]\tvalidation_0-error:0.162921\tvalidation_0-logloss:0.472705\tvalidation_1-error:0.21229\tvalidation_1-logloss:0.523449\n",
            "[83]\tvalidation_0-error:0.162921\tvalidation_0-logloss:0.471417\tvalidation_1-error:0.21229\tvalidation_1-logloss:0.522559\n",
            "[84]\tvalidation_0-error:0.162921\tvalidation_0-logloss:0.470148\tvalidation_1-error:0.21229\tvalidation_1-logloss:0.5218\n",
            "[85]\tvalidation_0-error:0.162921\tvalidation_0-logloss:0.468804\tvalidation_1-error:0.21229\tvalidation_1-logloss:0.520639\n",
            "[86]\tvalidation_0-error:0.162921\tvalidation_0-logloss:0.467571\tvalidation_1-error:0.21229\tvalidation_1-logloss:0.519802\n",
            "[87]\tvalidation_0-error:0.162921\tvalidation_0-logloss:0.466264\tvalidation_1-error:0.21229\tvalidation_1-logloss:0.518711\n",
            "[88]\tvalidation_0-error:0.162921\tvalidation_0-logloss:0.465066\tvalidation_1-error:0.21229\tvalidation_1-logloss:0.517884\n",
            "[89]\tvalidation_0-error:0.162921\tvalidation_0-logloss:0.463792\tvalidation_1-error:0.21229\tvalidation_1-logloss:0.516788\n",
            "[90]\tvalidation_0-error:0.162921\tvalidation_0-logloss:0.462627\tvalidation_1-error:0.21229\tvalidation_1-logloss:0.515982\n",
            "[91]\tvalidation_0-error:0.162921\tvalidation_0-logloss:0.461481\tvalidation_1-error:0.21229\tvalidation_1-logloss:0.515348\n",
            "[92]\tvalidation_0-error:0.162921\tvalidation_0-logloss:0.460258\tvalidation_1-error:0.21229\tvalidation_1-logloss:0.514297\n",
            "[93]\tvalidation_0-error:0.162921\tvalidation_0-logloss:0.459138\tvalidation_1-error:0.21229\tvalidation_1-logloss:0.513539\n",
            "[94]\tvalidation_0-error:0.162921\tvalidation_0-logloss:0.45795\tvalidation_1-error:0.21229\tvalidation_1-logloss:0.512551\n",
            "[95]\tvalidation_0-error:0.162921\tvalidation_0-logloss:0.456865\tvalidation_1-error:0.21229\tvalidation_1-logloss:0.511914\n",
            "[96]\tvalidation_0-error:0.162921\tvalidation_0-logloss:0.455706\tvalidation_1-error:0.21229\tvalidation_1-logloss:0.510835\n",
            "[97]\tvalidation_0-error:0.162921\tvalidation_0-logloss:0.45465\tvalidation_1-error:0.21229\tvalidation_1-logloss:0.510246\n",
            "[98]\tvalidation_0-error:0.162921\tvalidation_0-logloss:0.453572\tvalidation_1-error:0.21229\tvalidation_1-logloss:0.509538\n",
            "[99]\tvalidation_0-error:0.162921\tvalidation_0-logloss:0.452508\tvalidation_1-error:0.21229\tvalidation_1-logloss:0.508927\n",
            "[100]\tvalidation_0-error:0.162921\tvalidation_0-logloss:0.451408\tvalidation_1-error:0.21229\tvalidation_1-logloss:0.5079\n",
            "[101]\tvalidation_0-error:0.162921\tvalidation_0-logloss:0.450406\tvalidation_1-error:0.21229\tvalidation_1-logloss:0.507365\n",
            "[102]\tvalidation_0-error:0.162921\tvalidation_0-logloss:0.44938\tvalidation_1-error:0.21229\tvalidation_1-logloss:0.50679\n",
            "[103]\tvalidation_0-error:0.162921\tvalidation_0-logloss:0.44837\tvalidation_1-error:0.21229\tvalidation_1-logloss:0.506127\n",
            "[104]\tvalidation_0-error:0.162921\tvalidation_0-logloss:0.447323\tvalidation_1-error:0.21229\tvalidation_1-logloss:0.505266\n",
            "[105]\tvalidation_0-error:0.162921\tvalidation_0-logloss:0.44637\tvalidation_1-error:0.21229\tvalidation_1-logloss:0.504648\n",
            "[106]\tvalidation_0-error:0.162921\tvalidation_0-logloss:0.445397\tvalidation_1-error:0.21229\tvalidation_1-logloss:0.504118\n",
            "[107]\tvalidation_0-error:0.162921\tvalidation_0-logloss:0.444387\tvalidation_1-error:0.21229\tvalidation_1-logloss:0.503177\n",
            "[108]\tvalidation_0-error:0.162921\tvalidation_0-logloss:0.443439\tvalidation_1-error:0.21229\tvalidation_1-logloss:0.5027\n",
            "[109]\tvalidation_0-error:0.162921\tvalidation_0-logloss:0.442534\tvalidation_1-error:0.21229\tvalidation_1-logloss:0.50225\n",
            "[110]\tvalidation_0-error:0.162921\tvalidation_0-logloss:0.441607\tvalidation_1-error:0.21229\tvalidation_1-logloss:0.501762\n",
            "[111]\tvalidation_0-error:0.162921\tvalidation_0-logloss:0.440645\tvalidation_1-error:0.21229\tvalidation_1-logloss:0.500864\n",
            "[112]\tvalidation_0-error:0.162921\tvalidation_0-logloss:0.439741\tvalidation_1-error:0.21229\tvalidation_1-logloss:0.500439\n",
            "[113]\tvalidation_0-error:0.162921\tvalidation_0-logloss:0.43888\tvalidation_1-error:0.21229\tvalidation_1-logloss:0.500021\n",
            "[114]\tvalidation_0-error:0.162921\tvalidation_0-logloss:0.437998\tvalidation_1-error:0.21229\tvalidation_1-logloss:0.499573\n",
            "[115]\tvalidation_0-error:0.162921\tvalidation_0-logloss:0.437081\tvalidation_1-error:0.21229\tvalidation_1-logloss:0.49884\n",
            "[116]\tvalidation_0-error:0.162921\tvalidation_0-logloss:0.43622\tvalidation_1-error:0.21229\tvalidation_1-logloss:0.498329\n",
            "[117]\tvalidation_0-error:0.162921\tvalidation_0-logloss:0.435325\tvalidation_1-error:0.21229\tvalidation_1-logloss:0.497617\n",
            "[118]\tvalidation_0-error:0.162921\tvalidation_0-logloss:0.434484\tvalidation_1-error:0.21229\tvalidation_1-logloss:0.497236\n",
            "[119]\tvalidation_0-error:0.162921\tvalidation_0-logloss:0.433688\tvalidation_1-error:0.21229\tvalidation_1-logloss:0.496831\n",
            "[120]\tvalidation_0-error:0.162921\tvalidation_0-logloss:0.432866\tvalidation_1-error:0.21229\tvalidation_1-logloss:0.496357\n",
            "[121]\tvalidation_0-error:0.162921\tvalidation_0-logloss:0.432012\tvalidation_1-error:0.21229\tvalidation_1-logloss:0.495682\n",
            "[122]\tvalidation_0-error:0.162921\tvalidation_0-logloss:0.43121\tvalidation_1-error:0.21229\tvalidation_1-logloss:0.495286\n",
            "[123]\tvalidation_0-error:0.162921\tvalidation_0-logloss:0.430452\tvalidation_1-error:0.21229\tvalidation_1-logloss:0.49495\n",
            "[124]\tvalidation_0-error:0.162921\tvalidation_0-logloss:0.429669\tvalidation_1-error:0.21229\tvalidation_1-logloss:0.49463\n",
            "[125]\tvalidation_0-error:0.162921\tvalidation_0-logloss:0.428854\tvalidation_1-error:0.21229\tvalidation_1-logloss:0.493949\n",
            "[126]\tvalidation_0-error:0.162921\tvalidation_0-logloss:0.42809\tvalidation_1-error:0.21229\tvalidation_1-logloss:0.493586\n",
            "[127]\tvalidation_0-error:0.162921\tvalidation_0-logloss:0.427294\tvalidation_1-error:0.21229\tvalidation_1-logloss:0.492828\n",
            "[128]\tvalidation_0-error:0.162921\tvalidation_0-logloss:0.426548\tvalidation_1-error:0.21229\tvalidation_1-logloss:0.49254\n",
            "[129]\tvalidation_0-error:0.162921\tvalidation_0-logloss:0.425843\tvalidation_1-error:0.21229\tvalidation_1-logloss:0.492211\n",
            "[130]\tvalidation_0-error:0.162921\tvalidation_0-logloss:0.425114\tvalidation_1-error:0.21229\tvalidation_1-logloss:0.491878\n",
            "[131]\tvalidation_0-error:0.162921\tvalidation_0-logloss:0.424354\tvalidation_1-error:0.21229\tvalidation_1-logloss:0.491277\n",
            "[132]\tvalidation_0-error:0.162921\tvalidation_0-logloss:0.423642\tvalidation_1-error:0.21229\tvalidation_1-logloss:0.491018\n",
            "[133]\tvalidation_0-error:0.162921\tvalidation_0-logloss:0.422971\tvalidation_1-error:0.21229\tvalidation_1-logloss:0.490638\n",
            "[134]\tvalidation_0-error:0.162921\tvalidation_0-logloss:0.422276\tvalidation_1-error:0.21229\tvalidation_1-logloss:0.490334\n",
            "[135]\tvalidation_0-error:0.162921\tvalidation_0-logloss:0.421549\tvalidation_1-error:0.21229\tvalidation_1-logloss:0.489734\n",
            "[136]\tvalidation_0-error:0.162921\tvalidation_0-logloss:0.420869\tvalidation_1-error:0.21229\tvalidation_1-logloss:0.489502\n",
            "[137]\tvalidation_0-error:0.162921\tvalidation_0-logloss:0.420161\tvalidation_1-error:0.21229\tvalidation_1-logloss:0.488945\n",
            "[138]\tvalidation_0-error:0.162921\tvalidation_0-logloss:0.419496\tvalidation_1-error:0.21229\tvalidation_1-logloss:0.488669\n",
            "[139]\tvalidation_0-error:0.162921\tvalidation_0-logloss:0.418872\tvalidation_1-error:0.21229\tvalidation_1-logloss:0.48845\n",
            "[140]\tvalidation_0-error:0.162921\tvalidation_0-logloss:0.418223\tvalidation_1-error:0.21229\tvalidation_1-logloss:0.488207\n",
            "[141]\tvalidation_0-error:0.162921\tvalidation_0-logloss:0.417546\tvalidation_1-error:0.21229\tvalidation_1-logloss:0.487572\n",
            "[142]\tvalidation_0-error:0.162921\tvalidation_0-logloss:0.416911\tvalidation_1-error:0.21229\tvalidation_1-logloss:0.487321\n",
            "[143]\tvalidation_0-error:0.162921\tvalidation_0-logloss:0.41625\tvalidation_1-error:0.21229\tvalidation_1-logloss:0.486816\n",
            "[144]\tvalidation_0-error:0.162921\tvalidation_0-logloss:0.415629\tvalidation_1-error:0.21229\tvalidation_1-logloss:0.486626\n",
            "[145]\tvalidation_0-error:0.162921\tvalidation_0-logloss:0.415046\tvalidation_1-error:0.21229\tvalidation_1-logloss:0.486243\n",
            "[146]\tvalidation_0-error:0.162921\tvalidation_0-logloss:0.414407\tvalidation_1-error:0.21229\tvalidation_1-logloss:0.485758\n",
            "[147]\tvalidation_0-error:0.162921\tvalidation_0-logloss:0.413806\tvalidation_1-error:0.21229\tvalidation_1-logloss:0.485537\n",
            "[148]\tvalidation_0-error:0.162921\tvalidation_0-logloss:0.413181\tvalidation_1-error:0.21229\tvalidation_1-logloss:0.484951\n",
            "[149]\tvalidation_0-error:0.162921\tvalidation_0-logloss:0.412595\tvalidation_1-error:0.21229\tvalidation_1-logloss:0.48479\n",
            "[150]\tvalidation_0-error:0.162921\tvalidation_0-logloss:0.411984\tvalidation_1-error:0.21229\tvalidation_1-logloss:0.484331\n",
            "[151]\tvalidation_0-error:0.160112\tvalidation_0-logloss:0.411409\tvalidation_1-error:0.206704\tvalidation_1-logloss:0.48419\n",
            "[152]\tvalidation_0-error:0.160112\tvalidation_0-logloss:0.410871\tvalidation_1-error:0.206704\tvalidation_1-logloss:0.483842\n",
            "[153]\tvalidation_0-error:0.160112\tvalidation_0-logloss:0.41031\tvalidation_1-error:0.206704\tvalidation_1-logloss:0.483654\n",
            "[154]\tvalidation_0-error:0.160112\tvalidation_0-logloss:0.409724\tvalidation_1-error:0.206704\tvalidation_1-logloss:0.483166\n",
            "[155]\tvalidation_0-error:0.160112\tvalidation_0-logloss:0.409176\tvalidation_1-error:0.206704\tvalidation_1-logloss:0.483051\n",
            "[156]\tvalidation_0-error:0.160112\tvalidation_0-logloss:0.408603\tvalidation_1-error:0.206704\tvalidation_1-logloss:0.482663\n",
            "[157]\tvalidation_0-error:0.160112\tvalidation_0-logloss:0.408065\tvalidation_1-error:0.206704\tvalidation_1-logloss:0.482501\n",
            "[158]\tvalidation_0-error:0.160112\tvalidation_0-logloss:0.407505\tvalidation_1-error:0.206704\tvalidation_1-logloss:0.481976\n",
            "[159]\tvalidation_0-error:0.160112\tvalidation_0-logloss:0.40698\tvalidation_1-error:0.206704\tvalidation_1-logloss:0.481876\n",
            "[160]\tvalidation_0-error:0.160112\tvalidation_0-logloss:0.406486\tvalidation_1-error:0.206704\tvalidation_1-logloss:0.481567\n",
            "[161]\tvalidation_0-error:0.160112\tvalidation_0-logloss:0.405943\tvalidation_1-error:0.206704\tvalidation_1-logloss:0.481169\n",
            "[162]\tvalidation_0-error:0.160112\tvalidation_0-logloss:0.405434\tvalidation_1-error:0.206704\tvalidation_1-logloss:0.481073\n",
            "[163]\tvalidation_0-error:0.160112\tvalidation_0-logloss:0.404904\tvalidation_1-error:0.206704\tvalidation_1-logloss:0.480629\n",
            "[164]\tvalidation_0-error:0.160112\tvalidation_0-logloss:0.404405\tvalidation_1-error:0.206704\tvalidation_1-logloss:0.480552\n",
            "[165]\tvalidation_0-error:0.160112\tvalidation_0-logloss:0.403888\tvalidation_1-error:0.206704\tvalidation_1-logloss:0.480124\n",
            "[166]\tvalidation_0-error:0.160112\tvalidation_0-logloss:0.4034\tvalidation_1-error:0.206704\tvalidation_1-logloss:0.47995\n",
            "[167]\tvalidation_0-error:0.160112\tvalidation_0-logloss:0.402943\tvalidation_1-error:0.206704\tvalidation_1-logloss:0.4797\n",
            "[168]\tvalidation_0-error:0.160112\tvalidation_0-logloss:0.402441\tvalidation_1-error:0.206704\tvalidation_1-logloss:0.47933\n",
            "[169]\tvalidation_0-error:0.160112\tvalidation_0-logloss:0.401967\tvalidation_1-error:0.206704\tvalidation_1-logloss:0.47924\n",
            "[170]\tvalidation_0-error:0.158708\tvalidation_0-logloss:0.401499\tvalidation_1-error:0.206704\tvalidation_1-logloss:0.479187\n",
            "[171]\tvalidation_0-error:0.158708\tvalidation_0-logloss:0.401013\tvalidation_1-error:0.206704\tvalidation_1-logloss:0.478787\n",
            "[172]\tvalidation_0-error:0.158708\tvalidation_0-logloss:0.400554\tvalidation_1-error:0.206704\tvalidation_1-logloss:0.478692\n",
            "[173]\tvalidation_0-error:0.158708\tvalidation_0-logloss:0.400079\tvalidation_1-error:0.206704\tvalidation_1-logloss:0.478388\n",
            "[174]\tvalidation_0-error:0.158708\tvalidation_0-logloss:0.39963\tvalidation_1-error:0.206704\tvalidation_1-logloss:0.478351\n",
            "[175]\tvalidation_0-error:0.158708\tvalidation_0-logloss:0.39921\tvalidation_1-error:0.206704\tvalidation_1-logloss:0.478036\n",
            "[176]\tvalidation_0-error:0.158708\tvalidation_0-logloss:0.398749\tvalidation_1-error:0.206704\tvalidation_1-logloss:0.477661\n",
            "[177]\tvalidation_0-error:0.158708\tvalidation_0-logloss:0.398313\tvalidation_1-error:0.206704\tvalidation_1-logloss:0.477601\n",
            "[178]\tvalidation_0-error:0.158708\tvalidation_0-logloss:0.397863\tvalidation_1-error:0.206704\tvalidation_1-logloss:0.477313\n",
            "[179]\tvalidation_0-error:0.158708\tvalidation_0-logloss:0.397436\tvalidation_1-error:0.206704\tvalidation_1-logloss:0.477295\n",
            "[180]\tvalidation_0-error:0.158708\tvalidation_0-logloss:0.396994\tvalidation_1-error:0.206704\tvalidation_1-logloss:0.476941\n",
            "[181]\tvalidation_0-error:0.158708\tvalidation_0-logloss:0.396578\tvalidation_1-error:0.206704\tvalidation_1-logloss:0.476872\n",
            "[182]\tvalidation_0-error:0.158708\tvalidation_0-logloss:0.396143\tvalidation_1-error:0.206704\tvalidation_1-logloss:0.47658\n",
            "[183]\tvalidation_0-error:0.158708\tvalidation_0-logloss:0.395758\tvalidation_1-error:0.206704\tvalidation_1-logloss:0.47639\n",
            "[184]\tvalidation_0-error:0.158708\tvalidation_0-logloss:0.395352\tvalidation_1-error:0.206704\tvalidation_1-logloss:0.476339\n",
            "[185]\tvalidation_0-error:0.158708\tvalidation_0-logloss:0.394934\tvalidation_1-error:0.206704\tvalidation_1-logloss:0.476055\n",
            "[186]\tvalidation_0-error:0.158708\tvalidation_0-logloss:0.394534\tvalidation_1-error:0.206704\tvalidation_1-logloss:0.475981\n",
            "[187]\tvalidation_0-error:0.158708\tvalidation_0-logloss:0.394124\tvalidation_1-error:0.206704\tvalidation_1-logloss:0.475651\n",
            "[188]\tvalidation_0-error:0.158708\tvalidation_0-logloss:0.393734\tvalidation_1-error:0.206704\tvalidation_1-logloss:0.475683\n",
            "[189]\tvalidation_0-error:0.158708\tvalidation_0-logloss:0.393348\tvalidation_1-error:0.206704\tvalidation_1-logloss:0.47573\n",
            "[190]\tvalidation_0-error:0.158708\tvalidation_0-logloss:0.392949\tvalidation_1-error:0.206704\tvalidation_1-logloss:0.475442\n",
            "[191]\tvalidation_0-error:0.158708\tvalidation_0-logloss:0.39257\tvalidation_1-error:0.206704\tvalidation_1-logloss:0.475441\n",
            "[192]\tvalidation_0-error:0.158708\tvalidation_0-logloss:0.392215\tvalidation_1-error:0.206704\tvalidation_1-logloss:0.475254\n",
            "[193]\tvalidation_0-error:0.158708\tvalidation_0-logloss:0.391829\tvalidation_1-error:0.206704\tvalidation_1-logloss:0.474981\n",
            "[194]\tvalidation_0-error:0.158708\tvalidation_0-logloss:0.391461\tvalidation_1-error:0.206704\tvalidation_1-logloss:0.475042\n",
            "[195]\tvalidation_0-error:0.158708\tvalidation_0-logloss:0.391096\tvalidation_1-error:0.206704\tvalidation_1-logloss:0.475052\n",
            "[196]\tvalidation_0-error:0.158708\tvalidation_0-logloss:0.39072\tvalidation_1-error:0.206704\tvalidation_1-logloss:0.474808\n",
            "[197]\tvalidation_0-error:0.158708\tvalidation_0-logloss:0.390362\tvalidation_1-error:0.206704\tvalidation_1-logloss:0.474815\n",
            "[198]\tvalidation_0-error:0.158708\tvalidation_0-logloss:0.390029\tvalidation_1-error:0.206704\tvalidation_1-logloss:0.474666\n",
            "[199]\tvalidation_0-error:0.158708\tvalidation_0-logloss:0.389664\tvalidation_1-error:0.206704\tvalidation_1-logloss:0.474375\n",
            "[200]\tvalidation_0-error:0.158708\tvalidation_0-logloss:0.389316\tvalidation_1-error:0.206704\tvalidation_1-logloss:0.474448\n",
            "[201]\tvalidation_0-error:0.158708\tvalidation_0-logloss:0.38897\tvalidation_1-error:0.206704\tvalidation_1-logloss:0.474413\n",
            "[202]\tvalidation_0-error:0.158708\tvalidation_0-logloss:0.388616\tvalidation_1-error:0.206704\tvalidation_1-logloss:0.474169\n",
            "[203]\tvalidation_0-error:0.158708\tvalidation_0-logloss:0.388277\tvalidation_1-error:0.206704\tvalidation_1-logloss:0.474242\n",
            "[204]\tvalidation_0-error:0.158708\tvalidation_0-logloss:0.387859\tvalidation_1-error:0.206704\tvalidation_1-logloss:0.474104\n",
            "[205]\tvalidation_0-error:0.158708\tvalidation_0-logloss:0.387447\tvalidation_1-error:0.206704\tvalidation_1-logloss:0.47407\n",
            "[206]\tvalidation_0-error:0.158708\tvalidation_0-logloss:0.387114\tvalidation_1-error:0.206704\tvalidation_1-logloss:0.47415\n",
            "[207]\tvalidation_0-error:0.158708\tvalidation_0-logloss:0.386708\tvalidation_1-error:0.206704\tvalidation_1-logloss:0.474118\n",
            "[208]\tvalidation_0-error:0.158708\tvalidation_0-logloss:0.386382\tvalidation_1-error:0.206704\tvalidation_1-logloss:0.474194\n",
            "[209]\tvalidation_0-error:0.158708\tvalidation_0-logloss:0.385982\tvalidation_1-error:0.206704\tvalidation_1-logloss:0.474166\n",
            "[210]\tvalidation_0-error:0.158708\tvalidation_0-logloss:0.385589\tvalidation_1-error:0.206704\tvalidation_1-logloss:0.474042\n",
            "[211]\tvalidation_0-error:0.158708\tvalidation_0-logloss:0.385267\tvalidation_1-error:0.206704\tvalidation_1-logloss:0.474128\n",
            "[212]\tvalidation_0-error:0.158708\tvalidation_0-logloss:0.384879\tvalidation_1-error:0.206704\tvalidation_1-logloss:0.474106\n",
            "[213]\tvalidation_0-error:0.158708\tvalidation_0-logloss:0.384498\tvalidation_1-error:0.206704\tvalidation_1-logloss:0.474128\n",
            "[214]\tvalidation_0-error:0.158708\tvalidation_0-logloss:0.384183\tvalidation_1-error:0.206704\tvalidation_1-logloss:0.474209\n",
            "[215]\tvalidation_0-error:0.158708\tvalidation_0-logloss:0.383806\tvalidation_1-error:0.206704\tvalidation_1-logloss:0.474251\n",
            "[216]\tvalidation_0-error:0.158708\tvalidation_0-logloss:0.383512\tvalidation_1-error:0.206704\tvalidation_1-logloss:0.474258\n",
            "[217]\tvalidation_0-error:0.158708\tvalidation_0-logloss:0.383142\tvalidation_1-error:0.206704\tvalidation_1-logloss:0.474243\n",
            "[218]\tvalidation_0-error:0.155899\tvalidation_0-logloss:0.382833\tvalidation_1-error:0.206704\tvalidation_1-logloss:0.474328\n",
            "[219]\tvalidation_0-error:0.155899\tvalidation_0-logloss:0.38247\tvalidation_1-error:0.206704\tvalidation_1-logloss:0.474374\n",
            "[220]\tvalidation_0-error:0.154494\tvalidation_0-logloss:0.382058\tvalidation_1-error:0.206704\tvalidation_1-logloss:0.474174\n",
            "[221]\tvalidation_0-error:0.15309\tvalidation_0-logloss:0.381654\tvalidation_1-error:0.206704\tvalidation_1-logloss:0.47398\n",
            "[222]\tvalidation_0-error:0.151685\tvalidation_0-logloss:0.381256\tvalidation_1-error:0.206704\tvalidation_1-logloss:0.473791\n",
            "[223]\tvalidation_0-error:0.151685\tvalidation_0-logloss:0.380903\tvalidation_1-error:0.206704\tvalidation_1-logloss:0.473802\n",
            "[224]\tvalidation_0-error:0.151685\tvalidation_0-logloss:0.380515\tvalidation_1-error:0.206704\tvalidation_1-logloss:0.473618\n",
            "[225]\tvalidation_0-error:0.151685\tvalidation_0-logloss:0.380133\tvalidation_1-error:0.206704\tvalidation_1-logloss:0.473453\n",
            "[226]\tvalidation_0-error:0.151685\tvalidation_0-logloss:0.37986\tvalidation_1-error:0.206704\tvalidation_1-logloss:0.473454\n",
            "[227]\tvalidation_0-error:0.151685\tvalidation_0-logloss:0.379593\tvalidation_1-error:0.206704\tvalidation_1-logloss:0.473458\n",
            "[228]\tvalidation_0-error:0.151685\tvalidation_0-logloss:0.379328\tvalidation_1-error:0.206704\tvalidation_1-logloss:0.473464\n",
            "[229]\tvalidation_0-error:0.151685\tvalidation_0-logloss:0.379069\tvalidation_1-error:0.206704\tvalidation_1-logloss:0.473473\n",
            "[230]\tvalidation_0-error:0.151685\tvalidation_0-logloss:0.378814\tvalidation_1-error:0.206704\tvalidation_1-logloss:0.473485\n",
            "[231]\tvalidation_0-error:0.151685\tvalidation_0-logloss:0.378518\tvalidation_1-error:0.206704\tvalidation_1-logloss:0.473588\n",
            "[232]\tvalidation_0-error:0.151685\tvalidation_0-logloss:0.378267\tvalidation_1-error:0.206704\tvalidation_1-logloss:0.473602\n",
            "[233]\tvalidation_0-error:0.151685\tvalidation_0-logloss:0.37802\tvalidation_1-error:0.206704\tvalidation_1-logloss:0.473619\n",
            "[234]\tvalidation_0-error:0.151685\tvalidation_0-logloss:0.377777\tvalidation_1-error:0.206704\tvalidation_1-logloss:0.473637\n",
            "[235]\tvalidation_0-error:0.151685\tvalidation_0-logloss:0.377526\tvalidation_1-error:0.206704\tvalidation_1-logloss:0.473679\n",
            "[236]\tvalidation_0-error:0.151685\tvalidation_0-logloss:0.37725\tvalidation_1-error:0.206704\tvalidation_1-logloss:0.473691\n",
            "[237]\tvalidation_0-error:0.151685\tvalidation_0-logloss:0.377013\tvalidation_1-error:0.206704\tvalidation_1-logloss:0.473713\n",
            "[238]\tvalidation_0-error:0.151685\tvalidation_0-logloss:0.37678\tvalidation_1-error:0.206704\tvalidation_1-logloss:0.473736\n",
            "[239]\tvalidation_0-error:0.151685\tvalidation_0-logloss:0.376537\tvalidation_1-error:0.206704\tvalidation_1-logloss:0.473782\n",
            "[240]\tvalidation_0-error:0.151685\tvalidation_0-logloss:0.376252\tvalidation_1-error:0.206704\tvalidation_1-logloss:0.473894\n",
            "Stopping. Best iteration:\n",
            "[225]\tvalidation_0-error:0.151685\tvalidation_0-logloss:0.380133\tvalidation_1-error:0.206704\tvalidation_1-logloss:0.473453\n",
            "\n"
          ]
        }
      ]
    },
    {
      "cell_type": "code",
      "source": [
        "results = final_xgb.evals_result()\n",
        "epochs = len(results['validation_0']['error'])\n",
        "x_axis = range(0, epochs)\n",
        "\n",
        "# plot log loss\n",
        "fig, ax = plt.subplots()\n",
        "ax.plot(x_axis, results['validation_0']['logloss'], label='Train')\n",
        "ax.plot(x_axis, results['validation_1']['logloss'], label='Test')\n",
        "ax.legend()\n",
        "plt.ylabel('Log Loss')\n",
        "plt.title('XGBoost Log Loss')\n",
        "plt.show()\n",
        "\n",
        "# plot classification error\n",
        "fig, ax = plt.subplots()\n",
        "ax.plot(x_axis, results['validation_0']['error'], label='Train')\n",
        "ax.plot(x_axis, results['validation_1']['error'], label='Test')\n",
        "ax.legend()\n",
        "plt.ylabel('Classification Error')\n",
        "plt.title('XGBoost Classification Error')\n",
        "plt.show()"
      ],
      "metadata": {
        "colab": {
          "base_uri": "https://localhost:8080/",
          "height": 545
        },
        "id": "qN4PnPE8aKI2",
        "outputId": "a01fd19a-c5c4-44fb-ccb2-4e55ba98eec7"
      },
      "execution_count": 188,
      "outputs": [
        {
          "output_type": "display_data",
          "data": {
            "text/plain": [
              "<Figure size 432x288 with 1 Axes>"
            ],
            "image/png": "[encoded data removed]"
          },
          "metadata": {
            "needs_background": "light"
          }
        },
        {
          "output_type": "display_data",
          "data": {
            "text/plain": [
              "<Figure size 432x288 with 1 Axes>"
            ],
            "image/png": "[encoded data removed]"
          },
          "metadata": {
            "needs_background": "light"
          }
        }
      ]
    },
    {
      "cell_type": "code",
      "source": [
        "xgb_acc = accuracy_score(y_test, final_xgb_label_pred)\n",
        "print(\"Accuracy for XGBoost on test set: {:.3f}\".format(xgb_acc))\n",
        "\n",
        "print(f\"Classification report for classifier XGBoost:\\n\"\n",
        "      f\"{classification_report(y_test, final_xgb_label_pred)}\")"
      ],
      "metadata": {
        "colab": {
          "base_uri": "https://localhost:8080/"
        },
        "id": "Q_bBDlhEaOQZ",
        "outputId": "87589bef-03ab-49b2-883c-f0d86d48238c"
      },
      "execution_count": 189,
      "outputs": [
        {
          "output_type": "stream",
          "name": "stdout",
          "text": [
            "Accuracy for XGBoost on test set: 0.793\n",
            "Classification report for classifier XGBoost:\n",
            "              precision    recall  f1-score   support\n",
            "\n",
            "           0       0.78      0.93      0.85       110\n",
            "           1       0.83      0.58      0.68        69\n",
            "\n",
            "    accuracy                           0.79       179\n",
            "   macro avg       0.81      0.75      0.77       179\n",
            "weighted avg       0.80      0.79      0.78       179\n",
            "\n"
          ]
        }
      ]
    },
    {
      "cell_type": "code",
      "source": [
        "skplt.metrics.plot_confusion_matrix(y_test, final_xgb_label_pred, figsize=(6,6), cmap= 'YlGnBu');"
      ],
      "metadata": {
        "colab": {
          "base_uri": "https://localhost:8080/",
          "height": 359
        },
        "id": "i2vZyny_aQQw",
        "outputId": "7e8e1d1e-1da2-4dc2-89a8-7b7c9daea87b"
      },
      "execution_count": 190,
      "outputs": [
        {
          "output_type": "display_data",
          "data": {
            "text/plain": [
              "<Figure size 432x432 with 2 Axes>"
            ],
            "image/png": "[encoded data removed]"
          },
          "metadata": {
            "needs_background": "light"
          }
        }
      ]
    },
    {
      "cell_type": "markdown",
      "source": [
        "# Random Forest"
      ],
      "metadata": {
        "id": "rOL8faiQ5zvF"
      }
    },
    {
      "cell_type": "code",
      "source": [
        "param_grid = { \n",
        "    'n_estimators': [100, 200, 500, 1000],\n",
        "    'criterion' :['gini', 'entropy'],\n",
        "    'max_depth' :[1,3,4,5,6,7,8]\n",
        "}\n",
        "\n",
        "rf = RandomForestClassifier()\n",
        "rf_grid = GridSearchCV(rf, param_grid, cv=3, scoring='accuracy', verbose = 3)\n",
        "rf_grid.fit(x_train, y_train)"
      ],
      "metadata": {
        "colab": {
          "base_uri": "https://localhost:8080/"
        },
        "id": "Ea2YOpW45zC0",
        "outputId": "b4617323-86ab-41b4-bc34-b6eff383e5a7"
      },
      "execution_count": 163,
      "outputs": [
        {
          "output_type": "stream",
          "name": "stdout",
          "text": [
            "Fitting 3 folds for each of 56 candidates, totalling 168 fits\n",
            "[CV 1/3] END criterion=gini, max_depth=1, n_estimators=100;, score=0.731 total time=   0.2s\n",
            "[CV 2/3] END criterion=gini, max_depth=1, n_estimators=100;, score=0.747 total time=   0.2s\n",
            "[CV 3/3] END criterion=gini, max_depth=1, n_estimators=100;, score=0.759 total time=   0.2s\n",
            "[CV 1/3] END criterion=gini, max_depth=1, n_estimators=200;, score=0.752 total time=   0.3s\n",
            "[CV 2/3] END criterion=gini, max_depth=1, n_estimators=200;, score=0.747 total time=   0.3s\n",
            "[CV 3/3] END criterion=gini, max_depth=1, n_estimators=200;, score=0.759 total time=   0.3s\n",
            "[CV 1/3] END criterion=gini, max_depth=1, n_estimators=500;, score=0.777 total time=   0.7s\n",
            "[CV 2/3] END criterion=gini, max_depth=1, n_estimators=500;, score=0.772 total time=   0.8s\n",
            "[CV 3/3] END criterion=gini, max_depth=1, n_estimators=500;, score=0.768 total time=   0.8s\n",
            "[CV 1/3] END criterion=gini, max_depth=1, n_estimators=1000;, score=0.794 total time=   1.6s\n",
            "[CV 2/3] END criterion=gini, max_depth=1, n_estimators=1000;, score=0.747 total time=   1.5s\n",
            "[CV 3/3] END criterion=gini, max_depth=1, n_estimators=1000;, score=0.764 total time=   1.5s\n",
            "[CV 1/3] END criterion=gini, max_depth=3, n_estimators=100;, score=0.803 total time=   0.2s\n",
            "[CV 2/3] END criterion=gini, max_depth=3, n_estimators=100;, score=0.823 total time=   0.2s\n",
            "[CV 3/3] END criterion=gini, max_depth=3, n_estimators=100;, score=0.814 total time=   0.2s\n",
            "[CV 1/3] END criterion=gini, max_depth=3, n_estimators=200;, score=0.798 total time=   0.3s\n",
            "[CV 2/3] END criterion=gini, max_depth=3, n_estimators=200;, score=0.827 total time=   0.3s\n",
            "[CV 3/3] END criterion=gini, max_depth=3, n_estimators=200;, score=0.806 total time=   0.3s\n",
            "[CV 1/3] END criterion=gini, max_depth=3, n_estimators=500;, score=0.819 total time=   0.8s\n",
            "[CV 2/3] END criterion=gini, max_depth=3, n_estimators=500;, score=0.835 total time=   0.8s\n",
            "[CV 3/3] END criterion=gini, max_depth=3, n_estimators=500;, score=0.814 total time=   0.8s\n",
            "[CV 1/3] END criterion=gini, max_depth=3, n_estimators=1000;, score=0.798 total time=   1.6s\n",
            "[CV 2/3] END criterion=gini, max_depth=3, n_estimators=1000;, score=0.831 total time=   1.6s\n",
            "[CV 3/3] END criterion=gini, max_depth=3, n_estimators=1000;, score=0.810 total time=   1.6s\n",
            "[CV 1/3] END criterion=gini, max_depth=4, n_estimators=100;, score=0.807 total time=   0.2s\n",
            "[CV 2/3] END criterion=gini, max_depth=4, n_estimators=100;, score=0.831 total time=   0.2s\n",
            "[CV 3/3] END criterion=gini, max_depth=4, n_estimators=100;, score=0.819 total time=   0.2s\n",
            "[CV 1/3] END criterion=gini, max_depth=4, n_estimators=200;, score=0.798 total time=   0.3s\n",
            "[CV 2/3] END criterion=gini, max_depth=4, n_estimators=200;, score=0.827 total time=   0.3s\n",
            "[CV 3/3] END criterion=gini, max_depth=4, n_estimators=200;, score=0.819 total time=   0.3s\n",
            "[CV 1/3] END criterion=gini, max_depth=4, n_estimators=500;, score=0.803 total time=   0.8s\n",
            "[CV 2/3] END criterion=gini, max_depth=4, n_estimators=500;, score=0.827 total time=   0.8s\n",
            "[CV 3/3] END criterion=gini, max_depth=4, n_estimators=500;, score=0.819 total time=   0.8s\n",
            "[CV 1/3] END criterion=gini, max_depth=4, n_estimators=1000;, score=0.807 total time=   1.6s\n",
            "[CV 2/3] END criterion=gini, max_depth=4, n_estimators=1000;, score=0.840 total time=   1.6s\n",
            "[CV 3/3] END criterion=gini, max_depth=4, n_estimators=1000;, score=0.823 total time=   1.8s\n",
            "[CV 1/3] END criterion=gini, max_depth=5, n_estimators=100;, score=0.807 total time=   0.2s\n",
            "[CV 2/3] END criterion=gini, max_depth=5, n_estimators=100;, score=0.831 total time=   0.2s\n",
            "[CV 3/3] END criterion=gini, max_depth=5, n_estimators=100;, score=0.819 total time=   0.2s\n",
            "[CV 1/3] END criterion=gini, max_depth=5, n_estimators=200;, score=0.819 total time=   0.3s\n",
            "[CV 2/3] END criterion=gini, max_depth=5, n_estimators=200;, score=0.823 total time=   0.3s\n",
            "[CV 3/3] END criterion=gini, max_depth=5, n_estimators=200;, score=0.840 total time=   0.3s\n",
            "[CV 1/3] END criterion=gini, max_depth=5, n_estimators=500;, score=0.807 total time=   0.8s\n",
            "[CV 2/3] END criterion=gini, max_depth=5, n_estimators=500;, score=0.819 total time=   0.9s\n",
            "[CV 3/3] END criterion=gini, max_depth=5, n_estimators=500;, score=0.819 total time=   0.8s\n",
            "[CV 1/3] END criterion=gini, max_depth=5, n_estimators=1000;, score=0.798 total time=   1.7s\n",
            "[CV 2/3] END criterion=gini, max_depth=5, n_estimators=1000;, score=0.814 total time=   1.7s\n",
            "[CV 3/3] END criterion=gini, max_depth=5, n_estimators=1000;, score=0.819 total time=   1.7s\n",
            "[CV 1/3] END criterion=gini, max_depth=6, n_estimators=100;, score=0.815 total time=   0.2s\n",
            "[CV 2/3] END criterion=gini, max_depth=6, n_estimators=100;, score=0.835 total time=   0.2s\n",
            "[CV 3/3] END criterion=gini, max_depth=6, n_estimators=100;, score=0.806 total time=   0.2s\n",
            "[CV 1/3] END criterion=gini, max_depth=6, n_estimators=200;, score=0.798 total time=   0.3s\n",
            "[CV 2/3] END criterion=gini, max_depth=6, n_estimators=200;, score=0.823 total time=   0.3s\n",
            "[CV 3/3] END criterion=gini, max_depth=6, n_estimators=200;, score=0.810 total time=   0.3s\n",
            "[CV 1/3] END criterion=gini, max_depth=6, n_estimators=500;, score=0.807 total time=   0.9s\n",
            "[CV 2/3] END criterion=gini, max_depth=6, n_estimators=500;, score=0.835 total time=   0.9s\n",
            "[CV 3/3] END criterion=gini, max_depth=6, n_estimators=500;, score=0.819 total time=   0.9s\n",
            "[CV 1/3] END criterion=gini, max_depth=6, n_estimators=1000;, score=0.807 total time=   1.7s\n",
            "[CV 2/3] END criterion=gini, max_depth=6, n_estimators=1000;, score=0.827 total time=   1.7s\n",
            "[CV 3/3] END criterion=gini, max_depth=6, n_estimators=1000;, score=0.810 total time=   1.7s\n",
            "[CV 1/3] END criterion=gini, max_depth=7, n_estimators=100;, score=0.815 total time=   0.2s\n",
            "[CV 2/3] END criterion=gini, max_depth=7, n_estimators=100;, score=0.840 total time=   0.2s\n",
            "[CV 3/3] END criterion=gini, max_depth=7, n_estimators=100;, score=0.814 total time=   0.2s\n",
            "[CV 1/3] END criterion=gini, max_depth=7, n_estimators=200;, score=0.824 total time=   0.4s\n",
            "[CV 2/3] END criterion=gini, max_depth=7, n_estimators=200;, score=0.810 total time=   0.4s\n",
            "[CV 3/3] END criterion=gini, max_depth=7, n_estimators=200;, score=0.827 total time=   0.3s\n",
            "[CV 1/3] END criterion=gini, max_depth=7, n_estimators=500;, score=0.807 total time=   0.9s\n",
            "[CV 2/3] END criterion=gini, max_depth=7, n_estimators=500;, score=0.823 total time=   0.9s\n",
            "[CV 3/3] END criterion=gini, max_depth=7, n_estimators=500;, score=0.819 total time=   0.9s\n",
            "[CV 1/3] END criterion=gini, max_depth=7, n_estimators=1000;, score=0.819 total time=   1.8s\n",
            "[CV 2/3] END criterion=gini, max_depth=7, n_estimators=1000;, score=0.827 total time=   1.7s\n",
            "[CV 3/3] END criterion=gini, max_depth=7, n_estimators=1000;, score=0.823 total time=   1.8s\n",
            "[CV 1/3] END criterion=gini, max_depth=8, n_estimators=100;, score=0.803 total time=   0.2s\n",
            "[CV 2/3] END criterion=gini, max_depth=8, n_estimators=100;, score=0.840 total time=   0.2s\n",
            "[CV 3/3] END criterion=gini, max_depth=8, n_estimators=100;, score=0.823 total time=   0.3s\n",
            "[CV 1/3] END criterion=gini, max_depth=8, n_estimators=200;, score=0.811 total time=   0.6s\n",
            "[CV 2/3] END criterion=gini, max_depth=8, n_estimators=200;, score=0.827 total time=   0.7s\n",
            "[CV 3/3] END criterion=gini, max_depth=8, n_estimators=200;, score=0.819 total time=   0.7s\n",
            "[CV 1/3] END criterion=gini, max_depth=8, n_estimators=500;, score=0.815 total time=   1.7s\n",
            "[CV 2/3] END criterion=gini, max_depth=8, n_estimators=500;, score=0.827 total time=   1.2s\n",
            "[CV 3/3] END criterion=gini, max_depth=8, n_estimators=500;, score=0.806 total time=   0.9s\n",
            "[CV 1/3] END criterion=gini, max_depth=8, n_estimators=1000;, score=0.819 total time=   1.7s\n",
            "[CV 2/3] END criterion=gini, max_depth=8, n_estimators=1000;, score=0.823 total time=   1.7s\n",
            "[CV 3/3] END criterion=gini, max_depth=8, n_estimators=1000;, score=0.823 total time=   1.7s\n",
            "[CV 1/3] END criterion=entropy, max_depth=1, n_estimators=100;, score=0.752 total time=   0.1s\n",
            "[CV 2/3] END criterion=entropy, max_depth=1, n_estimators=100;, score=0.759 total time=   0.2s\n",
            "[CV 3/3] END criterion=entropy, max_depth=1, n_estimators=100;, score=0.772 total time=   0.2s\n",
            "[CV 1/3] END criterion=entropy, max_depth=1, n_estimators=200;, score=0.790 total time=   0.3s\n",
            "[CV 2/3] END criterion=entropy, max_depth=1, n_estimators=200;, score=0.751 total time=   0.3s\n",
            "[CV 3/3] END criterion=entropy, max_depth=1, n_estimators=200;, score=0.776 total time=   0.3s\n",
            "[CV 1/3] END criterion=entropy, max_depth=1, n_estimators=500;, score=0.782 total time=   0.7s\n",
            "[CV 2/3] END criterion=entropy, max_depth=1, n_estimators=500;, score=0.755 total time=   0.7s\n",
            "[CV 3/3] END criterion=entropy, max_depth=1, n_estimators=500;, score=0.764 total time=   0.8s\n",
            "[CV 1/3] END criterion=entropy, max_depth=1, n_estimators=1000;, score=0.794 total time=   1.5s\n",
            "[CV 2/3] END criterion=entropy, max_depth=1, n_estimators=1000;, score=0.772 total time=   1.5s\n",
            "[CV 3/3] END criterion=entropy, max_depth=1, n_estimators=1000;, score=0.764 total time=   1.5s\n",
            "[CV 1/3] END criterion=entropy, max_depth=3, n_estimators=100;, score=0.798 total time=   0.2s\n",
            "[CV 2/3] END criterion=entropy, max_depth=3, n_estimators=100;, score=0.840 total time=   0.2s\n",
            "[CV 3/3] END criterion=entropy, max_depth=3, n_estimators=100;, score=0.810 total time=   0.2s\n",
            "[CV 1/3] END criterion=entropy, max_depth=3, n_estimators=200;, score=0.803 total time=   0.3s\n",
            "[CV 2/3] END criterion=entropy, max_depth=3, n_estimators=200;, score=0.835 total time=   0.3s\n",
            "[CV 3/3] END criterion=entropy, max_depth=3, n_estimators=200;, score=0.806 total time=   0.3s\n",
            "[CV 1/3] END criterion=entropy, max_depth=3, n_estimators=500;, score=0.798 total time=   0.8s\n",
            "[CV 2/3] END criterion=entropy, max_depth=3, n_estimators=500;, score=0.831 total time=   0.9s\n",
            "[CV 3/3] END criterion=entropy, max_depth=3, n_estimators=500;, score=0.802 total time=   0.8s\n",
            "[CV 1/3] END criterion=entropy, max_depth=3, n_estimators=1000;, score=0.798 total time=   1.7s\n",
            "[CV 2/3] END criterion=entropy, max_depth=3, n_estimators=1000;, score=0.835 total time=   1.6s\n",
            "[CV 3/3] END criterion=entropy, max_depth=3, n_estimators=1000;, score=0.810 total time=   1.7s\n",
            "[CV 1/3] END criterion=entropy, max_depth=4, n_estimators=100;, score=0.807 total time=   0.2s\n",
            "[CV 2/3] END criterion=entropy, max_depth=4, n_estimators=100;, score=0.848 total time=   0.2s\n",
            "[CV 3/3] END criterion=entropy, max_depth=4, n_estimators=100;, score=0.814 total time=   0.2s\n",
            "[CV 1/3] END criterion=entropy, max_depth=4, n_estimators=200;, score=0.811 total time=   0.4s\n",
            "[CV 2/3] END criterion=entropy, max_depth=4, n_estimators=200;, score=0.831 total time=   0.3s\n",
            "[CV 3/3] END criterion=entropy, max_depth=4, n_estimators=200;, score=0.819 total time=   0.3s\n",
            "[CV 1/3] END criterion=entropy, max_depth=4, n_estimators=500;, score=0.798 total time=   0.9s\n",
            "[CV 2/3] END criterion=entropy, max_depth=4, n_estimators=500;, score=0.835 total time=   0.9s\n",
            "[CV 3/3] END criterion=entropy, max_depth=4, n_estimators=500;, score=0.814 total time=   0.9s\n",
            "[CV 1/3] END criterion=entropy, max_depth=4, n_estimators=1000;, score=0.798 total time=   1.8s\n",
            "[CV 2/3] END criterion=entropy, max_depth=4, n_estimators=1000;, score=0.848 total time=   1.7s\n",
            "[CV 3/3] END criterion=entropy, max_depth=4, n_estimators=1000;, score=0.823 total time=   1.7s\n",
            "[CV 1/3] END criterion=entropy, max_depth=5, n_estimators=100;, score=0.798 total time=   0.2s\n",
            "[CV 2/3] END criterion=entropy, max_depth=5, n_estimators=100;, score=0.835 total time=   0.2s\n",
            "[CV 3/3] END criterion=entropy, max_depth=5, n_estimators=100;, score=0.823 total time=   0.2s\n",
            "[CV 1/3] END criterion=entropy, max_depth=5, n_estimators=200;, score=0.798 total time=   0.4s\n",
            "[CV 2/3] END criterion=entropy, max_depth=5, n_estimators=200;, score=0.840 total time=   0.4s\n",
            "[CV 3/3] END criterion=entropy, max_depth=5, n_estimators=200;, score=0.823 total time=   0.4s\n",
            "[CV 1/3] END criterion=entropy, max_depth=5, n_estimators=500;, score=0.798 total time=   0.9s\n",
            "[CV 2/3] END criterion=entropy, max_depth=5, n_estimators=500;, score=0.827 total time=   0.9s\n",
            "[CV 3/3] END criterion=entropy, max_depth=5, n_estimators=500;, score=0.814 total time=   0.9s\n",
            "[CV 1/3] END criterion=entropy, max_depth=5, n_estimators=1000;, score=0.803 total time=   1.8s\n",
            "[CV 2/3] END criterion=entropy, max_depth=5, n_estimators=1000;, score=0.827 total time=   1.8s\n",
            "[CV 3/3] END criterion=entropy, max_depth=5, n_estimators=1000;, score=0.814 total time=   1.8s\n",
            "[CV 1/3] END criterion=entropy, max_depth=6, n_estimators=100;, score=0.807 total time=   0.2s\n",
            "[CV 2/3] END criterion=entropy, max_depth=6, n_estimators=100;, score=0.831 total time=   0.2s\n",
            "[CV 3/3] END criterion=entropy, max_depth=6, n_estimators=100;, score=0.819 total time=   0.2s\n",
            "[CV 1/3] END criterion=entropy, max_depth=6, n_estimators=200;, score=0.811 total time=   0.4s\n",
            "[CV 2/3] END criterion=entropy, max_depth=6, n_estimators=200;, score=0.823 total time=   0.4s\n",
            "[CV 3/3] END criterion=entropy, max_depth=6, n_estimators=200;, score=0.814 total time=   0.4s\n",
            "[CV 1/3] END criterion=entropy, max_depth=6, n_estimators=500;, score=0.807 total time=   0.9s\n",
            "[CV 2/3] END criterion=entropy, max_depth=6, n_estimators=500;, score=0.840 total time=   0.9s\n",
            "[CV 3/3] END criterion=entropy, max_depth=6, n_estimators=500;, score=0.814 total time=   0.9s\n",
            "[CV 1/3] END criterion=entropy, max_depth=6, n_estimators=1000;, score=0.807 total time=   1.8s\n",
            "[CV 2/3] END criterion=entropy, max_depth=6, n_estimators=1000;, score=0.835 total time=   1.8s\n",
            "[CV 3/3] END criterion=entropy, max_depth=6, n_estimators=1000;, score=0.814 total time=   2.2s\n",
            "[CV 1/3] END criterion=entropy, max_depth=7, n_estimators=100;, score=0.815 total time=   0.4s\n",
            "[CV 2/3] END criterion=entropy, max_depth=7, n_estimators=100;, score=0.835 total time=   0.3s\n",
            "[CV 3/3] END criterion=entropy, max_depth=7, n_estimators=100;, score=0.810 total time=   0.4s\n",
            "[CV 1/3] END criterion=entropy, max_depth=7, n_estimators=200;, score=0.807 total time=   0.7s\n",
            "[CV 2/3] END criterion=entropy, max_depth=7, n_estimators=200;, score=0.835 total time=   0.6s\n",
            "[CV 3/3] END criterion=entropy, max_depth=7, n_estimators=200;, score=0.806 total time=   0.8s\n",
            "[CV 1/3] END criterion=entropy, max_depth=7, n_estimators=500;, score=0.815 total time=   3.6s\n",
            "[CV 2/3] END criterion=entropy, max_depth=7, n_estimators=500;, score=0.823 total time=   1.7s\n",
            "[CV 3/3] END criterion=entropy, max_depth=7, n_estimators=500;, score=0.819 total time=   1.5s\n",
            "[CV 1/3] END criterion=entropy, max_depth=7, n_estimators=1000;, score=0.815 total time=   2.1s\n",
            "[CV 2/3] END criterion=entropy, max_depth=7, n_estimators=1000;, score=0.823 total time=   2.3s\n",
            "[CV 3/3] END criterion=entropy, max_depth=7, n_estimators=1000;, score=0.819 total time=   4.8s\n",
            "[CV 1/3] END criterion=entropy, max_depth=8, n_estimators=100;, score=0.819 total time=   0.5s\n",
            "[CV 2/3] END criterion=entropy, max_depth=8, n_estimators=100;, score=0.823 total time=   0.5s\n",
            "[CV 3/3] END criterion=entropy, max_depth=8, n_estimators=100;, score=0.823 total time=   0.4s\n",
            "[CV 1/3] END criterion=entropy, max_depth=8, n_estimators=200;, score=0.819 total time=   0.7s\n",
            "[CV 2/3] END criterion=entropy, max_depth=8, n_estimators=200;, score=0.852 total time=   0.5s\n",
            "[CV 3/3] END criterion=entropy, max_depth=8, n_estimators=200;, score=0.814 total time=   0.7s\n",
            "[CV 1/3] END criterion=entropy, max_depth=8, n_estimators=500;, score=0.815 total time=   3.0s\n",
            "[CV 2/3] END criterion=entropy, max_depth=8, n_estimators=500;, score=0.814 total time=   1.4s\n",
            "[CV 3/3] END criterion=entropy, max_depth=8, n_estimators=500;, score=0.823 total time=   0.9s\n",
            "[CV 1/3] END criterion=entropy, max_depth=8, n_estimators=1000;, score=0.819 total time=   1.9s\n",
            "[CV 2/3] END criterion=entropy, max_depth=8, n_estimators=1000;, score=0.823 total time=   1.9s\n",
            "[CV 3/3] END criterion=entropy, max_depth=8, n_estimators=1000;, score=0.819 total time=   1.9s\n"
          ]
        },
        {
          "output_type": "execute_result",
          "data": {
            "text/plain": [
              "GridSearchCV(cv=3, estimator=RandomForestClassifier(),\n",
              "             param_grid={'criterion': ['gini', 'entropy'],\n",
              "                         'max_depth': [1, 3, 4, 5, 6, 7, 8],\n",
              "                         'n_estimators': [100, 200, 500, 1000]},\n",
              "             scoring='accuracy', verbose=3)"
            ]
          },
          "metadata": {},
          "execution_count": 163
        }
      ]
    },
    {
      "cell_type": "code",
      "source": [
        "print(rf_grid.best_params_)"
      ],
      "metadata": {
        "colab": {
          "base_uri": "https://localhost:8080/"
        },
        "id": "2z0ScUvL7SYQ",
        "outputId": "dc2165ec-d3d5-475f-f979-8cb3e14cdbfc"
      },
      "execution_count": 164,
      "outputs": [
        {
          "output_type": "stream",
          "name": "stdout",
          "text": [
            "{'criterion': 'entropy', 'max_depth': 8, 'n_estimators': 200}\n"
          ]
        }
      ]
    },
    {
      "cell_type": "code",
      "source": [
        "final_rf = RandomForestClassifier(criterion='entropy', n_estimators=200, max_depth=9) \n",
        "final_rf.fit(x_train, y_train)\n",
        "final_rf_label_pred = final_rf.predict(x_test)\n",
        "\n",
        "rf_acc = accuracy_score(y_test, final_rf_label_pred)\n",
        "print(\"Accuracy for Random Forest on test set: {:.3f}\".format(rf_acc))\n",
        "\n",
        "print(f\"Classification report for classifier Random Forest:\\n\"\n",
        "      f\"{classification_report(y_test, final_rf_label_pred)}\")"
      ],
      "metadata": {
        "colab": {
          "base_uri": "https://localhost:8080/"
        },
        "id": "dxtMFZ2j7apq",
        "outputId": "f7975036-c7fe-40ef-eca1-c1de49f91399"
      },
      "execution_count": 173,
      "outputs": [
        {
          "output_type": "stream",
          "name": "stdout",
          "text": [
            "Accuracy for Random Forest on test set: 0.832\n",
            "Classification report for classifier Random Forest:\n",
            "              precision    recall  f1-score   support\n",
            "\n",
            "           0       0.84      0.89      0.87       110\n",
            "           1       0.81      0.74      0.77        69\n",
            "\n",
            "    accuracy                           0.83       179\n",
            "   macro avg       0.83      0.82      0.82       179\n",
            "weighted avg       0.83      0.83      0.83       179\n",
            "\n"
          ]
        }
      ]
    },
    {
      "cell_type": "markdown",
      "source": [
        "# Output"
      ],
      "metadata": {
        "id": "EH0gdmwja0V2"
      }
    },
    {
      "cell_type": "code",
      "source": [
        "test['Survived'] = final_xgb.predict(test.values)\n",
        "submission = test[['PassengerId','Survived']]\n",
        "submission.to_csv(\"submissionxgb.csv\", index=False)\n",
        "submission.head()"
      ],
      "metadata": {
        "colab": {
          "base_uri": "https://localhost:8080/",
          "height": 206
        },
        "id": "r4G6tvRPasnS",
        "outputId": "6e36bd1d-5346-4a26-c7fb-f5d4fa5128c2"
      },
      "execution_count": 191,
      "outputs": [
        {
          "output_type": "execute_result",
          "data": {
            "text/plain": [
              "   PassengerId  Survived\n",
              "0          892         0\n",
              "1          893         0\n",
              "2          894         0\n",
              "3          895         0\n",
              "4          896         0"
            ],
            "text/html": [
              "\n",
              "  <div id=\"df-44080dcb-e903-4415-a716-d18c105d0adb\">\n",
              "    <div class=\"colab-df-container\">\n",
              "      <div>\n",
              "<style scoped>\n",
              "    .dataframe tbody tr th:only-of-type {\n",
              "        vertical-align: middle;\n",
              "    }\n",
              "\n",
              "    .dataframe tbody tr th {\n",
              "        vertical-align: top;\n",
              "    }\n",
              "\n",
              "    .dataframe thead th {\n",
              "        text-align: right;\n",
              "    }\n",
              "</style>\n",
              "<table border=\"1\" class=\"dataframe\">\n",
              "  <thead>\n",
              "    <tr style=\"text-align: right;\">\n",
              "      <th></th>\n",
              "      <th>PassengerId</th>\n",
              "      <th>Survived</th>\n",
              "    </tr>\n",
              "  </thead>\n",
              "  <tbody>\n",
              "    <tr>\n",
              "      <th>0</th>\n",
              "      <td>892</td>\n",
              "      <td>0</td>\n",
              "    </tr>\n",
              "    <tr>\n",
              "      <th>1</th>\n",
              "      <td>893</td>\n",
              "      <td>0</td>\n",
              "    </tr>\n",
              "    <tr>\n",
              "      <th>2</th>\n",
              "      <td>894</td>\n",
              "      <td>0</td>\n",
              "    </tr>\n",
              "    <tr>\n",
              "      <th>3</th>\n",
              "      <td>895</td>\n",
              "      <td>0</td>\n",
              "    </tr>\n",
              "    <tr>\n",
              "      <th>4</th>\n",
              "      <td>896</td>\n",
              "      <td>0</td>\n",
              "    </tr>\n",
              "  </tbody>\n",
              "</table>\n",
              "</div>\n",
              "      <button class=\"colab-df-convert\" onclick=\"convertToInteractive('df-44080dcb-e903-4415-a716-d18c105d0adb')\"\n",
              "              title=\"Convert this dataframe to an interactive table.\"\n",
              "              style=\"display:none;\">\n",
              "        \n",
              "  <svg xmlns=\"http://www.w3.org/2000/svg\" height=\"24px\"viewBox=\"0 0 24 24\"\n",
              "       width=\"24px\">\n",
              "    <path d=\"M0 0h24v24H0V0z\" fill=\"none\"/>\n",
              "    <path d=\"M18.56 5.44l.94 2.06.94-2.06 2.06-.94-2.06-.94-.94-2.06-.94 2.06-2.06.94zm-11 1L8.5 8.5l.94-2.06 2.06-.94-2.06-.94L8.5 2.5l-.94 2.06-2.06.94zm10 10l.94 2.06.94-2.06 2.06-.94-2.06-.94-.94-2.06-.94 2.06-2.06.94z\"/><path d=\"M17.41 7.96l-1.37-1.37c-.4-.4-.92-.59-1.43-.59-.52 0-1.04.2-1.43.59L10.3 9.45l-7.72 7.72c-.78.78-.78 2.05 0 2.83L4 21.41c.39.39.9.59 1.41.59.51 0 1.02-.2 1.41-.59l7.78-7.78 2.81-2.81c.8-.78.8-2.07 0-2.86zM5.41 20L4 18.59l7.72-7.72 1.47 1.35L5.41 20z\"/>\n",
              "  </svg>\n",
              "      </button>\n",
              "      \n",
              "  <style>\n",
              "    .colab-df-container {\n",
              "      display:flex;\n",
              "      flex-wrap:wrap;\n",
              "      gap: 12px;\n",
              "    }\n",
              "\n",
              "    .colab-df-convert {\n",
              "      background-color: #E8F0FE;\n",
              "      border: none;\n",
              "      border-radius: 50%;\n",
              "      cursor: pointer;\n",
              "      display: none;\n",
              "      fill: #1967D2;\n",
              "      height: 32px;\n",
              "      padding: 0 0 0 0;\n",
              "      width: 32px;\n",
              "    }\n",
              "\n",
              "    .colab-df-convert:hover {\n",
              "      background-color: #E2EBFA;\n",
              "      box-shadow: 0px 1px 2px rgba(60, 64, 67, 0.3), 0px 1px 3px 1px rgba(60, 64, 67, 0.15);\n",
              "      fill: #174EA6;\n",
              "    }\n",
              "\n",
              "    [theme=dark] .colab-df-convert {\n",
              "      background-color: #3B4455;\n",
              "      fill: #D2E3FC;\n",
              "    }\n",
              "\n",
              "    [theme=dark] .colab-df-convert:hover {\n",
              "      background-color: #434B5C;\n",
              "      box-shadow: 0px 1px 3px 1px rgba(0, 0, 0, 0.15);\n",
              "      filter: drop-shadow(0px 1px 2px rgba(0, 0, 0, 0.3));\n",
              "      fill: #FFFFFF;\n",
              "    }\n",
              "  </style>\n",
              "\n",
              "      <script>\n",
              "        const buttonEl =\n",
              "          document.querySelector('#df-44080dcb-e903-4415-a716-d18c105d0adb button.colab-df-convert');\n",
              "        buttonEl.style.display =\n",
              "          google.colab.kernel.accessAllowed ? 'block' : 'none';\n",
              "\n",
              "        async function convertToInteractive(key) {\n",
              "          const element = document.querySelector('#df-44080dcb-e903-4415-a716-d18c105d0adb');\n",
              "          const dataTable =\n",
              "            await google.colab.kernel.invokeFunction('convertToInteractive',\n",
              "                                                     [key], {});\n",
              "          if (!dataTable) return;\n",
              "\n",
              "          const docLinkHtml = 'Like what you see? Visit the ' +\n",
              "            '<a target=\"_blank\" href=https://colab.research.google.com/notebooks/data_table.ipynb>data table notebook</a>'\n",
              "            + ' to learn more about interactive tables.';\n",
              "          element.innerHTML = '';\n",
              "          dataTable['output_type'] = 'display_data';\n",
              "          await google.colab.output.renderOutput(dataTable, element);\n",
              "          const docLink = document.createElement('div');\n",
              "          docLink.innerHTML = docLinkHtml;\n",
              "          element.appendChild(docLink);\n",
              "        }\n",
              "      </script>\n",
              "    </div>\n",
              "  </div>\n",
              "  "
            ]
          },
          "metadata": {},
          "execution_count": 191
        }
      ]
    }
  ]
}