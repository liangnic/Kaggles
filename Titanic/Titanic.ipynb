{
  "nbformat": 4,
  "nbformat_minor": 0,
  "metadata": {
    "colab": {
      "provenance": []
    },
    "kernelspec": {
      "name": "python3",
      "display_name": "Python 3"
    },
    "language_info": {
      "name": "python"
    }
  },
  "cells": [
    {
      "cell_type": "markdown",
      "source": [
        "# 1. Import libraries and dataset"
      ],
      "metadata": {
        "id": "MHICs8SWTdl1"
      }
    },
    {
      "cell_type": "code",
      "source": [
        "import pandas as pd\n",
        "import seaborn as sns\n",
        "import scikitplot as skplt\n",
        "import matplotlib.pyplot as plt\n",
        "\n",
        "from sklearn.preprocessing import LabelEncoder\n",
        "from sklearn.model_selection import GridSearchCV\n",
        "from sklearn.model_selection import train_test_split\n",
        "from xgboost import XGBClassifier\n",
        "from sklearn.metrics import accuracy_score, recall_score, confusion_matrix, precision_score, f1_score, classification_report"
      ],
      "metadata": {
        "id": "fvdhqOklTAah"
      },
      "execution_count": null,
      "outputs": []
    },
    {
      "cell_type": "code",
      "source": [
        "train = pd.read_csv('train.csv')\n",
        "test = pd.read_csv('test.csv')"
      ],
      "metadata": {
        "id": "tqpEa2HITM7H"
      },
      "execution_count": null,
      "outputs": []
    },
    {
      "cell_type": "markdown",
      "source": [
        "# Data pre-processing"
      ],
      "metadata": {
        "id": "q6NbXTmdUHlM"
      }
    },
    {
      "cell_type": "code",
      "source": [
        "train.head(5)"
      ],
      "metadata": {
        "colab": {
          "base_uri": "https://localhost:8080/",
          "height": 302
        },
        "id": "k6L3EtApTU2O",
        "outputId": "cde2dfc5-6c3e-4d74-978b-7bf573293404"
      },
      "execution_count": null,
      "outputs": [
        {
          "output_type": "execute_result",
          "data": {
            "text/plain": [
              "   PassengerId  Survived  Pclass  \\\n",
              "0            1         0       3   \n",
              "1            2         1       1   \n",
              "2            3         1       3   \n",
              "3            4         1       1   \n",
              "4            5         0       3   \n",
              "\n",
              "                                                Name     Sex   Age  SibSp  \\\n",
              "0                            Braund, Mr. Owen Harris    male  22.0      1   \n",
              "1  Cumings, Mrs. John Bradley (Florence Briggs Th...  female  38.0      1   \n",
              "2                             Heikkinen, Miss. Laina  female  26.0      0   \n",
              "3       Futrelle, Mrs. Jacques Heath (Lily May Peel)  female  35.0      1   \n",
              "4                           Allen, Mr. William Henry    male  35.0      0   \n",
              "\n",
              "   Parch            Ticket     Fare Cabin Embarked  \n",
              "0      0         A/5 21171   7.2500   NaN        S  \n",
              "1      0          PC 17599  71.2833   C85        C  \n",
              "2      0  STON/O2. 3101282   7.9250   NaN        S  \n",
              "3      0            113803  53.1000  C123        S  \n",
              "4      0            373450   8.0500   NaN        S  "
            ],
            "text/html": [
              "\n",
              "  <div id=\"df-cfa0e12d-54ed-4ac8-9c41-e29c39cf185d\">\n",
              "    <div class=\"colab-df-container\">\n",
              "      <div>\n",
              "<style scoped>\n",
              "    .dataframe tbody tr th:only-of-type {\n",
              "        vertical-align: middle;\n",
              "    }\n",
              "\n",
              "    .dataframe tbody tr th {\n",
              "        vertical-align: top;\n",
              "    }\n",
              "\n",
              "    .dataframe thead th {\n",
              "        text-align: right;\n",
              "    }\n",
              "</style>\n",
              "<table border=\"1\" class=\"dataframe\">\n",
              "  <thead>\n",
              "    <tr style=\"text-align: right;\">\n",
              "      <th></th>\n",
              "      <th>PassengerId</th>\n",
              "      <th>Survived</th>\n",
              "      <th>Pclass</th>\n",
              "      <th>Name</th>\n",
              "      <th>Sex</th>\n",
              "      <th>Age</th>\n",
              "      <th>SibSp</th>\n",
              "      <th>Parch</th>\n",
              "      <th>Ticket</th>\n",
              "      <th>Fare</th>\n",
              "      <th>Cabin</th>\n",
              "      <th>Embarked</th>\n",
              "    </tr>\n",
              "  </thead>\n",
              "  <tbody>\n",
              "    <tr>\n",
              "      <th>0</th>\n",
              "      <td>1</td>\n",
              "      <td>0</td>\n",
              "      <td>3</td>\n",
              "      <td>Braund, Mr. Owen Harris</td>\n",
              "      <td>male</td>\n",
              "      <td>22.0</td>\n",
              "      <td>1</td>\n",
              "      <td>0</td>\n",
              "      <td>A/5 21171</td>\n",
              "      <td>7.2500</td>\n",
              "      <td>NaN</td>\n",
              "      <td>S</td>\n",
              "    </tr>\n",
              "    <tr>\n",
              "      <th>1</th>\n",
              "      <td>2</td>\n",
              "      <td>1</td>\n",
              "      <td>1</td>\n",
              "      <td>Cumings, Mrs. John Bradley (Florence Briggs Th...</td>\n",
              "      <td>female</td>\n",
              "      <td>38.0</td>\n",
              "      <td>1</td>\n",
              "      <td>0</td>\n",
              "      <td>PC 17599</td>\n",
              "      <td>71.2833</td>\n",
              "      <td>C85</td>\n",
              "      <td>C</td>\n",
              "    </tr>\n",
              "    <tr>\n",
              "      <th>2</th>\n",
              "      <td>3</td>\n",
              "      <td>1</td>\n",
              "      <td>3</td>\n",
              "      <td>Heikkinen, Miss. Laina</td>\n",
              "      <td>female</td>\n",
              "      <td>26.0</td>\n",
              "      <td>0</td>\n",
              "      <td>0</td>\n",
              "      <td>STON/O2. 3101282</td>\n",
              "      <td>7.9250</td>\n",
              "      <td>NaN</td>\n",
              "      <td>S</td>\n",
              "    </tr>\n",
              "    <tr>\n",
              "      <th>3</th>\n",
              "      <td>4</td>\n",
              "      <td>1</td>\n",
              "      <td>1</td>\n",
              "      <td>Futrelle, Mrs. Jacques Heath (Lily May Peel)</td>\n",
              "      <td>female</td>\n",
              "      <td>35.0</td>\n",
              "      <td>1</td>\n",
              "      <td>0</td>\n",
              "      <td>113803</td>\n",
              "      <td>53.1000</td>\n",
              "      <td>C123</td>\n",
              "      <td>S</td>\n",
              "    </tr>\n",
              "    <tr>\n",
              "      <th>4</th>\n",
              "      <td>5</td>\n",
              "      <td>0</td>\n",
              "      <td>3</td>\n",
              "      <td>Allen, Mr. William Henry</td>\n",
              "      <td>male</td>\n",
              "      <td>35.0</td>\n",
              "      <td>0</td>\n",
              "      <td>0</td>\n",
              "      <td>373450</td>\n",
              "      <td>8.0500</td>\n",
              "      <td>NaN</td>\n",
              "      <td>S</td>\n",
              "    </tr>\n",
              "  </tbody>\n",
              "</table>\n",
              "</div>\n",
              "      <button class=\"colab-df-convert\" onclick=\"convertToInteractive('df-cfa0e12d-54ed-4ac8-9c41-e29c39cf185d')\"\n",
              "              title=\"Convert this dataframe to an interactive table.\"\n",
              "              style=\"display:none;\">\n",
              "        \n",
              "  <svg xmlns=\"http://www.w3.org/2000/svg\" height=\"24px\"viewBox=\"0 0 24 24\"\n",
              "       width=\"24px\">\n",
              "    <path d=\"M0 0h24v24H0V0z\" fill=\"none\"/>\n",
              "    <path d=\"M18.56 5.44l.94 2.06.94-2.06 2.06-.94-2.06-.94-.94-2.06-.94 2.06-2.06.94zm-11 1L8.5 8.5l.94-2.06 2.06-.94-2.06-.94L8.5 2.5l-.94 2.06-2.06.94zm10 10l.94 2.06.94-2.06 2.06-.94-2.06-.94-.94-2.06-.94 2.06-2.06.94z\"/><path d=\"M17.41 7.96l-1.37-1.37c-.4-.4-.92-.59-1.43-.59-.52 0-1.04.2-1.43.59L10.3 9.45l-7.72 7.72c-.78.78-.78 2.05 0 2.83L4 21.41c.39.39.9.59 1.41.59.51 0 1.02-.2 1.41-.59l7.78-7.78 2.81-2.81c.8-.78.8-2.07 0-2.86zM5.41 20L4 18.59l7.72-7.72 1.47 1.35L5.41 20z\"/>\n",
              "  </svg>\n",
              "      </button>\n",
              "      \n",
              "  <style>\n",
              "    .colab-df-container {\n",
              "      display:flex;\n",
              "      flex-wrap:wrap;\n",
              "      gap: 12px;\n",
              "    }\n",
              "\n",
              "    .colab-df-convert {\n",
              "      background-color: #E8F0FE;\n",
              "      border: none;\n",
              "      border-radius: 50%;\n",
              "      cursor: pointer;\n",
              "      display: none;\n",
              "      fill: #1967D2;\n",
              "      height: 32px;\n",
              "      padding: 0 0 0 0;\n",
              "      width: 32px;\n",
              "    }\n",
              "\n",
              "    .colab-df-convert:hover {\n",
              "      background-color: #E2EBFA;\n",
              "      box-shadow: 0px 1px 2px rgba(60, 64, 67, 0.3), 0px 1px 3px 1px rgba(60, 64, 67, 0.15);\n",
              "      fill: #174EA6;\n",
              "    }\n",
              "\n",
              "    [theme=dark] .colab-df-convert {\n",
              "      background-color: #3B4455;\n",
              "      fill: #D2E3FC;\n",
              "    }\n",
              "\n",
              "    [theme=dark] .colab-df-convert:hover {\n",
              "      background-color: #434B5C;\n",
              "      box-shadow: 0px 1px 3px 1px rgba(0, 0, 0, 0.15);\n",
              "      filter: drop-shadow(0px 1px 2px rgba(0, 0, 0, 0.3));\n",
              "      fill: #FFFFFF;\n",
              "    }\n",
              "  </style>\n",
              "\n",
              "      <script>\n",
              "        const buttonEl =\n",
              "          document.querySelector('#df-cfa0e12d-54ed-4ac8-9c41-e29c39cf185d button.colab-df-convert');\n",
              "        buttonEl.style.display =\n",
              "          google.colab.kernel.accessAllowed ? 'block' : 'none';\n",
              "\n",
              "        async function convertToInteractive(key) {\n",
              "          const element = document.querySelector('#df-cfa0e12d-54ed-4ac8-9c41-e29c39cf185d');\n",
              "          const dataTable =\n",
              "            await google.colab.kernel.invokeFunction('convertToInteractive',\n",
              "                                                     [key], {});\n",
              "          if (!dataTable) return;\n",
              "\n",
              "          const docLinkHtml = 'Like what you see? Visit the ' +\n",
              "            '<a target=\"_blank\" href=https://colab.research.google.com/notebooks/data_table.ipynb>data table notebook</a>'\n",
              "            + ' to learn more about interactive tables.';\n",
              "          element.innerHTML = '';\n",
              "          dataTable['output_type'] = 'display_data';\n",
              "          await google.colab.output.renderOutput(dataTable, element);\n",
              "          const docLink = document.createElement('div');\n",
              "          docLink.innerHTML = docLinkHtml;\n",
              "          element.appendChild(docLink);\n",
              "        }\n",
              "      </script>\n",
              "    </div>\n",
              "  </div>\n",
              "  "
            ]
          },
          "metadata": {},
          "execution_count": 54
        }
      ]
    },
    {
      "cell_type": "code",
      "source": [
        "train.info()"
      ],
      "metadata": {
        "colab": {
          "base_uri": "https://localhost:8080/"
        },
        "id": "xtsnVvsGUFS8",
        "outputId": "bcf12351-0963-4047-9306-28400027c256"
      },
      "execution_count": null,
      "outputs": [
        {
          "output_type": "stream",
          "name": "stdout",
          "text": [
            "<class 'pandas.core.frame.DataFrame'>\n",
            "RangeIndex: 891 entries, 0 to 890\n",
            "Data columns (total 12 columns):\n",
            " #   Column       Non-Null Count  Dtype  \n",
            "---  ------       --------------  -----  \n",
            " 0   PassengerId  891 non-null    int64  \n",
            " 1   Survived     891 non-null    int64  \n",
            " 2   Pclass       891 non-null    int64  \n",
            " 3   Name         891 non-null    object \n",
            " 4   Sex          891 non-null    object \n",
            " 5   Age          714 non-null    float64\n",
            " 6   SibSp        891 non-null    int64  \n",
            " 7   Parch        891 non-null    int64  \n",
            " 8   Ticket       891 non-null    object \n",
            " 9   Fare         891 non-null    float64\n",
            " 10  Cabin        204 non-null    object \n",
            " 11  Embarked     889 non-null    object \n",
            "dtypes: float64(2), int64(5), object(5)\n",
            "memory usage: 83.7+ KB\n"
          ]
        }
      ]
    },
    {
      "cell_type": "code",
      "source": [
        "def preprocessing(dataset):\n",
        "  \n",
        "  dataset['sex'] = dataset['Sex'].apply(lambda x: 1 if x == 'male' else 0).astype('int')\n",
        "  dataset['embark'] = dataset['Embarked'].apply(lambda x: 0 if x =='S' else(1 if x == 'C' else '2')).astype('int')\n",
        "\n",
        "  for n in ['Name', 'Cabin', 'Ticket', 'Sex', 'Embarked']:\n",
        "    dataset.drop(n, axis=1, inplace = True)\n",
        "\n",
        "  return dataset"
      ],
      "metadata": {
        "id": "9tc2D2JbYxHJ"
      },
      "execution_count": null,
      "outputs": []
    },
    {
      "cell_type": "code",
      "source": [
        "train = preprocessing(train)\n",
        "test = preprocessing(test)"
      ],
      "metadata": {
        "id": "I__77hX-ZYr3"
      },
      "execution_count": null,
      "outputs": []
    },
    {
      "cell_type": "code",
      "source": [
        "train.info()"
      ],
      "metadata": {
        "colab": {
          "base_uri": "https://localhost:8080/"
        },
        "id": "WCcP6q1bZgrk",
        "outputId": "893c0698-a7ef-4912-e122-3f7a8ee298a4"
      },
      "execution_count": null,
      "outputs": [
        {
          "output_type": "stream",
          "name": "stdout",
          "text": [
            "<class 'pandas.core.frame.DataFrame'>\n",
            "RangeIndex: 891 entries, 0 to 890\n",
            "Data columns (total 9 columns):\n",
            " #   Column       Non-Null Count  Dtype  \n",
            "---  ------       --------------  -----  \n",
            " 0   PassengerId  891 non-null    int64  \n",
            " 1   Survived     891 non-null    int64  \n",
            " 2   Pclass       891 non-null    int64  \n",
            " 3   Age          714 non-null    float64\n",
            " 4   SibSp        891 non-null    int64  \n",
            " 5   Parch        891 non-null    int64  \n",
            " 6   Fare         891 non-null    float64\n",
            " 7   sex          891 non-null    int64  \n",
            " 8   embark       891 non-null    int64  \n",
            "dtypes: float64(2), int64(7)\n",
            "memory usage: 62.8 KB\n"
          ]
        }
      ]
    },
    {
      "cell_type": "code",
      "source": [
        "train.head(5)"
      ],
      "metadata": {
        "colab": {
          "base_uri": "https://localhost:8080/",
          "height": 206
        },
        "id": "nAGVSLvTZqoj",
        "outputId": "2ae35269-a56e-44dd-89ba-1b9be234354e"
      },
      "execution_count": null,
      "outputs": [
        {
          "output_type": "execute_result",
          "data": {
            "text/plain": [
              "   PassengerId  Survived  Pclass   Age  SibSp  Parch     Fare  sex  embark\n",
              "0            1         0       3  22.0      1      0   7.2500    1       0\n",
              "1            2         1       1  38.0      1      0  71.2833    0       1\n",
              "2            3         1       3  26.0      0      0   7.9250    0       0\n",
              "3            4         1       1  35.0      1      0  53.1000    0       0\n",
              "4            5         0       3  35.0      0      0   8.0500    1       0"
            ],
            "text/html": [
              "\n",
              "  <div id=\"df-a220214f-ffd9-46bb-a858-cd22ba9a401b\">\n",
              "    <div class=\"colab-df-container\">\n",
              "      <div>\n",
              "<style scoped>\n",
              "    .dataframe tbody tr th:only-of-type {\n",
              "        vertical-align: middle;\n",
              "    }\n",
              "\n",
              "    .dataframe tbody tr th {\n",
              "        vertical-align: top;\n",
              "    }\n",
              "\n",
              "    .dataframe thead th {\n",
              "        text-align: right;\n",
              "    }\n",
              "</style>\n",
              "<table border=\"1\" class=\"dataframe\">\n",
              "  <thead>\n",
              "    <tr style=\"text-align: right;\">\n",
              "      <th></th>\n",
              "      <th>PassengerId</th>\n",
              "      <th>Survived</th>\n",
              "      <th>Pclass</th>\n",
              "      <th>Age</th>\n",
              "      <th>SibSp</th>\n",
              "      <th>Parch</th>\n",
              "      <th>Fare</th>\n",
              "      <th>sex</th>\n",
              "      <th>embark</th>\n",
              "    </tr>\n",
              "  </thead>\n",
              "  <tbody>\n",
              "    <tr>\n",
              "      <th>0</th>\n",
              "      <td>1</td>\n",
              "      <td>0</td>\n",
              "      <td>3</td>\n",
              "      <td>22.0</td>\n",
              "      <td>1</td>\n",
              "      <td>0</td>\n",
              "      <td>7.2500</td>\n",
              "      <td>1</td>\n",
              "      <td>0</td>\n",
              "    </tr>\n",
              "    <tr>\n",
              "      <th>1</th>\n",
              "      <td>2</td>\n",
              "      <td>1</td>\n",
              "      <td>1</td>\n",
              "      <td>38.0</td>\n",
              "      <td>1</td>\n",
              "      <td>0</td>\n",
              "      <td>71.2833</td>\n",
              "      <td>0</td>\n",
              "      <td>1</td>\n",
              "    </tr>\n",
              "    <tr>\n",
              "      <th>2</th>\n",
              "      <td>3</td>\n",
              "      <td>1</td>\n",
              "      <td>3</td>\n",
              "      <td>26.0</td>\n",
              "      <td>0</td>\n",
              "      <td>0</td>\n",
              "      <td>7.9250</td>\n",
              "      <td>0</td>\n",
              "      <td>0</td>\n",
              "    </tr>\n",
              "    <tr>\n",
              "      <th>3</th>\n",
              "      <td>4</td>\n",
              "      <td>1</td>\n",
              "      <td>1</td>\n",
              "      <td>35.0</td>\n",
              "      <td>1</td>\n",
              "      <td>0</td>\n",
              "      <td>53.1000</td>\n",
              "      <td>0</td>\n",
              "      <td>0</td>\n",
              "    </tr>\n",
              "    <tr>\n",
              "      <th>4</th>\n",
              "      <td>5</td>\n",
              "      <td>0</td>\n",
              "      <td>3</td>\n",
              "      <td>35.0</td>\n",
              "      <td>0</td>\n",
              "      <td>0</td>\n",
              "      <td>8.0500</td>\n",
              "      <td>1</td>\n",
              "      <td>0</td>\n",
              "    </tr>\n",
              "  </tbody>\n",
              "</table>\n",
              "</div>\n",
              "      <button class=\"colab-df-convert\" onclick=\"convertToInteractive('df-a220214f-ffd9-46bb-a858-cd22ba9a401b')\"\n",
              "              title=\"Convert this dataframe to an interactive table.\"\n",
              "              style=\"display:none;\">\n",
              "        \n",
              "  <svg xmlns=\"http://www.w3.org/2000/svg\" height=\"24px\"viewBox=\"0 0 24 24\"\n",
              "       width=\"24px\">\n",
              "    <path d=\"M0 0h24v24H0V0z\" fill=\"none\"/>\n",
              "    <path d=\"M18.56 5.44l.94 2.06.94-2.06 2.06-.94-2.06-.94-.94-2.06-.94 2.06-2.06.94zm-11 1L8.5 8.5l.94-2.06 2.06-.94-2.06-.94L8.5 2.5l-.94 2.06-2.06.94zm10 10l.94 2.06.94-2.06 2.06-.94-2.06-.94-.94-2.06-.94 2.06-2.06.94z\"/><path d=\"M17.41 7.96l-1.37-1.37c-.4-.4-.92-.59-1.43-.59-.52 0-1.04.2-1.43.59L10.3 9.45l-7.72 7.72c-.78.78-.78 2.05 0 2.83L4 21.41c.39.39.9.59 1.41.59.51 0 1.02-.2 1.41-.59l7.78-7.78 2.81-2.81c.8-.78.8-2.07 0-2.86zM5.41 20L4 18.59l7.72-7.72 1.47 1.35L5.41 20z\"/>\n",
              "  </svg>\n",
              "      </button>\n",
              "      \n",
              "  <style>\n",
              "    .colab-df-container {\n",
              "      display:flex;\n",
              "      flex-wrap:wrap;\n",
              "      gap: 12px;\n",
              "    }\n",
              "\n",
              "    .colab-df-convert {\n",
              "      background-color: #E8F0FE;\n",
              "      border: none;\n",
              "      border-radius: 50%;\n",
              "      cursor: pointer;\n",
              "      display: none;\n",
              "      fill: #1967D2;\n",
              "      height: 32px;\n",
              "      padding: 0 0 0 0;\n",
              "      width: 32px;\n",
              "    }\n",
              "\n",
              "    .colab-df-convert:hover {\n",
              "      background-color: #E2EBFA;\n",
              "      box-shadow: 0px 1px 2px rgba(60, 64, 67, 0.3), 0px 1px 3px 1px rgba(60, 64, 67, 0.15);\n",
              "      fill: #174EA6;\n",
              "    }\n",
              "\n",
              "    [theme=dark] .colab-df-convert {\n",
              "      background-color: #3B4455;\n",
              "      fill: #D2E3FC;\n",
              "    }\n",
              "\n",
              "    [theme=dark] .colab-df-convert:hover {\n",
              "      background-color: #434B5C;\n",
              "      box-shadow: 0px 1px 3px 1px rgba(0, 0, 0, 0.15);\n",
              "      filter: drop-shadow(0px 1px 2px rgba(0, 0, 0, 0.3));\n",
              "      fill: #FFFFFF;\n",
              "    }\n",
              "  </style>\n",
              "\n",
              "      <script>\n",
              "        const buttonEl =\n",
              "          document.querySelector('#df-a220214f-ffd9-46bb-a858-cd22ba9a401b button.colab-df-convert');\n",
              "        buttonEl.style.display =\n",
              "          google.colab.kernel.accessAllowed ? 'block' : 'none';\n",
              "\n",
              "        async function convertToInteractive(key) {\n",
              "          const element = document.querySelector('#df-a220214f-ffd9-46bb-a858-cd22ba9a401b');\n",
              "          const dataTable =\n",
              "            await google.colab.kernel.invokeFunction('convertToInteractive',\n",
              "                                                     [key], {});\n",
              "          if (!dataTable) return;\n",
              "\n",
              "          const docLinkHtml = 'Like what you see? Visit the ' +\n",
              "            '<a target=\"_blank\" href=https://colab.research.google.com/notebooks/data_table.ipynb>data table notebook</a>'\n",
              "            + ' to learn more about interactive tables.';\n",
              "          element.innerHTML = '';\n",
              "          dataTable['output_type'] = 'display_data';\n",
              "          await google.colab.output.renderOutput(dataTable, element);\n",
              "          const docLink = document.createElement('div');\n",
              "          docLink.innerHTML = docLinkHtml;\n",
              "          element.appendChild(docLink);\n",
              "        }\n",
              "      </script>\n",
              "    </div>\n",
              "  </div>\n",
              "  "
            ]
          },
          "metadata": {},
          "execution_count": 59
        }
      ]
    },
    {
      "cell_type": "code",
      "source": [
        "yData = train.pop('Survived').to_numpy()\n",
        "xData = train.to_numpy()\n",
        "\n",
        "x_train, x_test, y_train, y_test = train_test_split(xData, yData, test_size = .2, \n",
        "                                                    stratify=yData, shuffle=True, random_state = 42)\n",
        "x_train.shape, y_train.shape, x_test.shape, y_test.shape"
      ],
      "metadata": {
        "colab": {
          "base_uri": "https://localhost:8080/"
        },
        "id": "hkW649A_WpUV",
        "outputId": "273f6825-ac96-4be2-d173-9eff75d27a40"
      },
      "execution_count": null,
      "outputs": [
        {
          "output_type": "execute_result",
          "data": {
            "text/plain": [
              "((712, 8), (712,), (179, 8), (179,))"
            ]
          },
          "metadata": {},
          "execution_count": 60
        }
      ]
    },
    {
      "cell_type": "markdown",
      "source": [
        "# XGBoost"
      ],
      "metadata": {
        "id": "02EastMoXG5Q"
      }
    },
    {
      "cell_type": "code",
      "source": [
        "param_grid = {\n",
        "    'n_estimators': [100, 200, 500, 800], \n",
        "    'learning_rate': [0.001, 0.01, 0.1, 0.3]\n",
        "    }\n",
        "\n",
        "xgb = XGBClassifier()\n",
        "xgb_grid = GridSearchCV(xgb, param_grid, cv=3, scoring='accuracy', verbose = 3)\n",
        "xgb_grid.fit(x_train, y_train)"
      ],
      "metadata": {
        "colab": {
          "base_uri": "https://localhost:8080/"
        },
        "id": "vDBpr6xOXCKJ",
        "outputId": "13e57b73-fd9d-4d30-f635-33cb4dce1b91"
      },
      "execution_count": null,
      "outputs": [
        {
          "output_type": "stream",
          "name": "stdout",
          "text": [
            "Fitting 3 folds for each of 16 candidates, totalling 48 fits\n",
            "[CV 1/3] END learning_rate=0.001, n_estimators=100;, score=0.803 total time=   0.2s\n",
            "[CV 2/3] END learning_rate=0.001, n_estimators=100;, score=0.802 total time=   0.1s\n",
            "[CV 3/3] END learning_rate=0.001, n_estimators=100;, score=0.827 total time=   0.1s\n",
            "[CV 1/3] END learning_rate=0.001, n_estimators=200;, score=0.803 total time=   0.1s\n",
            "[CV 2/3] END learning_rate=0.001, n_estimators=200;, score=0.810 total time=   0.1s\n",
            "[CV 3/3] END learning_rate=0.001, n_estimators=200;, score=0.827 total time=   0.1s\n",
            "[CV 1/3] END learning_rate=0.001, n_estimators=500;, score=0.803 total time=   0.3s\n",
            "[CV 2/3] END learning_rate=0.001, n_estimators=500;, score=0.814 total time=   0.3s\n",
            "[CV 3/3] END learning_rate=0.001, n_estimators=500;, score=0.827 total time=   0.4s\n",
            "[CV 1/3] END learning_rate=0.001, n_estimators=800;, score=0.803 total time=   0.5s\n",
            "[CV 2/3] END learning_rate=0.001, n_estimators=800;, score=0.814 total time=   0.5s\n",
            "[CV 3/3] END learning_rate=0.001, n_estimators=800;, score=0.827 total time=   0.3s\n",
            "[CV 1/3] END learning_rate=0.01, n_estimators=100;, score=0.803 total time=   0.0s\n",
            "[CV 2/3] END learning_rate=0.01, n_estimators=100;, score=0.814 total time=   0.0s\n",
            "[CV 3/3] END learning_rate=0.01, n_estimators=100;, score=0.827 total time=   0.0s\n",
            "[CV 1/3] END learning_rate=0.01, n_estimators=200;, score=0.824 total time=   0.1s\n",
            "[CV 2/3] END learning_rate=0.01, n_estimators=200;, score=0.810 total time=   0.1s\n",
            "[CV 3/3] END learning_rate=0.01, n_estimators=200;, score=0.840 total time=   0.1s\n",
            "[CV 1/3] END learning_rate=0.01, n_estimators=500;, score=0.819 total time=   0.2s\n",
            "[CV 2/3] END learning_rate=0.01, n_estimators=500;, score=0.827 total time=   0.2s\n",
            "[CV 3/3] END learning_rate=0.01, n_estimators=500;, score=0.819 total time=   0.2s\n",
            "[CV 1/3] END learning_rate=0.01, n_estimators=800;, score=0.819 total time=   0.2s\n",
            "[CV 2/3] END learning_rate=0.01, n_estimators=800;, score=0.840 total time=   0.3s\n",
            "[CV 3/3] END learning_rate=0.01, n_estimators=800;, score=0.802 total time=   0.3s\n",
            "[CV 1/3] END learning_rate=0.1, n_estimators=100;, score=0.819 total time=   0.0s\n",
            "[CV 2/3] END learning_rate=0.1, n_estimators=100;, score=0.835 total time=   0.0s\n",
            "[CV 3/3] END learning_rate=0.1, n_estimators=100;, score=0.785 total time=   0.0s\n",
            "[CV 1/3] END learning_rate=0.1, n_estimators=200;, score=0.803 total time=   0.1s\n",
            "[CV 2/3] END learning_rate=0.1, n_estimators=200;, score=0.831 total time=   0.1s\n",
            "[CV 3/3] END learning_rate=0.1, n_estimators=200;, score=0.789 total time=   0.1s\n",
            "[CV 1/3] END learning_rate=0.1, n_estimators=500;, score=0.790 total time=   0.2s\n",
            "[CV 2/3] END learning_rate=0.1, n_estimators=500;, score=0.848 total time=   0.2s\n",
            "[CV 3/3] END learning_rate=0.1, n_estimators=500;, score=0.768 total time=   0.2s\n",
            "[CV 1/3] END learning_rate=0.1, n_estimators=800;, score=0.794 total time=   0.3s\n",
            "[CV 2/3] END learning_rate=0.1, n_estimators=800;, score=0.835 total time=   0.3s\n",
            "[CV 3/3] END learning_rate=0.1, n_estimators=800;, score=0.734 total time=   0.3s\n",
            "[CV 1/3] END learning_rate=0.3, n_estimators=100;, score=0.798 total time=   0.0s\n",
            "[CV 2/3] END learning_rate=0.3, n_estimators=100;, score=0.840 total time=   0.0s\n",
            "[CV 3/3] END learning_rate=0.3, n_estimators=100;, score=0.772 total time=   0.0s\n",
            "[CV 1/3] END learning_rate=0.3, n_estimators=200;, score=0.773 total time=   0.1s\n",
            "[CV 2/3] END learning_rate=0.3, n_estimators=200;, score=0.840 total time=   0.1s\n",
            "[CV 3/3] END learning_rate=0.3, n_estimators=200;, score=0.755 total time=   0.1s\n",
            "[CV 1/3] END learning_rate=0.3, n_estimators=500;, score=0.773 total time=   0.2s\n",
            "[CV 2/3] END learning_rate=0.3, n_estimators=500;, score=0.831 total time=   0.2s\n",
            "[CV 3/3] END learning_rate=0.3, n_estimators=500;, score=0.751 total time=   0.2s\n",
            "[CV 1/3] END learning_rate=0.3, n_estimators=800;, score=0.773 total time=   0.3s\n",
            "[CV 2/3] END learning_rate=0.3, n_estimators=800;, score=0.823 total time=   0.3s\n",
            "[CV 3/3] END learning_rate=0.3, n_estimators=800;, score=0.743 total time=   0.2s\n"
          ]
        },
        {
          "output_type": "execute_result",
          "data": {
            "text/plain": [
              "GridSearchCV(cv=3, estimator=XGBClassifier(),\n",
              "             param_grid={'learning_rate': [0.001, 0.01, 0.1, 0.3],\n",
              "                         'n_estimators': [100, 200, 500, 800]},\n",
              "             scoring='accuracy', verbose=3)"
            ]
          },
          "metadata": {},
          "execution_count": 61
        }
      ]
    },
    {
      "cell_type": "code",
      "source": [
        "print(xgb_grid.best_params_)"
      ],
      "metadata": {
        "colab": {
          "base_uri": "https://localhost:8080/"
        },
        "id": "7S6jotWnXUCq",
        "outputId": "6eacd881-7ef9-4d1c-f4ad-0e5a2483dbeb"
      },
      "execution_count": null,
      "outputs": [
        {
          "output_type": "stream",
          "name": "stdout",
          "text": [
            "{'learning_rate': 0.01, 'n_estimators': 200}\n"
          ]
        }
      ]
    },
    {
      "cell_type": "code",
      "source": [
        "final_xgb = XGBClassifier(learning_rate=0.01, n_estimators=200)\n",
        "eval_set = [(x_train, y_train), (x_test, y_test)]\n",
        "final_xgb.fit(x_train, y_train, early_stopping_rounds=15, eval_metric=[\"error\", \"logloss\"], eval_set=eval_set, verbose=True)\n",
        "final_xgb_label_pred = final_xgb.predict(x_test)"
      ],
      "metadata": {
        "colab": {
          "base_uri": "https://localhost:8080/"
        },
        "id": "QUlFJ29IaDIp",
        "outputId": "34363aae-77e6-4d79-a09c-96d3939e3e17"
      },
      "execution_count": null,
      "outputs": [
        {
          "output_type": "stream",
          "name": "stdout",
          "text": [
            "[0]\tvalidation_0-error:0.168539\tvalidation_0-logloss:0.688312\tvalidation_1-error:0.217877\tvalidation_1-logloss:0.689198\n",
            "Multiple eval metrics have been passed: 'validation_1-logloss' will be used for early stopping.\n",
            "\n",
            "Will train until validation_1-logloss hasn't improved in 15 rounds.\n",
            "[1]\tvalidation_0-error:0.168539\tvalidation_0-logloss:0.683572\tvalidation_1-error:0.217877\tvalidation_1-logloss:0.685208\n",
            "[2]\tvalidation_0-error:0.168539\tvalidation_0-logloss:0.67892\tvalidation_1-error:0.217877\tvalidation_1-logloss:0.681302\n",
            "[3]\tvalidation_0-error:0.168539\tvalidation_0-logloss:0.674356\tvalidation_1-error:0.217877\tvalidation_1-logloss:0.677476\n",
            "[4]\tvalidation_0-error:0.168539\tvalidation_0-logloss:0.669882\tvalidation_1-error:0.217877\tvalidation_1-logloss:0.673729\n",
            "[5]\tvalidation_0-error:0.168539\tvalidation_0-logloss:0.665488\tvalidation_1-error:0.217877\tvalidation_1-logloss:0.670057\n",
            "[6]\tvalidation_0-error:0.168539\tvalidation_0-logloss:0.66118\tvalidation_1-error:0.217877\tvalidation_1-logloss:0.66631\n",
            "[7]\tvalidation_0-error:0.168539\tvalidation_0-logloss:0.656955\tvalidation_1-error:0.217877\tvalidation_1-logloss:0.662784\n",
            "[8]\tvalidation_0-error:0.168539\tvalidation_0-logloss:0.652797\tvalidation_1-error:0.217877\tvalidation_1-logloss:0.65918\n",
            "[9]\tvalidation_0-error:0.168539\tvalidation_0-logloss:0.648723\tvalidation_1-error:0.217877\tvalidation_1-logloss:0.655795\n",
            "[10]\tvalidation_0-error:0.168539\tvalidation_0-logloss:0.644722\tvalidation_1-error:0.217877\tvalidation_1-logloss:0.652329\n",
            "[11]\tvalidation_0-error:0.168539\tvalidation_0-logloss:0.64079\tvalidation_1-error:0.217877\tvalidation_1-logloss:0.649074\n",
            "[12]\tvalidation_0-error:0.168539\tvalidation_0-logloss:0.636932\tvalidation_1-error:0.217877\tvalidation_1-logloss:0.645739\n",
            "[13]\tvalidation_0-error:0.168539\tvalidation_0-logloss:0.633139\tvalidation_1-error:0.217877\tvalidation_1-logloss:0.642613\n",
            "[14]\tvalidation_0-error:0.168539\tvalidation_0-logloss:0.629416\tvalidation_1-error:0.217877\tvalidation_1-logloss:0.639403\n",
            "[15]\tvalidation_0-error:0.168539\tvalidation_0-logloss:0.625762\tvalidation_1-error:0.217877\tvalidation_1-logloss:0.636451\n",
            "[16]\tvalidation_0-error:0.168539\tvalidation_0-logloss:0.622163\tvalidation_1-error:0.217877\tvalidation_1-logloss:0.633503\n",
            "[17]\tvalidation_0-error:0.168539\tvalidation_0-logloss:0.618636\tvalidation_1-error:0.217877\tvalidation_1-logloss:0.630468\n",
            "[18]\tvalidation_0-error:0.168539\tvalidation_0-logloss:0.615165\tvalidation_1-error:0.217877\tvalidation_1-logloss:0.627687\n",
            "[19]\tvalidation_0-error:0.168539\tvalidation_0-logloss:0.611758\tvalidation_1-error:0.217877\tvalidation_1-logloss:0.624906\n",
            "[20]\tvalidation_0-error:0.168539\tvalidation_0-logloss:0.608408\tvalidation_1-error:0.217877\tvalidation_1-logloss:0.622036\n",
            "[21]\tvalidation_0-error:0.168539\tvalidation_0-logloss:0.605113\tvalidation_1-error:0.217877\tvalidation_1-logloss:0.619413\n",
            "[22]\tvalidation_0-error:0.168539\tvalidation_0-logloss:0.601878\tvalidation_1-error:0.217877\tvalidation_1-logloss:0.616648\n",
            "[23]\tvalidation_0-error:0.168539\tvalidation_0-logloss:0.598693\tvalidation_1-error:0.217877\tvalidation_1-logloss:0.614071\n",
            "[24]\tvalidation_0-error:0.168539\tvalidation_0-logloss:0.595567\tvalidation_1-error:0.217877\tvalidation_1-logloss:0.611438\n",
            "[25]\tvalidation_0-error:0.16573\tvalidation_0-logloss:0.592411\tvalidation_1-error:0.217877\tvalidation_1-logloss:0.608782\n",
            "[26]\tvalidation_0-error:0.16573\tvalidation_0-logloss:0.589306\tvalidation_1-error:0.217877\tvalidation_1-logloss:0.606166\n",
            "[27]\tvalidation_0-error:0.16573\tvalidation_0-logloss:0.586338\tvalidation_1-error:0.217877\tvalidation_1-logloss:0.603672\n",
            "[28]\tvalidation_0-error:0.164326\tvalidation_0-logloss:0.583334\tvalidation_1-error:0.21229\tvalidation_1-logloss:0.601198\n",
            "[29]\tvalidation_0-error:0.16573\tvalidation_0-logloss:0.58038\tvalidation_1-error:0.217877\tvalidation_1-logloss:0.598674\n",
            "[30]\tvalidation_0-error:0.164326\tvalidation_0-logloss:0.577472\tvalidation_1-error:0.21229\tvalidation_1-logloss:0.596103\n",
            "[31]\tvalidation_0-error:0.164326\tvalidation_0-logloss:0.574696\tvalidation_1-error:0.21229\tvalidation_1-logloss:0.593962\n",
            "[32]\tvalidation_0-error:0.164326\tvalidation_0-logloss:0.571883\tvalidation_1-error:0.21229\tvalidation_1-logloss:0.591607\n",
            "[33]\tvalidation_0-error:0.164326\tvalidation_0-logloss:0.569113\tvalidation_1-error:0.21229\tvalidation_1-logloss:0.589121\n",
            "[34]\tvalidation_0-error:0.164326\tvalidation_0-logloss:0.566393\tvalidation_1-error:0.21229\tvalidation_1-logloss:0.586897\n",
            "[35]\tvalidation_0-error:0.164326\tvalidation_0-logloss:0.563791\tvalidation_1-error:0.21229\tvalidation_1-logloss:0.58486\n",
            "[36]\tvalidation_0-error:0.164326\tvalidation_0-logloss:0.56115\tvalidation_1-error:0.21229\tvalidation_1-logloss:0.582533\n",
            "[37]\tvalidation_0-error:0.162921\tvalidation_0-logloss:0.558556\tvalidation_1-error:0.21229\tvalidation_1-logloss:0.580205\n",
            "[38]\tvalidation_0-error:0.162921\tvalidation_0-logloss:0.556005\tvalidation_1-error:0.21229\tvalidation_1-logloss:0.578133\n",
            "[39]\tvalidation_0-error:0.162921\tvalidation_0-logloss:0.553566\tvalidation_1-error:0.21229\tvalidation_1-logloss:0.576238\n",
            "[40]\tvalidation_0-error:0.162921\tvalidation_0-logloss:0.551092\tvalidation_1-error:0.21229\tvalidation_1-logloss:0.57406\n",
            "[41]\tvalidation_0-error:0.162921\tvalidation_0-logloss:0.548655\tvalidation_1-error:0.21229\tvalidation_1-logloss:0.572056\n",
            "[42]\tvalidation_0-error:0.162921\tvalidation_0-logloss:0.546259\tvalidation_1-error:0.21229\tvalidation_1-logloss:0.570074\n",
            "[43]\tvalidation_0-error:0.162921\tvalidation_0-logloss:0.543968\tvalidation_1-error:0.21229\tvalidation_1-logloss:0.568186\n",
            "[44]\tvalidation_0-error:0.162921\tvalidation_0-logloss:0.541647\tvalidation_1-error:0.21229\tvalidation_1-logloss:0.566317\n",
            "[45]\tvalidation_0-error:0.162921\tvalidation_0-logloss:0.539361\tvalidation_1-error:0.21229\tvalidation_1-logloss:0.564399\n",
            "[46]\tvalidation_0-error:0.162921\tvalidation_0-logloss:0.537175\tvalidation_1-error:0.21229\tvalidation_1-logloss:0.562641\n",
            "[47]\tvalidation_0-error:0.162921\tvalidation_0-logloss:0.534961\tvalidation_1-error:0.21229\tvalidation_1-logloss:0.560842\n",
            "[48]\tvalidation_0-error:0.162921\tvalidation_0-logloss:0.53278\tvalidation_1-error:0.21229\tvalidation_1-logloss:0.559028\n",
            "[49]\tvalidation_0-error:0.162921\tvalidation_0-logloss:0.530631\tvalidation_1-error:0.21229\tvalidation_1-logloss:0.557121\n",
            "[50]\tvalidation_0-error:0.162921\tvalidation_0-logloss:0.528575\tvalidation_1-error:0.21229\tvalidation_1-logloss:0.555612\n",
            "[51]\tvalidation_0-error:0.162921\tvalidation_0-logloss:0.526492\tvalidation_1-error:0.21229\tvalidation_1-logloss:0.553764\n",
            "[52]\tvalidation_0-error:0.162921\tvalidation_0-logloss:0.524438\tvalidation_1-error:0.21229\tvalidation_1-logloss:0.552068\n",
            "[53]\tvalidation_0-error:0.162921\tvalidation_0-logloss:0.522419\tvalidation_1-error:0.21229\tvalidation_1-logloss:0.550302\n",
            "[54]\tvalidation_0-error:0.162921\tvalidation_0-logloss:0.520488\tvalidation_1-error:0.21229\tvalidation_1-logloss:0.548865\n",
            "[55]\tvalidation_0-error:0.162921\tvalidation_0-logloss:0.518526\tvalidation_1-error:0.21229\tvalidation_1-logloss:0.547294\n",
            "[56]\tvalidation_0-error:0.162921\tvalidation_0-logloss:0.516596\tvalidation_1-error:0.21229\tvalidation_1-logloss:0.545587\n",
            "[57]\tvalidation_0-error:0.162921\tvalidation_0-logloss:0.514693\tvalidation_1-error:0.21229\tvalidation_1-logloss:0.544027\n",
            "[58]\tvalidation_0-error:0.162921\tvalidation_0-logloss:0.512876\tvalidation_1-error:0.21229\tvalidation_1-logloss:0.542731\n",
            "[59]\tvalidation_0-error:0.162921\tvalidation_0-logloss:0.511031\tvalidation_1-error:0.21229\tvalidation_1-logloss:0.541091\n",
            "[60]\tvalidation_0-error:0.162921\tvalidation_0-logloss:0.509214\tvalidation_1-error:0.21229\tvalidation_1-logloss:0.539605\n",
            "[61]\tvalidation_0-error:0.162921\tvalidation_0-logloss:0.507423\tvalidation_1-error:0.21229\tvalidation_1-logloss:0.538187\n",
            "[62]\tvalidation_0-error:0.162921\tvalidation_0-logloss:0.505711\tvalidation_1-error:0.21229\tvalidation_1-logloss:0.536823\n",
            "[63]\tvalidation_0-error:0.162921\tvalidation_0-logloss:0.503972\tvalidation_1-error:0.21229\tvalidation_1-logloss:0.535429\n",
            "[64]\tvalidation_0-error:0.162921\tvalidation_0-logloss:0.502257\tvalidation_1-error:0.21229\tvalidation_1-logloss:0.533922\n",
            "[65]\tvalidation_0-error:0.162921\tvalidation_0-logloss:0.500622\tvalidation_1-error:0.21229\tvalidation_1-logloss:0.532835\n",
            "[66]\tvalidation_0-error:0.162921\tvalidation_0-logloss:0.498958\tvalidation_1-error:0.21229\tvalidation_1-logloss:0.531392\n",
            "[67]\tvalidation_0-error:0.162921\tvalidation_0-logloss:0.497321\tvalidation_1-error:0.21229\tvalidation_1-logloss:0.530108\n",
            "[68]\tvalidation_0-error:0.162921\tvalidation_0-logloss:0.495705\tvalidation_1-error:0.21229\tvalidation_1-logloss:0.528805\n",
            "[69]\tvalidation_0-error:0.162921\tvalidation_0-logloss:0.494162\tvalidation_1-error:0.21229\tvalidation_1-logloss:0.527609\n",
            "[70]\tvalidation_0-error:0.162921\tvalidation_0-logloss:0.492594\tvalidation_1-error:0.21229\tvalidation_1-logloss:0.526377\n",
            "[71]\tvalidation_0-error:0.162921\tvalidation_0-logloss:0.49105\tvalidation_1-error:0.21229\tvalidation_1-logloss:0.525137\n",
            "[72]\tvalidation_0-error:0.162921\tvalidation_0-logloss:0.489574\tvalidation_1-error:0.21229\tvalidation_1-logloss:0.524052\n",
            "[73]\tvalidation_0-error:0.162921\tvalidation_0-logloss:0.488071\tvalidation_1-error:0.21229\tvalidation_1-logloss:0.522737\n",
            "[74]\tvalidation_0-error:0.162921\tvalidation_0-logloss:0.486593\tvalidation_1-error:0.21229\tvalidation_1-logloss:0.521594\n",
            "[75]\tvalidation_0-error:0.162921\tvalidation_0-logloss:0.485182\tvalidation_1-error:0.21229\tvalidation_1-logloss:0.520605\n",
            "[76]\tvalidation_0-error:0.162921\tvalidation_0-logloss:0.483744\tvalidation_1-error:0.21229\tvalidation_1-logloss:0.519385\n",
            "[77]\tvalidation_0-error:0.161517\tvalidation_0-logloss:0.482328\tvalidation_1-error:0.206704\tvalidation_1-logloss:0.518295\n",
            "[78]\tvalidation_0-error:0.161517\tvalidation_0-logloss:0.480931\tvalidation_1-error:0.206704\tvalidation_1-logloss:0.517188\n",
            "[79]\tvalidation_0-error:0.161517\tvalidation_0-logloss:0.479596\tvalidation_1-error:0.206704\tvalidation_1-logloss:0.516227\n",
            "[80]\tvalidation_0-error:0.161517\tvalidation_0-logloss:0.47824\tvalidation_1-error:0.206704\tvalidation_1-logloss:0.515179\n",
            "[81]\tvalidation_0-error:0.161517\tvalidation_0-logloss:0.476904\tvalidation_1-error:0.206704\tvalidation_1-logloss:0.514013\n",
            "[82]\tvalidation_0-error:0.161517\tvalidation_0-logloss:0.475624\tvalidation_1-error:0.206704\tvalidation_1-logloss:0.513229\n",
            "[83]\tvalidation_0-error:0.161517\tvalidation_0-logloss:0.474325\tvalidation_1-error:0.206704\tvalidation_1-logloss:0.512241\n",
            "[84]\tvalidation_0-error:0.161517\tvalidation_0-logloss:0.473043\tvalidation_1-error:0.206704\tvalidation_1-logloss:0.51126\n",
            "[85]\tvalidation_0-error:0.161517\tvalidation_0-logloss:0.471818\tvalidation_1-error:0.206704\tvalidation_1-logloss:0.510393\n",
            "[86]\tvalidation_0-error:0.161517\tvalidation_0-logloss:0.470571\tvalidation_1-error:0.206704\tvalidation_1-logloss:0.509407\n",
            "[87]\tvalidation_0-error:0.161517\tvalidation_0-logloss:0.469342\tvalidation_1-error:0.206704\tvalidation_1-logloss:0.508484\n",
            "[88]\tvalidation_0-error:0.161517\tvalidation_0-logloss:0.468169\tvalidation_1-error:0.206704\tvalidation_1-logloss:0.507727\n",
            "[89]\tvalidation_0-error:0.161517\tvalidation_0-logloss:0.466972\tvalidation_1-error:0.206704\tvalidation_1-logloss:0.50669\n",
            "[90]\tvalidation_0-error:0.161517\tvalidation_0-logloss:0.465796\tvalidation_1-error:0.206704\tvalidation_1-logloss:0.505808\n",
            "[91]\tvalidation_0-error:0.161517\tvalidation_0-logloss:0.46462\tvalidation_1-error:0.206704\tvalidation_1-logloss:0.505022\n",
            "[92]\tvalidation_0-error:0.161517\tvalidation_0-logloss:0.463473\tvalidation_1-error:0.206704\tvalidation_1-logloss:0.504161\n",
            "[93]\tvalidation_0-error:0.161517\tvalidation_0-logloss:0.462328\tvalidation_1-error:0.206704\tvalidation_1-logloss:0.503543\n",
            "[94]\tvalidation_0-error:0.161517\tvalidation_0-logloss:0.46121\tvalidation_1-error:0.206704\tvalidation_1-logloss:0.502591\n",
            "[95]\tvalidation_0-error:0.161517\tvalidation_0-logloss:0.460095\tvalidation_1-error:0.206704\tvalidation_1-logloss:0.501989\n",
            "[96]\tvalidation_0-error:0.161517\tvalidation_0-logloss:0.458995\tvalidation_1-error:0.206704\tvalidation_1-logloss:0.50127\n",
            "[97]\tvalidation_0-error:0.161517\tvalidation_0-logloss:0.457916\tvalidation_1-error:0.206704\tvalidation_1-logloss:0.500481\n",
            "[98]\tvalidation_0-error:0.161517\tvalidation_0-logloss:0.456844\tvalidation_1-error:0.206704\tvalidation_1-logloss:0.499926\n",
            "[99]\tvalidation_0-error:0.161517\tvalidation_0-logloss:0.455827\tvalidation_1-error:0.206704\tvalidation_1-logloss:0.499329\n",
            "[100]\tvalidation_0-error:0.161517\tvalidation_0-logloss:0.454782\tvalidation_1-error:0.206704\tvalidation_1-logloss:0.498787\n",
            "[101]\tvalidation_0-error:0.161517\tvalidation_0-logloss:0.453749\tvalidation_1-error:0.206704\tvalidation_1-logloss:0.498145\n",
            "[102]\tvalidation_0-error:0.161517\tvalidation_0-logloss:0.452737\tvalidation_1-error:0.206704\tvalidation_1-logloss:0.497412\n",
            "[103]\tvalidation_0-error:0.161517\tvalidation_0-logloss:0.45173\tvalidation_1-error:0.206704\tvalidation_1-logloss:0.496905\n",
            "[104]\tvalidation_0-error:0.161517\tvalidation_0-logloss:0.450744\tvalidation_1-error:0.206704\tvalidation_1-logloss:0.49606\n",
            "[105]\tvalidation_0-error:0.161517\tvalidation_0-logloss:0.449761\tvalidation_1-error:0.206704\tvalidation_1-logloss:0.49558\n",
            "[106]\tvalidation_0-error:0.161517\tvalidation_0-logloss:0.448792\tvalidation_1-error:0.206704\tvalidation_1-logloss:0.494994\n",
            "[107]\tvalidation_0-error:0.161517\tvalidation_0-logloss:0.447842\tvalidation_1-error:0.206704\tvalidation_1-logloss:0.494312\n",
            "[108]\tvalidation_0-error:0.161517\tvalidation_0-logloss:0.446897\tvalidation_1-error:0.206704\tvalidation_1-logloss:0.493867\n",
            "[109]\tvalidation_0-error:0.161517\tvalidation_0-logloss:0.445971\tvalidation_1-error:0.206704\tvalidation_1-logloss:0.493077\n",
            "[110]\tvalidation_0-error:0.161517\tvalidation_0-logloss:0.445049\tvalidation_1-error:0.206704\tvalidation_1-logloss:0.492643\n",
            "[111]\tvalidation_0-error:0.161517\tvalidation_0-logloss:0.444136\tvalidation_1-error:0.206704\tvalidation_1-logloss:0.492196\n",
            "[112]\tvalidation_0-error:0.161517\tvalidation_0-logloss:0.443244\tvalidation_1-error:0.206704\tvalidation_1-logloss:0.491614\n",
            "[113]\tvalidation_0-error:0.161517\tvalidation_0-logloss:0.442355\tvalidation_1-error:0.206704\tvalidation_1-logloss:0.491085\n",
            "[114]\tvalidation_0-error:0.161517\tvalidation_0-logloss:0.441485\tvalidation_1-error:0.206704\tvalidation_1-logloss:0.490478\n",
            "[115]\tvalidation_0-error:0.161517\tvalidation_0-logloss:0.440618\tvalidation_1-error:0.206704\tvalidation_1-logloss:0.490092\n",
            "[116]\tvalidation_0-error:0.161517\tvalidation_0-logloss:0.439761\tvalidation_1-error:0.206704\tvalidation_1-logloss:0.489606\n",
            "[117]\tvalidation_0-error:0.161517\tvalidation_0-logloss:0.438923\tvalidation_1-error:0.206704\tvalidation_1-logloss:0.48907\n",
            "[118]\tvalidation_0-error:0.161517\tvalidation_0-logloss:0.438087\tvalidation_1-error:0.206704\tvalidation_1-logloss:0.488589\n",
            "[119]\tvalidation_0-error:0.161517\tvalidation_0-logloss:0.437262\tvalidation_1-error:0.206704\tvalidation_1-logloss:0.488239\n",
            "[120]\tvalidation_0-error:0.161517\tvalidation_0-logloss:0.436451\tvalidation_1-error:0.206704\tvalidation_1-logloss:0.487694\n",
            "[121]\tvalidation_0-error:0.161517\tvalidation_0-logloss:0.435646\tvalidation_1-error:0.206704\tvalidation_1-logloss:0.487369\n",
            "[122]\tvalidation_0-error:0.161517\tvalidation_0-logloss:0.434855\tvalidation_1-error:0.206704\tvalidation_1-logloss:0.486849\n",
            "[123]\tvalidation_0-error:0.161517\tvalidation_0-logloss:0.434068\tvalidation_1-error:0.206704\tvalidation_1-logloss:0.486549\n",
            "[124]\tvalidation_0-error:0.161517\tvalidation_0-logloss:0.433194\tvalidation_1-error:0.206704\tvalidation_1-logloss:0.485749\n",
            "[125]\tvalidation_0-error:0.161517\tvalidation_0-logloss:0.432427\tvalidation_1-error:0.206704\tvalidation_1-logloss:0.485447\n",
            "[126]\tvalidation_0-error:0.161517\tvalidation_0-logloss:0.431576\tvalidation_1-error:0.206704\tvalidation_1-logloss:0.484791\n",
            "[127]\tvalidation_0-error:0.161517\tvalidation_0-logloss:0.430827\tvalidation_1-error:0.206704\tvalidation_1-logloss:0.484508\n",
            "[128]\tvalidation_0-error:0.161517\tvalidation_0-logloss:0.43009\tvalidation_1-error:0.206704\tvalidation_1-logloss:0.484019\n",
            "[129]\tvalidation_0-error:0.161517\tvalidation_0-logloss:0.429358\tvalidation_1-error:0.206704\tvalidation_1-logloss:0.483642\n",
            "[130]\tvalidation_0-error:0.161517\tvalidation_0-logloss:0.428544\tvalidation_1-error:0.206704\tvalidation_1-logloss:0.483002\n",
            "[131]\tvalidation_0-error:0.161517\tvalidation_0-logloss:0.427828\tvalidation_1-error:0.206704\tvalidation_1-logloss:0.482762\n",
            "[132]\tvalidation_0-error:0.161517\tvalidation_0-logloss:0.427048\tvalidation_1-error:0.206704\tvalidation_1-logloss:0.482427\n",
            "[133]\tvalidation_0-error:0.161517\tvalidation_0-logloss:0.426349\tvalidation_1-error:0.206704\tvalidation_1-logloss:0.482201\n",
            "[134]\tvalidation_0-error:0.161517\tvalidation_0-logloss:0.425571\tvalidation_1-error:0.206704\tvalidation_1-logloss:0.481564\n",
            "[135]\tvalidation_0-error:0.161517\tvalidation_0-logloss:0.424889\tvalidation_1-error:0.206704\tvalidation_1-logloss:0.481335\n",
            "[136]\tvalidation_0-error:0.161517\tvalidation_0-logloss:0.424143\tvalidation_1-error:0.206704\tvalidation_1-logloss:0.481056\n",
            "[137]\tvalidation_0-error:0.161517\tvalidation_0-logloss:0.423477\tvalidation_1-error:0.206704\tvalidation_1-logloss:0.480843\n",
            "[138]\tvalidation_0-error:0.160112\tvalidation_0-logloss:0.422731\tvalidation_1-error:0.206704\tvalidation_1-logloss:0.480281\n",
            "[139]\tvalidation_0-error:0.160112\tvalidation_0-logloss:0.422082\tvalidation_1-error:0.206704\tvalidation_1-logloss:0.479979\n",
            "[140]\tvalidation_0-error:0.160112\tvalidation_0-logloss:0.421367\tvalidation_1-error:0.206704\tvalidation_1-logloss:0.479718\n",
            "[141]\tvalidation_0-error:0.160112\tvalidation_0-logloss:0.420731\tvalidation_1-error:0.206704\tvalidation_1-logloss:0.479542\n",
            "[142]\tvalidation_0-error:0.160112\tvalidation_0-logloss:0.420019\tvalidation_1-error:0.206704\tvalidation_1-logloss:0.479\n",
            "[143]\tvalidation_0-error:0.160112\tvalidation_0-logloss:0.419398\tvalidation_1-error:0.206704\tvalidation_1-logloss:0.478718\n",
            "[144]\tvalidation_0-error:0.160112\tvalidation_0-logloss:0.418713\tvalidation_1-error:0.206704\tvalidation_1-logloss:0.47848\n",
            "[145]\tvalidation_0-error:0.160112\tvalidation_0-logloss:0.418107\tvalidation_1-error:0.206704\tvalidation_1-logloss:0.478334\n",
            "[146]\tvalidation_0-error:0.160112\tvalidation_0-logloss:0.417425\tvalidation_1-error:0.206704\tvalidation_1-logloss:0.477877\n",
            "[147]\tvalidation_0-error:0.160112\tvalidation_0-logloss:0.416832\tvalidation_1-error:0.206704\tvalidation_1-logloss:0.477724\n",
            "[148]\tvalidation_0-error:0.160112\tvalidation_0-logloss:0.416246\tvalidation_1-error:0.206704\tvalidation_1-logloss:0.477239\n",
            "[149]\tvalidation_0-error:0.160112\tvalidation_0-logloss:0.415665\tvalidation_1-error:0.206704\tvalidation_1-logloss:0.47711\n",
            "[150]\tvalidation_0-error:0.160112\tvalidation_0-logloss:0.415024\tvalidation_1-error:0.206704\tvalidation_1-logloss:0.47691\n",
            "[151]\tvalidation_0-error:0.160112\tvalidation_0-logloss:0.414456\tvalidation_1-error:0.206704\tvalidation_1-logloss:0.476783\n",
            "[152]\tvalidation_0-error:0.160112\tvalidation_0-logloss:0.413816\tvalidation_1-error:0.206704\tvalidation_1-logloss:0.476312\n",
            "[153]\tvalidation_0-error:0.160112\tvalidation_0-logloss:0.413262\tvalidation_1-error:0.206704\tvalidation_1-logloss:0.476087\n",
            "[154]\tvalidation_0-error:0.160112\tvalidation_0-logloss:0.412647\tvalidation_1-error:0.206704\tvalidation_1-logloss:0.475901\n",
            "[155]\tvalidation_0-error:0.160112\tvalidation_0-logloss:0.412106\tvalidation_1-error:0.206704\tvalidation_1-logloss:0.4758\n",
            "[156]\tvalidation_0-error:0.160112\tvalidation_0-logloss:0.411492\tvalidation_1-error:0.206704\tvalidation_1-logloss:0.475352\n",
            "[157]\tvalidation_0-error:0.160112\tvalidation_0-logloss:0.410961\tvalidation_1-error:0.206704\tvalidation_1-logloss:0.475251\n",
            "[158]\tvalidation_0-error:0.160112\tvalidation_0-logloss:0.410373\tvalidation_1-error:0.206704\tvalidation_1-logloss:0.474971\n",
            "[159]\tvalidation_0-error:0.160112\tvalidation_0-logloss:0.409854\tvalidation_1-error:0.206704\tvalidation_1-logloss:0.474877\n",
            "[160]\tvalidation_0-error:0.160112\tvalidation_0-logloss:0.409266\tvalidation_1-error:0.206704\tvalidation_1-logloss:0.474452\n",
            "[161]\tvalidation_0-error:0.160112\tvalidation_0-logloss:0.40876\tvalidation_1-error:0.206704\tvalidation_1-logloss:0.474352\n",
            "[162]\tvalidation_0-error:0.160112\tvalidation_0-logloss:0.408257\tvalidation_1-error:0.206704\tvalidation_1-logloss:0.473953\n",
            "[163]\tvalidation_0-error:0.160112\tvalidation_0-logloss:0.407697\tvalidation_1-error:0.206704\tvalidation_1-logloss:0.473824\n",
            "[164]\tvalidation_0-error:0.160112\tvalidation_0-logloss:0.407206\tvalidation_1-error:0.206704\tvalidation_1-logloss:0.473751\n",
            "[165]\tvalidation_0-error:0.160112\tvalidation_0-logloss:0.40672\tvalidation_1-error:0.206704\tvalidation_1-logloss:0.47369\n",
            "[166]\tvalidation_0-error:0.160112\tvalidation_0-logloss:0.406179\tvalidation_1-error:0.206704\tvalidation_1-logloss:0.473566\n",
            "[167]\tvalidation_0-error:0.160112\tvalidation_0-logloss:0.405632\tvalidation_1-error:0.206704\tvalidation_1-logloss:0.473176\n",
            "[168]\tvalidation_0-error:0.160112\tvalidation_0-logloss:0.405162\tvalidation_1-error:0.206704\tvalidation_1-logloss:0.47301\n",
            "[169]\tvalidation_0-error:0.160112\tvalidation_0-logloss:0.404696\tvalidation_1-error:0.206704\tvalidation_1-logloss:0.47274\n",
            "[170]\tvalidation_0-error:0.160112\tvalidation_0-logloss:0.404236\tvalidation_1-error:0.206704\tvalidation_1-logloss:0.472707\n",
            "[171]\tvalidation_0-error:0.160112\tvalidation_0-logloss:0.403721\tvalidation_1-error:0.206704\tvalidation_1-logloss:0.472582\n",
            "[172]\tvalidation_0-error:0.160112\tvalidation_0-logloss:0.403271\tvalidation_1-error:0.206704\tvalidation_1-logloss:0.47255\n",
            "[173]\tvalidation_0-error:0.160112\tvalidation_0-logloss:0.402757\tvalidation_1-error:0.206704\tvalidation_1-logloss:0.472075\n",
            "[174]\tvalidation_0-error:0.160112\tvalidation_0-logloss:0.402315\tvalidation_1-error:0.206704\tvalidation_1-logloss:0.472043\n",
            "[175]\tvalidation_0-error:0.160112\tvalidation_0-logloss:0.401821\tvalidation_1-error:0.206704\tvalidation_1-logloss:0.471965\n",
            "[176]\tvalidation_0-error:0.160112\tvalidation_0-logloss:0.401389\tvalidation_1-error:0.206704\tvalidation_1-logloss:0.471941\n",
            "[177]\tvalidation_0-error:0.160112\tvalidation_0-logloss:0.40096\tvalidation_1-error:0.206704\tvalidation_1-logloss:0.471594\n",
            "[178]\tvalidation_0-error:0.160112\tvalidation_0-logloss:0.400538\tvalidation_1-error:0.206704\tvalidation_1-logloss:0.47159\n",
            "[179]\tvalidation_0-error:0.160112\tvalidation_0-logloss:0.400063\tvalidation_1-error:0.206704\tvalidation_1-logloss:0.471507\n",
            "[180]\tvalidation_0-error:0.160112\tvalidation_0-logloss:0.399649\tvalidation_1-error:0.206704\tvalidation_1-logloss:0.471507\n",
            "[181]\tvalidation_0-error:0.160112\tvalidation_0-logloss:0.399174\tvalidation_1-error:0.206704\tvalidation_1-logloss:0.471178\n",
            "[182]\tvalidation_0-error:0.160112\tvalidation_0-logloss:0.398768\tvalidation_1-error:0.206704\tvalidation_1-logloss:0.471077\n",
            "[183]\tvalidation_0-error:0.160112\tvalidation_0-logloss:0.398313\tvalidation_1-error:0.206704\tvalidation_1-logloss:0.471007\n",
            "[184]\tvalidation_0-error:0.160112\tvalidation_0-logloss:0.397918\tvalidation_1-error:0.206704\tvalidation_1-logloss:0.470993\n",
            "[185]\tvalidation_0-error:0.160112\tvalidation_0-logloss:0.397522\tvalidation_1-error:0.206704\tvalidation_1-logloss:0.470799\n",
            "[186]\tvalidation_0-error:0.160112\tvalidation_0-logloss:0.397079\tvalidation_1-error:0.206704\tvalidation_1-logloss:0.470746\n",
            "[187]\tvalidation_0-error:0.160112\tvalidation_0-logloss:0.396694\tvalidation_1-error:0.206704\tvalidation_1-logloss:0.470758\n",
            "[188]\tvalidation_0-error:0.160112\tvalidation_0-logloss:0.396252\tvalidation_1-error:0.206704\tvalidation_1-logloss:0.470345\n",
            "[189]\tvalidation_0-error:0.160112\tvalidation_0-logloss:0.395874\tvalidation_1-error:0.206704\tvalidation_1-logloss:0.470384\n",
            "[190]\tvalidation_0-error:0.160112\tvalidation_0-logloss:0.395499\tvalidation_1-error:0.206704\tvalidation_1-logloss:0.470189\n",
            "[191]\tvalidation_0-error:0.160112\tvalidation_0-logloss:0.395129\tvalidation_1-error:0.206704\tvalidation_1-logloss:0.470115\n",
            "[192]\tvalidation_0-error:0.160112\tvalidation_0-logloss:0.394712\tvalidation_1-error:0.206704\tvalidation_1-logloss:0.470072\n",
            "[193]\tvalidation_0-error:0.160112\tvalidation_0-logloss:0.394346\tvalidation_1-error:0.206704\tvalidation_1-logloss:0.470142\n",
            "[194]\tvalidation_0-error:0.160112\tvalidation_0-logloss:0.393985\tvalidation_1-error:0.206704\tvalidation_1-logloss:0.4702\n",
            "[195]\tvalidation_0-error:0.160112\tvalidation_0-logloss:0.39358\tvalidation_1-error:0.206704\tvalidation_1-logloss:0.47008\n",
            "[196]\tvalidation_0-error:0.160112\tvalidation_0-logloss:0.393225\tvalidation_1-error:0.206704\tvalidation_1-logloss:0.470137\n",
            "[197]\tvalidation_0-error:0.160112\tvalidation_0-logloss:0.392872\tvalidation_1-error:0.206704\tvalidation_1-logloss:0.469984\n",
            "[198]\tvalidation_0-error:0.160112\tvalidation_0-logloss:0.392526\tvalidation_1-error:0.206704\tvalidation_1-logloss:0.470029\n",
            "[199]\tvalidation_0-error:0.160112\tvalidation_0-logloss:0.392133\tvalidation_1-error:0.206704\tvalidation_1-logloss:0.470015\n"
          ]
        }
      ]
    },
    {
      "cell_type": "code",
      "source": [
        "results = final_xgb.evals_result()\n",
        "epochs = len(results['validation_0']['error'])\n",
        "x_axis = range(0, epochs)\n",
        "\n",
        "# plot log loss\n",
        "fig, ax = plt.subplots()\n",
        "ax.plot(x_axis, results['validation_0']['logloss'], label='Train')\n",
        "ax.plot(x_axis, results['validation_1']['logloss'], label='Test')\n",
        "ax.legend()\n",
        "plt.ylabel('Log Loss')\n",
        "plt.title('XGBoost Log Loss')\n",
        "plt.show()\n",
        "\n",
        "# plot classification error\n",
        "fig, ax = plt.subplots()\n",
        "ax.plot(x_axis, results['validation_0']['error'], label='Train')\n",
        "ax.plot(x_axis, results['validation_1']['error'], label='Test')\n",
        "ax.legend()\n",
        "plt.ylabel('Classification Error')\n",
        "plt.title('XGBoost Classification Error')\n",
        "plt.show()"
      ],
      "metadata": {
        "colab": {
          "base_uri": "https://localhost:8080/",
          "height": 545
        },
        "id": "qN4PnPE8aKI2",
        "outputId": "c88c290b-30a9-4ddd-fb56-5aefb73330f5"
      },
      "execution_count": null,
      "outputs": [
        {
          "output_type": "display_data",
          "data": {
            "text/plain": [
              "<Figure size 432x288 with 1 Axes>"
            ],
            "image/png": "[encoded data removed]"
          },
          "metadata": {
            "needs_background": "light"
          }
        },
        {
          "output_type": "display_data",
          "data": {
            "text/plain": [
              "<Figure size 432x288 with 1 Axes>"
            ],
            "image/png": "[encoded data removed]"
          },
          "metadata": {
            "needs_background": "light"
          }
        }
      ]
    },
    {
      "cell_type": "code",
      "source": [
        "xgb_acc = accuracy_score(y_test, final_xgb_label_pred)\n",
        "print(\"Accuracy for XGBoost on test set: {:.3f}\".format(xgb_acc))\n",
        "\n",
        "print(f\"Classification report for classifier XGBoost:\\n\"\n",
        "      f\"{classification_report(y_test, final_xgb_label_pred)}\")"
      ],
      "metadata": {
        "colab": {
          "base_uri": "https://localhost:8080/"
        },
        "id": "Q_bBDlhEaOQZ",
        "outputId": "5218e287-def4-4e7b-a233-c16b8e7c176f"
      },
      "execution_count": null,
      "outputs": [
        {
          "output_type": "stream",
          "name": "stdout",
          "text": [
            "Accuracy for XGBoost on test set: 0.793\n",
            "Classification report for classifier XGBoost:\n",
            "              precision    recall  f1-score   support\n",
            "\n",
            "           0       0.78      0.93      0.85       110\n",
            "           1       0.83      0.58      0.68        69\n",
            "\n",
            "    accuracy                           0.79       179\n",
            "   macro avg       0.81      0.75      0.77       179\n",
            "weighted avg       0.80      0.79      0.78       179\n",
            "\n"
          ]
        }
      ]
    },
    {
      "cell_type": "code",
      "source": [
        "skplt.metrics.plot_confusion_matrix(y_test, final_xgb_label_pred, figsize=(6,6), cmap= 'YlGnBu');"
      ],
      "metadata": {
        "colab": {
          "base_uri": "https://localhost:8080/",
          "height": 359
        },
        "id": "i2vZyny_aQQw",
        "outputId": "846d3a53-6906-4804-d542-fb295c93a918"
      },
      "execution_count": null,
      "outputs": [
        {
          "output_type": "display_data",
          "data": {
            "text/plain": [
              "<Figure size 432x432 with 2 Axes>"
            ],
            "image/png": "[encoded data removed]"
          },
          "metadata": {
            "needs_background": "light"
          }
        }
      ]
    },
    {
      "cell_type": "markdown",
      "source": [
        "# Output"
      ],
      "metadata": {
        "id": "EH0gdmwja0V2"
      }
    },
    {
      "cell_type": "code",
      "source": [
        "test['Survived'] = final_xgb.predict(test.values)\n",
        "submission = test[['PassengerId','Survived']]\n",
        "submission.to_csv(\"submission.csv\", index=False)\n",
        "submission.head()"
      ],
      "metadata": {
        "colab": {
          "base_uri": "https://localhost:8080/",
          "height": 206
        },
        "id": "r4G6tvRPasnS",
        "outputId": "4b5f1e1c-4bb2-4c52-e58f-2dc840cc95c3"
      },
      "execution_count": null,
      "outputs": [
        {
          "output_type": "execute_result",
          "data": {
            "text/plain": [
              "   PassengerId  Survived\n",
              "0          892         0\n",
              "1          893         1\n",
              "2          894         0\n",
              "3          895         0\n",
              "4          896         0"
            ],
            "text/html": [
              "\n",
              "  <div id=\"df-aca29522-3b76-4bc9-a2f2-0f235377e910\">\n",
              "    <div class=\"colab-df-container\">\n",
              "      <div>\n",
              "<style scoped>\n",
              "    .dataframe tbody tr th:only-of-type {\n",
              "        vertical-align: middle;\n",
              "    }\n",
              "\n",
              "    .dataframe tbody tr th {\n",
              "        vertical-align: top;\n",
              "    }\n",
              "\n",
              "    .dataframe thead th {\n",
              "        text-align: right;\n",
              "    }\n",
              "</style>\n",
              "<table border=\"1\" class=\"dataframe\">\n",
              "  <thead>\n",
              "    <tr style=\"text-align: right;\">\n",
              "      <th></th>\n",
              "      <th>PassengerId</th>\n",
              "      <th>Survived</th>\n",
              "    </tr>\n",
              "  </thead>\n",
              "  <tbody>\n",
              "    <tr>\n",
              "      <th>0</th>\n",
              "      <td>892</td>\n",
              "      <td>0</td>\n",
              "    </tr>\n",
              "    <tr>\n",
              "      <th>1</th>\n",
              "      <td>893</td>\n",
              "      <td>1</td>\n",
              "    </tr>\n",
              "    <tr>\n",
              "      <th>2</th>\n",
              "      <td>894</td>\n",
              "      <td>0</td>\n",
              "    </tr>\n",
              "    <tr>\n",
              "      <th>3</th>\n",
              "      <td>895</td>\n",
              "      <td>0</td>\n",
              "    </tr>\n",
              "    <tr>\n",
              "      <th>4</th>\n",
              "      <td>896</td>\n",
              "      <td>0</td>\n",
              "    </tr>\n",
              "  </tbody>\n",
              "</table>\n",
              "</div>\n",
              "      <button class=\"colab-df-convert\" onclick=\"convertToInteractive('df-aca29522-3b76-4bc9-a2f2-0f235377e910')\"\n",
              "              title=\"Convert this dataframe to an interactive table.\"\n",
              "              style=\"display:none;\">\n",
              "        \n",
              "  <svg xmlns=\"http://www.w3.org/2000/svg\" height=\"24px\"viewBox=\"0 0 24 24\"\n",
              "       width=\"24px\">\n",
              "    <path d=\"M0 0h24v24H0V0z\" fill=\"none\"/>\n",
              "    <path d=\"M18.56 5.44l.94 2.06.94-2.06 2.06-.94-2.06-.94-.94-2.06-.94 2.06-2.06.94zm-11 1L8.5 8.5l.94-2.06 2.06-.94-2.06-.94L8.5 2.5l-.94 2.06-2.06.94zm10 10l.94 2.06.94-2.06 2.06-.94-2.06-.94-.94-2.06-.94 2.06-2.06.94z\"/><path d=\"M17.41 7.96l-1.37-1.37c-.4-.4-.92-.59-1.43-.59-.52 0-1.04.2-1.43.59L10.3 9.45l-7.72 7.72c-.78.78-.78 2.05 0 2.83L4 21.41c.39.39.9.59 1.41.59.51 0 1.02-.2 1.41-.59l7.78-7.78 2.81-2.81c.8-.78.8-2.07 0-2.86zM5.41 20L4 18.59l7.72-7.72 1.47 1.35L5.41 20z\"/>\n",
              "  </svg>\n",
              "      </button>\n",
              "      \n",
              "  <style>\n",
              "    .colab-df-container {\n",
              "      display:flex;\n",
              "      flex-wrap:wrap;\n",
              "      gap: 12px;\n",
              "    }\n",
              "\n",
              "    .colab-df-convert {\n",
              "      background-color: #E8F0FE;\n",
              "      border: none;\n",
              "      border-radius: 50%;\n",
              "      cursor: pointer;\n",
              "      display: none;\n",
              "      fill: #1967D2;\n",
              "      height: 32px;\n",
              "      padding: 0 0 0 0;\n",
              "      width: 32px;\n",
              "    }\n",
              "\n",
              "    .colab-df-convert:hover {\n",
              "      background-color: #E2EBFA;\n",
              "      box-shadow: 0px 1px 2px rgba(60, 64, 67, 0.3), 0px 1px 3px 1px rgba(60, 64, 67, 0.15);\n",
              "      fill: #174EA6;\n",
              "    }\n",
              "\n",
              "    [theme=dark] .colab-df-convert {\n",
              "      background-color: #3B4455;\n",
              "      fill: #D2E3FC;\n",
              "    }\n",
              "\n",
              "    [theme=dark] .colab-df-convert:hover {\n",
              "      background-color: #434B5C;\n",
              "      box-shadow: 0px 1px 3px 1px rgba(0, 0, 0, 0.15);\n",
              "      filter: drop-shadow(0px 1px 2px rgba(0, 0, 0, 0.3));\n",
              "      fill: #FFFFFF;\n",
              "    }\n",
              "  </style>\n",
              "\n",
              "      <script>\n",
              "        const buttonEl =\n",
              "          document.querySelector('#df-aca29522-3b76-4bc9-a2f2-0f235377e910 button.colab-df-convert');\n",
              "        buttonEl.style.display =\n",
              "          google.colab.kernel.accessAllowed ? 'block' : 'none';\n",
              "\n",
              "        async function convertToInteractive(key) {\n",
              "          const element = document.querySelector('#df-aca29522-3b76-4bc9-a2f2-0f235377e910');\n",
              "          const dataTable =\n",
              "            await google.colab.kernel.invokeFunction('convertToInteractive',\n",
              "                                                     [key], {});\n",
              "          if (!dataTable) return;\n",
              "\n",
              "          const docLinkHtml = 'Like what you see? Visit the ' +\n",
              "            '<a target=\"_blank\" href=https://colab.research.google.com/notebooks/data_table.ipynb>data table notebook</a>'\n",
              "            + ' to learn more about interactive tables.';\n",
              "          element.innerHTML = '';\n",
              "          dataTable['output_type'] = 'display_data';\n",
              "          await google.colab.output.renderOutput(dataTable, element);\n",
              "          const docLink = document.createElement('div');\n",
              "          docLink.innerHTML = docLinkHtml;\n",
              "          element.appendChild(docLink);\n",
              "        }\n",
              "      </script>\n",
              "    </div>\n",
              "  </div>\n",
              "  "
            ]
          },
          "metadata": {},
          "execution_count": 72
        }
      ]
    }
  ]
}