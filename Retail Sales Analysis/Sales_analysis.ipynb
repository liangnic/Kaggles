{
  "nbformat": 4,
  "nbformat_minor": 0,
  "metadata": {
    "colab": {
      "provenance": [],
      "include_colab_link": true
    },
    "kernelspec": {
      "name": "python3",
      "display_name": "Python 3"
    },
    "language_info": {
      "name": "python"
    }
  },
  "cells": [
    {
      "cell_type": "markdown",
      "metadata": {
        "id": "view-in-github",
        "colab_type": "text"
      },
      "source": [
        "<a href=\"https://colab.research.google.com/github/liangnic/Kaggles/blob/main/Retail%20Sales%20Analysis/Sales_analysis.ipynb\" target=\"_parent\"><img src=\"https://colab.research.google.com/assets/colab-badge.svg\" alt=\"Open In Colab\"/></a>"
      ]
    },
    {
      "cell_type": "markdown",
      "source": [
        "## Setup"
      ],
      "metadata": {
        "id": "reBWOJcTCfMC"
      }
    },
    {
      "cell_type": "code",
      "execution_count": 8,
      "metadata": {
        "id": "cp04rLOBmGZn"
      },
      "outputs": [],
      "source": [
        "# Packages Import\n",
        "import pandas as pd\n",
        "import numpy as np\n",
        "\n",
        "# Files Import\n",
        "INVENTORY_CSV = pd.read_csv('/content/vend-total_revenue-for-inventory_product-by-all (2025-08-04 to 2025-08-25).csv')\n",
        "WEEKLY_CSV = pd.read_csv('/content/vend-total_revenue-sales_summary-by-week (2025-08-04 to 2025-08-26).csv')"
      ]
    },
    {
      "cell_type": "markdown",
      "source": [
        "# Step 0. Data Preparation"
      ],
      "metadata": {
        "id": "DHOFXmDXgfgT"
      }
    },
    {
      "cell_type": "markdown",
      "source": [
        "## Cleaning\n",
        "\n",
        "* **Cleaning:** Remove currency/percentage symbols, convert to numeric types.\n",
        "* **Uniqueness check:** Verify whether SKU corresponds one-to-one with Product.\n",
        "* **Derived fields:**\n",
        "\n",
        "    * **Average Selling Price** = Revenue / Items Sold\n",
        "    * **Product Gross Margin** = Gross Profit / Revenue\n",
        "    * **Inventory-to-Revenue Ratio** = Inventory Cost / Revenue"
      ],
      "metadata": {
        "id": "lsHqvFk1fAoM"
      }
    },
    {
      "cell_type": "code",
      "source": [
        "INVENTORY_CSV.info()"
      ],
      "metadata": {
        "id": "5U-ODCuLfDSB",
        "outputId": "6c476e49-a966-43b9-bbd7-31f2a0495635",
        "colab": {
          "base_uri": "https://localhost:8080/"
        }
      },
      "execution_count": 9,
      "outputs": [
        {
          "output_type": "stream",
          "name": "stdout",
          "text": [
            "<class 'pandas.core.frame.DataFrame'>\n",
            "RangeIndex: 5913 entries, 0 to 5912\n",
            "Data columns (total 17 columns):\n",
            " #   Column                    Non-Null Count  Dtype  \n",
            "---  ------                    --------------  -----  \n",
            " 0   Product                   5913 non-null   object \n",
            " 1   SKU                       5913 non-null   object \n",
            " 2   Supplier Code             5911 non-null   object \n",
            " 3   Brand                     5911 non-null   object \n",
            " 4   Supplier                  5908 non-null   object \n",
            " 5   Category                  5894 non-null   object \n",
            " 6   Tag                       5815 non-null   object \n",
            " 7   Closing Inventory         5913 non-null   float64\n",
            " 8   Items Sold per Day        5913 non-null   float64\n",
            " 9   Items Sold                5913 non-null   float64\n",
            " 10  Days Cover                5913 non-null   float64\n",
            " 11  Sell-through Rate         5913 non-null   object \n",
            " 12  Revenue                   5913 non-null   object \n",
            " 13  Gross Profit              5913 non-null   object \n",
            " 14  Margin (%)                5913 non-null   object \n",
            " 15  Inventory Cost            5913 non-null   object \n",
            " 16  Retail Value (Excl. Tax)  5913 non-null   object \n",
            "dtypes: float64(4), object(13)\n",
            "memory usage: 785.4+ KB\n"
          ]
        }
      ]
    },
    {
      "cell_type": "code",
      "source": [
        "def clean_dataset(df: pd.DataFrame) -> pd.DataFrame:\n",
        "    \"\"\"\n",
        "    Clean the retail dataset by:\n",
        "      1. Dropping 'Supplier Code' and 'Supplier' columns\n",
        "      2. Splitting the 'Brand' column into two columns: 'Country' and 'Brand'\n",
        "      3. Removing currency/percentage symbols and converting to numeric types\n",
        "\n",
        "    Parameters\n",
        "    ----------\n",
        "    df : pd.DataFrame\n",
        "        Input dataset.\n",
        "\n",
        "    Returns\n",
        "    -------\n",
        "    pd.DataFrame\n",
        "        A cleaned DataFrame with standardized numeric types and separated columns.\n",
        "    \"\"\"\n",
        "\n",
        "    # Drop supplier-related columns\n",
        "    df = df.drop(columns=[\"Supplier Code\", \"Supplier\"], errors=\"ignore\")\n",
        "\n",
        "    # Split 'Brand' column into 'Country' and 'Brand'\n",
        "    df[[\"Country\", \"Brand\"]] = df[\"Brand\"].str.split(\" \", n=1, expand=True)\n",
        "\n",
        "    # Columns to process\n",
        "    currency_cols = [\"Revenue\", \"Gross Profit\", \"Inventory Cost\", \"Retail Value (Excl. Tax)\"]\n",
        "    percent_cols = [\"Sell-through Rate\", \"Margin (%)\"]\n",
        "\n",
        "    # Remove $ and , then convert to float\n",
        "    for col in currency_cols:\n",
        "        if col in df.columns:\n",
        "            df[col] = df[col].astype(str).str.replace(\"[$,]\", \"\", regex=True).astype(float)\n",
        "\n",
        "    # Remove % and convert to float\n",
        "    for col in percent_cols:\n",
        "        if col in df.columns:\n",
        "            df[col] = df[col].astype(str).str.replace(\"%\", \"\", regex=True).astype(float)\n",
        "            # Uncomment if you prefer 0-1 scale instead of 0-100\n",
        "            # df[col] = df[col] / 100.0\n",
        "\n",
        "    return df"
      ],
      "metadata": {
        "id": "lfafVOktkgbs"
      },
      "execution_count": 10,
      "outputs": []
    },
    {
      "cell_type": "code",
      "source": [
        "INVENTORY_CSV = clean_dataset(INVENTORY_CSV)"
      ],
      "metadata": {
        "id": "WdPPfpwYlEc6"
      },
      "execution_count": 11,
      "outputs": []
    },
    {
      "cell_type": "code",
      "source": [
        "INVENTORY_CSV.head(1)"
      ],
      "metadata": {
        "id": "d9KMMxaFlIJN",
        "outputId": "7c3d790c-298f-4c9b-8773-4fab792f266e",
        "colab": {
          "base_uri": "https://localhost:8080/",
          "height": 185
        }
      },
      "execution_count": 13,
      "outputs": [
        {
          "output_type": "execute_result",
          "data": {
            "text/plain": [
              "                       Product            SKU   Brand  \\\n",
              "0  Tirtir Mask Fit Red Cushion  8809928133867  Tirtir   \n",
              "\n",
              "                                Category      Tag  Closing Inventory  \\\n",
              "0  Makeup / Face Makeup / Makeup Cushion  Cushion              146.0   \n",
              "\n",
              "   Items Sold per Day  Items Sold  Days Cover  Sell-through Rate   Revenue  \\\n",
              "0                 4.3      1948.0        34.0              93.03  61849.31   \n",
              "\n",
              "   Gross Profit  Margin (%)  Inventory Cost  Retail Value (Excl. Tax) Country  \n",
              "0      24837.31       40.16          2774.0                   5043.64      KR  "
            ],
            "text/html": [
              "\n",
              "  <div id=\"df-bc4889c4-d4a2-4d36-bec9-8fa309e28b03\" class=\"colab-df-container\">\n",
              "    <div>\n",
              "<style scoped>\n",
              "    .dataframe tbody tr th:only-of-type {\n",
              "        vertical-align: middle;\n",
              "    }\n",
              "\n",
              "    .dataframe tbody tr th {\n",
              "        vertical-align: top;\n",
              "    }\n",
              "\n",
              "    .dataframe thead th {\n",
              "        text-align: right;\n",
              "    }\n",
              "</style>\n",
              "<table border=\"1\" class=\"dataframe\">\n",
              "  <thead>\n",
              "    <tr style=\"text-align: right;\">\n",
              "      <th></th>\n",
              "      <th>Product</th>\n",
              "      <th>SKU</th>\n",
              "      <th>Brand</th>\n",
              "      <th>Category</th>\n",
              "      <th>Tag</th>\n",
              "      <th>Closing Inventory</th>\n",
              "      <th>Items Sold per Day</th>\n",
              "      <th>Items Sold</th>\n",
              "      <th>Days Cover</th>\n",
              "      <th>Sell-through Rate</th>\n",
              "      <th>Revenue</th>\n",
              "      <th>Gross Profit</th>\n",
              "      <th>Margin (%)</th>\n",
              "      <th>Inventory Cost</th>\n",
              "      <th>Retail Value (Excl. Tax)</th>\n",
              "      <th>Country</th>\n",
              "    </tr>\n",
              "  </thead>\n",
              "  <tbody>\n",
              "    <tr>\n",
              "      <th>0</th>\n",
              "      <td>Tirtir Mask Fit Red Cushion</td>\n",
              "      <td>8809928133867</td>\n",
              "      <td>Tirtir</td>\n",
              "      <td>Makeup / Face Makeup / Makeup Cushion</td>\n",
              "      <td>Cushion</td>\n",
              "      <td>146.0</td>\n",
              "      <td>4.3</td>\n",
              "      <td>1948.0</td>\n",
              "      <td>34.0</td>\n",
              "      <td>93.03</td>\n",
              "      <td>61849.31</td>\n",
              "      <td>24837.31</td>\n",
              "      <td>40.16</td>\n",
              "      <td>2774.0</td>\n",
              "      <td>5043.64</td>\n",
              "      <td>KR</td>\n",
              "    </tr>\n",
              "  </tbody>\n",
              "</table>\n",
              "</div>\n",
              "    <div class=\"colab-df-buttons\">\n",
              "\n",
              "  <div class=\"colab-df-container\">\n",
              "    <button class=\"colab-df-convert\" onclick=\"convertToInteractive('df-bc4889c4-d4a2-4d36-bec9-8fa309e28b03')\"\n",
              "            title=\"Convert this dataframe to an interactive table.\"\n",
              "            style=\"display:none;\">\n",
              "\n",
              "  <svg xmlns=\"http://www.w3.org/2000/svg\" height=\"24px\" viewBox=\"0 -960 960 960\">\n",
              "    <path d=\"M120-120v-720h720v720H120Zm60-500h600v-160H180v160Zm220 220h160v-160H400v160Zm0 220h160v-160H400v160ZM180-400h160v-160H180v160Zm440 0h160v-160H620v160ZM180-180h160v-160H180v160Zm440 0h160v-160H620v160Z\"/>\n",
              "  </svg>\n",
              "    </button>\n",
              "\n",
              "  <style>\n",
              "    .colab-df-container {\n",
              "      display:flex;\n",
              "      gap: 12px;\n",
              "    }\n",
              "\n",
              "    .colab-df-convert {\n",
              "      background-color: #E8F0FE;\n",
              "      border: none;\n",
              "      border-radius: 50%;\n",
              "      cursor: pointer;\n",
              "      display: none;\n",
              "      fill: #1967D2;\n",
              "      height: 32px;\n",
              "      padding: 0 0 0 0;\n",
              "      width: 32px;\n",
              "    }\n",
              "\n",
              "    .colab-df-convert:hover {\n",
              "      background-color: #E2EBFA;\n",
              "      box-shadow: 0px 1px 2px rgba(60, 64, 67, 0.3), 0px 1px 3px 1px rgba(60, 64, 67, 0.15);\n",
              "      fill: #174EA6;\n",
              "    }\n",
              "\n",
              "    .colab-df-buttons div {\n",
              "      margin-bottom: 4px;\n",
              "    }\n",
              "\n",
              "    [theme=dark] .colab-df-convert {\n",
              "      background-color: #3B4455;\n",
              "      fill: #D2E3FC;\n",
              "    }\n",
              "\n",
              "    [theme=dark] .colab-df-convert:hover {\n",
              "      background-color: #434B5C;\n",
              "      box-shadow: 0px 1px 3px 1px rgba(0, 0, 0, 0.15);\n",
              "      filter: drop-shadow(0px 1px 2px rgba(0, 0, 0, 0.3));\n",
              "      fill: #FFFFFF;\n",
              "    }\n",
              "  </style>\n",
              "\n",
              "    <script>\n",
              "      const buttonEl =\n",
              "        document.querySelector('#df-bc4889c4-d4a2-4d36-bec9-8fa309e28b03 button.colab-df-convert');\n",
              "      buttonEl.style.display =\n",
              "        google.colab.kernel.accessAllowed ? 'block' : 'none';\n",
              "\n",
              "      async function convertToInteractive(key) {\n",
              "        const element = document.querySelector('#df-bc4889c4-d4a2-4d36-bec9-8fa309e28b03');\n",
              "        const dataTable =\n",
              "          await google.colab.kernel.invokeFunction('convertToInteractive',\n",
              "                                                    [key], {});\n",
              "        if (!dataTable) return;\n",
              "\n",
              "        const docLinkHtml = 'Like what you see? Visit the ' +\n",
              "          '<a target=\"_blank\" href=https://colab.research.google.com/notebooks/data_table.ipynb>data table notebook</a>'\n",
              "          + ' to learn more about interactive tables.';\n",
              "        element.innerHTML = '';\n",
              "        dataTable['output_type'] = 'display_data';\n",
              "        await google.colab.output.renderOutput(dataTable, element);\n",
              "        const docLink = document.createElement('div');\n",
              "        docLink.innerHTML = docLinkHtml;\n",
              "        element.appendChild(docLink);\n",
              "      }\n",
              "    </script>\n",
              "  </div>\n",
              "\n",
              "\n",
              "    </div>\n",
              "  </div>\n"
            ],
            "application/vnd.google.colaboratory.intrinsic+json": {
              "type": "dataframe",
              "variable_name": "INVENTORY_CSV",
              "summary": "{\n  \"name\": \"INVENTORY_CSV\",\n  \"rows\": 5913,\n  \"fields\": [\n    {\n      \"column\": \"Product\",\n      \"properties\": {\n        \"dtype\": \"string\",\n        \"num_unique_values\": 5913,\n        \"samples\": [\n          \"The Face Shop Air Cotton Makeup Base 01 Mint\",\n          \"Biohyalux Moisturizing Soothing Mask 5 Sheets/Box\",\n          \"Cosme Decorte Sun Shelter Multi Primer Plus\"\n        ],\n        \"semantic_type\": \"\",\n        \"description\": \"\"\n      }\n    },\n    {\n      \"column\": \"SKU\",\n      \"properties\": {\n        \"dtype\": \"string\",\n        \"num_unique_values\": 5913,\n        \"samples\": [\n          \"6972424961172\",\n          \"6948060453142\",\n          \"4971710372267\"\n        ],\n        \"semantic_type\": \"\",\n        \"description\": \"\"\n      }\n    },\n    {\n      \"column\": \"Brand\",\n      \"properties\": {\n        \"dtype\": \"category\",\n        \"num_unique_values\": 333,\n        \"samples\": [\n          \"Clio\",\n          \"Nepia\",\n          \"Dashing Diva\"\n        ],\n        \"semantic_type\": \"\",\n        \"description\": \"\"\n      }\n    },\n    {\n      \"column\": \"Category\",\n      \"properties\": {\n        \"dtype\": \"category\",\n        \"num_unique_values\": 222,\n        \"samples\": [\n          \"Hair / Hair Color / Color Stick\",\n          \"Fashion / Fashion Accessory / Earring\",\n          \"BeautyToolsAccessories / Makeup Accessory / Makeup Brush\"\n        ],\n        \"semantic_type\": \"\",\n        \"description\": \"\"\n      }\n    },\n    {\n      \"column\": \"Tag\",\n      \"properties\": {\n        \"dtype\": \"category\",\n        \"num_unique_values\": 748,\n        \"samples\": [\n          \"Discontinued 2025 AW, Skin Care Goods - Cotton Pads etc\",\n          \"R.E.D Blemish Clear, Skin Care Kits & Sets\",\n          \"Toners, Toners/ Softeners/ Skin Lotions\"\n        ],\n        \"semantic_type\": \"\",\n        \"description\": \"\"\n      }\n    },\n    {\n      \"column\": \"Closing Inventory\",\n      \"properties\": {\n        \"dtype\": \"number\",\n        \"std\": 22.48252365225704,\n        \"min\": -2.0,\n        \"max\": 732.0,\n        \"num_unique_values\": 126,\n        \"samples\": [\n          32.0,\n          21.0,\n          124.0\n        ],\n        \"semantic_type\": \"\",\n        \"description\": \"\"\n      }\n    },\n    {\n      \"column\": \"Items Sold per Day\",\n      \"properties\": {\n        \"dtype\": \"number\",\n        \"std\": 0.8720260405771998,\n        \"min\": -0.01,\n        \"max\": 54.3,\n        \"num_unique_values\": 219,\n        \"samples\": [\n          1.11,\n          0.39,\n          2.0\n        ],\n        \"semantic_type\": \"\",\n        \"description\": \"\"\n      }\n    },\n    {\n      \"column\": \"Items Sold\",\n      \"properties\": {\n        \"dtype\": \"number\",\n        \"std\": 381.7789174639816,\n        \"min\": -1.0,\n        \"max\": 24924.0,\n        \"num_unique_values\": 451,\n        \"samples\": [\n          158.0,\n          302.0,\n          343.0\n        ],\n        \"semantic_type\": \"\",\n        \"description\": \"\"\n      }\n    },\n    {\n      \"column\": \"Days Cover\",\n      \"properties\": {\n        \"dtype\": \"number\",\n        \"std\": 9.472262970736539,\n        \"min\": 0.0,\n        \"max\": 289.5,\n        \"num_unique_values\": 178,\n        \"samples\": [\n          16.8,\n          43.9,\n          44.8\n        ],\n        \"semantic_type\": \"\",\n        \"description\": \"\"\n      }\n    },\n    {\n      \"column\": \"Sell-through Rate\",\n      \"properties\": {\n        \"dtype\": \"number\",\n        \"std\": 24.133786955954026,\n        \"min\": 0.0,\n        \"max\": 104.17,\n        \"num_unique_values\": 1189,\n        \"samples\": [\n          90.06,\n          8.57,\n          49.09\n        ],\n        \"semantic_type\": \"\",\n        \"description\": \"\"\n      }\n    },\n    {\n      \"column\": \"Revenue\",\n      \"properties\": {\n        \"dtype\": \"number\",\n        \"std\": 2305.2348249754154,\n        \"min\": -23.64,\n        \"max\": 61849.31,\n        \"num_unique_values\": 3373,\n        \"samples\": [\n          78.91,\n          1356.36,\n          72.27\n        ],\n        \"semantic_type\": \"\",\n        \"description\": \"\"\n      }\n    },\n    {\n      \"column\": \"Gross Profit\",\n      \"properties\": {\n        \"dtype\": \"number\",\n        \"std\": 919.3665532594038,\n        \"min\": -409.86,\n        \"max\": 24837.31,\n        \"num_unique_values\": 4196,\n        \"samples\": [\n          2576.73,\n          135.85,\n          699.55\n        ],\n        \"semantic_type\": \"\",\n        \"description\": \"\"\n      }\n    },\n    {\n      \"column\": \"Margin (%)\",\n      \"properties\": {\n        \"dtype\": \"number\",\n        \"std\": 109.78572526599118,\n        \"min\": -5950.61,\n        \"max\": 100.0,\n        \"num_unique_values\": 2127,\n        \"samples\": [\n          41.67,\n          23.1,\n          30.05\n        ],\n        \"semantic_type\": \"\",\n        \"description\": \"\"\n      }\n    },\n    {\n      \"column\": \"Inventory Cost\",\n      \"properties\": {\n        \"dtype\": \"number\",\n        \"std\": 169.94740867599467,\n        \"min\": -8.0,\n        \"max\": 4379.12,\n        \"num_unique_values\": 1079,\n        \"samples\": [\n          83.6,\n          27.0,\n          65.55\n        ],\n        \"semantic_type\": \"\",\n        \"description\": \"\"\n      }\n    },\n    {\n      \"column\": \"Retail Value (Excl. Tax)\",\n      \"properties\": {\n        \"dtype\": \"number\",\n        \"std\": 317.740402601648,\n        \"min\": -14.55,\n        \"max\": 8756.37,\n        \"num_unique_values\": 995,\n        \"samples\": [\n          171.25,\n          65.44,\n          64.0\n        ],\n        \"semantic_type\": \"\",\n        \"description\": \"\"\n      }\n    },\n    {\n      \"column\": \"Country\",\n      \"properties\": {\n        \"dtype\": \"category\",\n        \"num_unique_values\": 31,\n        \"samples\": [\n          \"EW\",\n          \"Olaplex\",\n          \"Ubras\"\n        ],\n        \"semantic_type\": \"\",\n        \"description\": \"\"\n      }\n    }\n  ]\n}"
            }
          },
          "metadata": {},
          "execution_count": 13
        }
      ]
    }
  ]
}