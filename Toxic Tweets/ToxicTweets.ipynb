{
  "nbformat": 4,
  "nbformat_minor": 0,
  "metadata": {
    "colab": {
      "provenance": [],
      "toc_visible": true
    },
    "kernelspec": {
      "name": "python3",
      "display_name": "Python 3"
    },
    "language_info": {
      "name": "python"
    }
  },
  "cells": [
    {
      "cell_type": "markdown",
      "source": [
        "# 1. Import libraries and dataset"
      ],
      "metadata": {
        "id": "6eKyew0Otnzl"
      }
    },
    {
      "cell_type": "markdown",
      "source": [
        "## Import dataset from google drive"
      ],
      "metadata": {
        "id": "-z8XAimFtpeW"
      }
    },
    {
      "cell_type": "code",
      "execution_count": 2,
      "metadata": {
        "id": "F2V3f4sfsk8J"
      },
      "outputs": [],
      "source": [
        "!pip install -U -q PyDrive\n",
        "from pydrive.auth import GoogleAuth\n",
        "from pydrive.drive import GoogleDrive\n",
        "from google.colab import auth\n",
        "from oauth2client.client import GoogleCredentials\n",
        "\n",
        "# Authenticate and create the PyDrive client.\n",
        "auth.authenticate_user()\n",
        "gauth = GoogleAuth()\n",
        "gauth.credentials = GoogleCredentials.get_application_default()\n",
        "drive = GoogleDrive(gauth)\n",
        "\n",
        "id = '1t4GfxnNQr4BDD8Ob6TpuhvkiInLn2iaW'\n",
        "downloaded = drive.CreateFile({'id':id}) \n",
        "downloaded.GetContentFile('FinalBalancedDataset.csv')"
      ]
    },
    {
      "cell_type": "markdown",
      "source": [
        "## Import libraries"
      ],
      "metadata": {
        "id": "5hBMGViLtsGl"
      }
    },
    {
      "cell_type": "code",
      "source": [
        "!pip install glove-python-binary"
      ],
      "metadata": {
        "id": "eel2Go9-6b6b",
        "colab": {
          "base_uri": "https://localhost:8080/"
        },
        "outputId": "3967376f-1ff7-4972-ddcb-2d357bbf8482"
      },
      "execution_count": 27,
      "outputs": [
        {
          "output_type": "stream",
          "name": "stdout",
          "text": [
            "Looking in indexes: https://pypi.org/simple, https://us-python.pkg.dev/colab-wheels/public/simple/\n",
            "Collecting glove-python-binary\n",
            "  Downloading glove_python_binary-0.2.0-cp38-cp38-manylinux1_x86_64.whl (974 kB)\n",
            "\u001b[K     |████████████████████████████████| 974 kB 5.1 MB/s \n",
            "\u001b[?25hRequirement already satisfied: numpy in /usr/local/lib/python3.8/dist-packages (from glove-python-binary) (1.21.6)\n",
            "Requirement already satisfied: scipy in /usr/local/lib/python3.8/dist-packages (from glove-python-binary) (1.7.3)\n",
            "Installing collected packages: glove-python-binary\n",
            "Successfully installed glove-python-binary-0.2.0\n"
          ]
        }
      ]
    },
    {
      "cell_type": "code",
      "source": [
        "import nltk\n",
        "nltk.download('stopwords')"
      ],
      "metadata": {
        "colab": {
          "base_uri": "https://localhost:8080/"
        },
        "id": "5UAkmMW8E52M",
        "outputId": "9d346a46-0353-43af-92a0-14efb46edf3d"
      },
      "execution_count": 19,
      "outputs": [
        {
          "output_type": "stream",
          "name": "stderr",
          "text": [
            "[nltk_data] Downloading package stopwords to /root/nltk_data...\n",
            "[nltk_data]   Unzipping corpora/stopwords.zip.\n"
          ]
        },
        {
          "output_type": "execute_result",
          "data": {
            "text/plain": [
              "True"
            ]
          },
          "metadata": {},
          "execution_count": 19
        }
      ]
    },
    {
      "cell_type": "code",
      "source": [
        "import re\n",
        "from nltk.stem.porter import *\n",
        "from tqdm import tqdm\n",
        "from copy import deepcopy\n",
        "from glove import Glove, Corpus\n",
        "import pandas as pd\n",
        "import string\n",
        "from nltk.corpus import stopwords\n",
        "import numpy as np\n",
        "import matplotlib.pyplot as plt\n",
        "from nltk.corpus import stopwords\n",
        "\n",
        "import torch\n",
        "from torch.optim import AdamW, Adam\n",
        "from torch.nn import BCELoss\n",
        "import torch.nn as nn\n",
        "from torchsummary import summary\n",
        "from torch.autograd import Variable\n",
        "from sklearn.metrics import f1_score, accuracy_score\n",
        "from sklearn.model_selection import train_test_split\n",
        "from torch.utils.data import TensorDataset, DataLoader, RandomSampler, SequentialSampler, Dataset"
      ],
      "metadata": {
        "id": "PT_9b4pXtvcC"
      },
      "execution_count": 52,
      "outputs": []
    },
    {
      "cell_type": "code",
      "source": [
        "df = pd.read_csv('FinalBalancedDataset.csv')"
      ],
      "metadata": {
        "id": "qKfThDThv2aD"
      },
      "execution_count": 4,
      "outputs": []
    },
    {
      "cell_type": "code",
      "source": [
        "device = 'cuda' if torch.cuda.is_available() else 'cpu'"
      ],
      "metadata": {
        "id": "WXUuLfsx21mw"
      },
      "execution_count": 5,
      "outputs": []
    },
    {
      "cell_type": "markdown",
      "source": [
        "# Data pre-processing"
      ],
      "metadata": {
        "id": "xNRFaw7BtxY1"
      }
    },
    {
      "cell_type": "markdown",
      "source": [
        "## Data information"
      ],
      "metadata": {
        "id": "3mciYQsWtzpJ"
      }
    },
    {
      "cell_type": "code",
      "source": [
        "df.head(5)"
      ],
      "metadata": {
        "colab": {
          "base_uri": "https://localhost:8080/",
          "height": 214
        },
        "id": "IKfVd7hpwVeW",
        "outputId": "6466015b-b558-432e-dc4a-1613ee0d096d"
      },
      "execution_count": 6,
      "outputs": [
        {
          "output_type": "execute_result",
          "data": {
            "text/plain": [
              "   Unnamed: 0  Toxicity                                              tweet\n",
              "0           0         0   @user when a father is dysfunctional and is s...\n",
              "1           1         0  @user @user thanks for #lyft credit i can't us...\n",
              "2           2         0                                bihday your majesty\n",
              "3           3         0  #model   i love u take with u all the time in ...\n",
              "4           4         0             factsguide: society now    #motivation"
            ],
            "text/html": [
              "\n",
              "  <div id=\"df-f5eb444e-86f6-4b08-86f6-cbafd55d72cd\">\n",
              "    <div class=\"colab-df-container\">\n",
              "      <div>\n",
              "<style scoped>\n",
              "    .dataframe tbody tr th:only-of-type {\n",
              "        vertical-align: middle;\n",
              "    }\n",
              "\n",
              "    .dataframe tbody tr th {\n",
              "        vertical-align: top;\n",
              "    }\n",
              "\n",
              "    .dataframe thead th {\n",
              "        text-align: right;\n",
              "    }\n",
              "</style>\n",
              "<table border=\"1\" class=\"dataframe\">\n",
              "  <thead>\n",
              "    <tr style=\"text-align: right;\">\n",
              "      <th></th>\n",
              "      <th>Unnamed: 0</th>\n",
              "      <th>Toxicity</th>\n",
              "      <th>tweet</th>\n",
              "    </tr>\n",
              "  </thead>\n",
              "  <tbody>\n",
              "    <tr>\n",
              "      <th>0</th>\n",
              "      <td>0</td>\n",
              "      <td>0</td>\n",
              "      <td>@user when a father is dysfunctional and is s...</td>\n",
              "    </tr>\n",
              "    <tr>\n",
              "      <th>1</th>\n",
              "      <td>1</td>\n",
              "      <td>0</td>\n",
              "      <td>@user @user thanks for #lyft credit i can't us...</td>\n",
              "    </tr>\n",
              "    <tr>\n",
              "      <th>2</th>\n",
              "      <td>2</td>\n",
              "      <td>0</td>\n",
              "      <td>bihday your majesty</td>\n",
              "    </tr>\n",
              "    <tr>\n",
              "      <th>3</th>\n",
              "      <td>3</td>\n",
              "      <td>0</td>\n",
              "      <td>#model   i love u take with u all the time in ...</td>\n",
              "    </tr>\n",
              "    <tr>\n",
              "      <th>4</th>\n",
              "      <td>4</td>\n",
              "      <td>0</td>\n",
              "      <td>factsguide: society now    #motivation</td>\n",
              "    </tr>\n",
              "  </tbody>\n",
              "</table>\n",
              "</div>\n",
              "      <button class=\"colab-df-convert\" onclick=\"convertToInteractive('df-f5eb444e-86f6-4b08-86f6-cbafd55d72cd')\"\n",
              "              title=\"Convert this dataframe to an interactive table.\"\n",
              "              style=\"display:none;\">\n",
              "        \n",
              "  <svg xmlns=\"http://www.w3.org/2000/svg\" height=\"24px\"viewBox=\"0 0 24 24\"\n",
              "       width=\"24px\">\n",
              "    <path d=\"M0 0h24v24H0V0z\" fill=\"none\"/>\n",
              "    <path d=\"M18.56 5.44l.94 2.06.94-2.06 2.06-.94-2.06-.94-.94-2.06-.94 2.06-2.06.94zm-11 1L8.5 8.5l.94-2.06 2.06-.94-2.06-.94L8.5 2.5l-.94 2.06-2.06.94zm10 10l.94 2.06.94-2.06 2.06-.94-2.06-.94-.94-2.06-.94 2.06-2.06.94z\"/><path d=\"M17.41 7.96l-1.37-1.37c-.4-.4-.92-.59-1.43-.59-.52 0-1.04.2-1.43.59L10.3 9.45l-7.72 7.72c-.78.78-.78 2.05 0 2.83L4 21.41c.39.39.9.59 1.41.59.51 0 1.02-.2 1.41-.59l7.78-7.78 2.81-2.81c.8-.78.8-2.07 0-2.86zM5.41 20L4 18.59l7.72-7.72 1.47 1.35L5.41 20z\"/>\n",
              "  </svg>\n",
              "      </button>\n",
              "      \n",
              "  <style>\n",
              "    .colab-df-container {\n",
              "      display:flex;\n",
              "      flex-wrap:wrap;\n",
              "      gap: 12px;\n",
              "    }\n",
              "\n",
              "    .colab-df-convert {\n",
              "      background-color: #E8F0FE;\n",
              "      border: none;\n",
              "      border-radius: 50%;\n",
              "      cursor: pointer;\n",
              "      display: none;\n",
              "      fill: #1967D2;\n",
              "      height: 32px;\n",
              "      padding: 0 0 0 0;\n",
              "      width: 32px;\n",
              "    }\n",
              "\n",
              "    .colab-df-convert:hover {\n",
              "      background-color: #E2EBFA;\n",
              "      box-shadow: 0px 1px 2px rgba(60, 64, 67, 0.3), 0px 1px 3px 1px rgba(60, 64, 67, 0.15);\n",
              "      fill: #174EA6;\n",
              "    }\n",
              "\n",
              "    [theme=dark] .colab-df-convert {\n",
              "      background-color: #3B4455;\n",
              "      fill: #D2E3FC;\n",
              "    }\n",
              "\n",
              "    [theme=dark] .colab-df-convert:hover {\n",
              "      background-color: #434B5C;\n",
              "      box-shadow: 0px 1px 3px 1px rgba(0, 0, 0, 0.15);\n",
              "      filter: drop-shadow(0px 1px 2px rgba(0, 0, 0, 0.3));\n",
              "      fill: #FFFFFF;\n",
              "    }\n",
              "  </style>\n",
              "\n",
              "      <script>\n",
              "        const buttonEl =\n",
              "          document.querySelector('#df-f5eb444e-86f6-4b08-86f6-cbafd55d72cd button.colab-df-convert');\n",
              "        buttonEl.style.display =\n",
              "          google.colab.kernel.accessAllowed ? 'block' : 'none';\n",
              "\n",
              "        async function convertToInteractive(key) {\n",
              "          const element = document.querySelector('#df-f5eb444e-86f6-4b08-86f6-cbafd55d72cd');\n",
              "          const dataTable =\n",
              "            await google.colab.kernel.invokeFunction('convertToInteractive',\n",
              "                                                     [key], {});\n",
              "          if (!dataTable) return;\n",
              "\n",
              "          const docLinkHtml = 'Like what you see? Visit the ' +\n",
              "            '<a target=\"_blank\" href=https://colab.research.google.com/notebooks/data_table.ipynb>data table notebook</a>'\n",
              "            + ' to learn more about interactive tables.';\n",
              "          element.innerHTML = '';\n",
              "          dataTable['output_type'] = 'display_data';\n",
              "          await google.colab.output.renderOutput(dataTable, element);\n",
              "          const docLink = document.createElement('div');\n",
              "          docLink.innerHTML = docLinkHtml;\n",
              "          element.appendChild(docLink);\n",
              "        }\n",
              "      </script>\n",
              "    </div>\n",
              "  </div>\n",
              "  "
            ]
          },
          "metadata": {},
          "execution_count": 6
        }
      ]
    },
    {
      "cell_type": "code",
      "source": [
        "df.info()"
      ],
      "metadata": {
        "colab": {
          "base_uri": "https://localhost:8080/"
        },
        "id": "Bqo0FEA5wd5Z",
        "outputId": "cc2ba540-fbe3-4ef0-83c7-ff9079acafdb"
      },
      "execution_count": 7,
      "outputs": [
        {
          "output_type": "stream",
          "name": "stdout",
          "text": [
            "<class 'pandas.core.frame.DataFrame'>\n",
            "RangeIndex: 56745 entries, 0 to 56744\n",
            "Data columns (total 3 columns):\n",
            " #   Column      Non-Null Count  Dtype \n",
            "---  ------      --------------  ----- \n",
            " 0   Unnamed: 0  56745 non-null  int64 \n",
            " 1   Toxicity    56745 non-null  int64 \n",
            " 2   tweet       56745 non-null  object\n",
            "dtypes: int64(2), object(1)\n",
            "memory usage: 1.3+ MB\n"
          ]
        }
      ]
    },
    {
      "cell_type": "markdown",
      "source": [
        "## Data pre-processing"
      ],
      "metadata": {
        "id": "WiWCPseBt3Q4"
      }
    },
    {
      "cell_type": "markdown",
      "source": [
        "Seems like this dataset doesnt need to do anything..."
      ],
      "metadata": {
        "id": "rZs72ZWtwoS-"
      }
    },
    {
      "cell_type": "code",
      "source": [
        "def clean_text(tweet):\n",
        "    sent = []\n",
        "    for text in tqdm(tweet):\n",
        "        text = str(text).lower()\n",
        "        text = re.sub(r'(\\<(/?[^>]+)>)', '', text)\n",
        "        text = re.sub(r'\\.{2,}', ' ', text)\n",
        "        text = re.sub(r'user', ' ', text)\n",
        "        regex = re.compile('[^a-zA-Z]')\n",
        "        text = regex.sub(' ', text)\n",
        "        text = [word.strip(string.punctuation) for word in text.split(\" \")]\n",
        "        text = [word for word in text if not any(c.isdigit() for c in word)]\n",
        "        stop = stopwords.words('english')\n",
        "        text = [x for x in text if x not in stop]\n",
        "#         text = [t for t in text if len(t) > 0]\n",
        "        text = [t for t in text if len(t) > 1]\n",
        "#         text = [lemmatizer.lemmatize(each_word) for each_word in text]\n",
        "        sent.append(text)\n",
        "    return sent"
      ],
      "metadata": {
        "id": "ssxH-Jp176nS"
      },
      "execution_count": 21,
      "outputs": []
    },
    {
      "cell_type": "code",
      "source": [
        "df.drop('Unnamed: 0', axis=1, inplace = True)"
      ],
      "metadata": {
        "id": "r8VThJI21Z3Y"
      },
      "execution_count": 17,
      "outputs": []
    },
    {
      "cell_type": "code",
      "source": [
        "corpus_sent = clean_text(df.tweet)"
      ],
      "metadata": {
        "colab": {
          "base_uri": "https://localhost:8080/"
        },
        "id": "sLDZYzRM77hp",
        "outputId": "ab04c52b-6576-40f3-f8b2-5340a4141e3b"
      },
      "execution_count": 22,
      "outputs": [
        {
          "output_type": "stream",
          "name": "stderr",
          "text": [
            "100%|██████████| 56745/56745 [00:12<00:00, 4463.30it/s]\n"
          ]
        }
      ]
    },
    {
      "cell_type": "code",
      "source": [
        "corpus = Corpus()\n",
        "corpus.fit(corpus=corpus_sent, window=5)\n",
        "glove = Glove(no_components=300,\n",
        "             learning_rate=0.05,\n",
        "             random_state=1,\n",
        "             max_count=100,\n",
        "             alpha=0.75)\n",
        "glove.fit(corpus.matrix, epochs=10, no_threads=4, verbose=True)"
      ],
      "metadata": {
        "colab": {
          "base_uri": "https://localhost:8080/"
        },
        "id": "iCPBopXkAJNX",
        "outputId": "177063ae-042e-429b-80c5-1ffe5dd4f0fb"
      },
      "execution_count": 29,
      "outputs": [
        {
          "output_type": "stream",
          "name": "stdout",
          "text": [
            "Performing 10 training epochs with 4 threads\n",
            "Epoch 0\n",
            "Epoch 1\n",
            "Epoch 2\n",
            "Epoch 3\n",
            "Epoch 4\n",
            "Epoch 5\n",
            "Epoch 6\n",
            "Epoch 7\n",
            "Epoch 8\n",
            "Epoch 9\n"
          ]
        }
      ]
    },
    {
      "cell_type": "code",
      "source": [
        "glove.add_dictionary(corpus.dictionary)"
      ],
      "metadata": {
        "id": "f8eyl4N5EyRL"
      },
      "execution_count": 30,
      "outputs": []
    },
    {
      "cell_type": "code",
      "source": [
        "def mean_vec_sent(corpus_sent, model_emb, labels):\n",
        "    embed_list = []\n",
        "    labels_list = []\n",
        "    for sent_id, tokens_sent in tqdm(enumerate(corpus_sent), total=len(corpus_sent)):\n",
        "        words = [*filter(lambda word: word in model_emb.dictionary.keys(), tokens_sent)]\n",
        "        if words:\n",
        "            embeds = [glove.word_vectors[glove.dictionary[x]] for x in words]\n",
        "            embed_list.append(np.mean(embeds, axis=0))\n",
        "            labels_list.append(labels[sent_id])\n",
        "    assert len(embed_list) == len(labels_list)\n",
        "    return np.array(embed_list), labels_list"
      ],
      "metadata": {
        "id": "OhctVv9cE3Th"
      },
      "execution_count": 31,
      "outputs": []
    },
    {
      "cell_type": "code",
      "source": [
        "labels = df.Toxicity\n",
        "emb_list, labels_list = mean_vec_sent(corpus_sent, glove, labels)"
      ],
      "metadata": {
        "colab": {
          "base_uri": "https://localhost:8080/"
        },
        "id": "iLLLgeJIE7Dl",
        "outputId": "6906eafe-8397-410e-9fa0-f14e6c8a93a6"
      },
      "execution_count": 32,
      "outputs": [
        {
          "output_type": "stream",
          "name": "stderr",
          "text": [
            "100%|██████████| 56745/56745 [00:03<00:00, 17750.38it/s]\n"
          ]
        }
      ]
    },
    {
      "cell_type": "code",
      "source": [
        "X_train, X_test, y_train, y_test = train_test_split(emb_list, labels_list, stratify=labels_list, test_size=0.25)\n",
        "train_dataset = TensorDataset(torch.tensor(X_train), torch.tensor(y_train))\n",
        "val_dataset = TensorDataset(torch.tensor(X_test), torch.tensor(y_test))\n",
        "batch_size = 64\n",
        "\n",
        "train_dataloader = DataLoader(train_dataset,\n",
        "                              sampler=SequentialSampler(train_dataset),\n",
        "                              batch_size=batch_size)\n",
        "val_dataloader = DataLoader(val_dataset,\n",
        "                            sampler=SequentialSampler(val_dataset),\n",
        "                            batch_size=batch_size)"
      ],
      "metadata": {
        "id": "p6-ukVy-024j"
      },
      "execution_count": 35,
      "outputs": []
    },
    {
      "cell_type": "markdown",
      "source": [
        "## Glove"
      ],
      "metadata": {
        "id": "wnAIukzgt4Ru"
      }
    },
    {
      "cell_type": "code",
      "source": [
        "class MODEL_classifier(nn.Module):\n",
        "    def __init__(self, emb_size=300):     \n",
        "        super(MODEL_classifier, self).__init__()\n",
        "        self.Linear1 = nn.Linear(emb_size, 64)\n",
        "        self.bn128 = nn.BatchNorm1d(64)\n",
        "        self.Activation1 = nn.ReLU()\n",
        "        self.Dropout1 = nn.Dropout(p=0.2)\n",
        "        self.Dropout2 = nn.Dropout(p=0.2)\n",
        "        self.Linear2 = nn.Linear(64, 32)\n",
        "        self.bn32 = nn.BatchNorm1d(32)\n",
        "        self.Activation2 = nn.ReLU()\n",
        "        self.Linear3 = nn.Linear(32, 1)\n",
        "        self.sigmoid = nn.Sigmoid()\n",
        "        \n",
        "        nn.init.kaiming_uniform_(self.Linear1.weight)\n",
        "        nn.init.kaiming_uniform_(self.Linear2.weight)\n",
        "        nn.init.kaiming_uniform_(self.Linear3.weight)\n",
        "\n",
        "    def forward(self, x):\n",
        "        x = self.Linear1(x)\n",
        "        x = self.bn128(x)\n",
        "        x = self.Activation1(x)\n",
        "        x = self.Dropout1(x)\n",
        "        x = self.Linear2(x)\n",
        "        x = self.bn32(x)\n",
        "        x = self.Activation2(x)\n",
        "        x = self.Dropout2(x)\n",
        "        x = self.Linear3(x)\n",
        "        x = self.sigmoid(x)\n",
        "        return x"
      ],
      "metadata": {
        "id": "EGVd095It5bs"
      },
      "execution_count": 36,
      "outputs": []
    },
    {
      "cell_type": "code",
      "source": [
        "def train(train_dataloader, val_dataloader, model, loss_fn, optimizer, epoch, device, type_train='multilabel'):\n",
        "    losses_train_mean = []\n",
        "    losses_val_mean = []\n",
        "    acc_train_mean = []\n",
        "    acc_val_mean = []\n",
        "    f1_train_mean = []\n",
        "    f1_val_mean = []\n",
        "    print('start training model classifier')\n",
        "    for i in tqdm(range(epoch)):\n",
        "        loss_train = []\n",
        "        loss_val = []\n",
        "        acc_train = []\n",
        "        acc_val = []\n",
        "        f1_train = []\n",
        "        f1_val = []\n",
        "        model.train()\n",
        "        for d in train_dataloader:\n",
        "            X_train = d[0].to(device).float()\n",
        "            optimizer.zero_grad()\n",
        "            preds_train = model(X_train)\n",
        "            if type_train == 'multilabel':\n",
        "                y_train = torch.tensor(d[1].to(device), dtype=torch.long)\n",
        "                _, y_pred = torch.max(preds_train, dim=1)\n",
        "                f1_train.append(f1_score(y_pred.cpu().numpy(), y_train.cpu().numpy(), average='weighted'))\n",
        "                acc_train.append(accuracy_score(y_pred.cpu().numpy(), y_train.cpu().numpy()))\n",
        "                loss_t = loss_fn(preds_train, y_train)\n",
        "            elif type_train == 'binary':\n",
        "                y_train = d[1].to(device).float()\n",
        "                y_pred = [1. if tmp > 0.5 else 0 for tmp in preds_train.cpu().detach().numpy()]\n",
        "                f1_train.append(f1_score(y_pred, y_train.cpu().numpy()))\n",
        "                acc_train.append(accuracy_score(y_pred, y_train.cpu().numpy()))\n",
        "                loss_t = loss_fn(preds_train, torch.unsqueeze(y_train, 1))\n",
        "            loss_train.append(loss_t.item())\n",
        "            loss_t.backward()\n",
        "            optimizer.step()\n",
        "        model.eval()\n",
        "        with torch.no_grad():\n",
        "            optimizer.zero_grad()\n",
        "            for d_v in val_dataloader:\n",
        "                X_val = d_v[0].to(device).float()\n",
        "                preds_val = model(X_val)\n",
        "                if type_train == 'multilabel':\n",
        "                    y_val = torch.tensor(d_v[1].to(device), dtype=torch.long)\n",
        "                    _, y_pred_v = torch.max(preds_val, dim=1)\n",
        "                    f1_val.append(f1_score(y_pred_v.cpu().numpy(), y_val.cpu().numpy(), average='weighted'))\n",
        "                    acc_val.append(accuracy_score(y_pred_v.cpu().numpy(), y_val.cpu().numpy()))\n",
        "                    loss_v = loss_fn(preds_val, y_val)\n",
        "                elif type_train == 'binary':\n",
        "                    y_val = d_v[1].to(device).float()\n",
        "                    y_pred_v = [1. if tmp > 0.5 else 0 for tmp in preds_val.cpu().detach().numpy()]\n",
        "                    f1_val.append(f1_score(y_pred_v, y_val.cpu().numpy()))\n",
        "                    acc_val.append(accuracy_score(y_pred_v, y_val.cpu().numpy()))\n",
        "                    loss_v = loss_fn(preds_val, torch.unsqueeze(y_val, 1))\n",
        "                loss_val.append(loss_v.item())\n",
        "        if i % 2 == 0:\n",
        "            print('---Train---')\n",
        "            print('Epoch: {}, Accuracy: {}, F1_score: {}, Loss: {}'.format(i, np.mean(acc_train), np.mean(f1_train), np.mean(loss_train)))\n",
        "            print('---Validation---')\n",
        "            print('Epoch: {}, Accuracy: {}, F1_score: {}, Loss: {}'.format(i, np.mean(acc_val), np.mean(f1_val), np.mean(loss_val)))\n",
        "        acc_train_mean.append(np.mean(acc_train))\n",
        "        acc_val_mean.append(np.mean(acc_val))\n",
        "        losses_train_mean.append(np.mean(loss_train))\n",
        "        losses_val_mean.append(np.mean(loss_val))\n",
        "        f1_train_mean.append(np.mean(f1_train))\n",
        "        f1_val_mean.append(np.mean(f1_val))\n",
        "    print('training model classifier finished')\n",
        "    return {'loss_train': losses_train_mean, 'loss_val': losses_val_mean, \n",
        "            'acc_train': acc_train_mean, 'acc_val': acc_val_mean,\n",
        "            'f1_train': f1_train_mean, 'f1_val': f1_val_mean}"
      ],
      "metadata": {
        "id": "Z-vXOOTz_1f0"
      },
      "execution_count": 37,
      "outputs": []
    },
    {
      "cell_type": "code",
      "source": [
        "def learning_curves(dct_history):\n",
        "    fig, (ax1, ax2, ax3) = plt.subplots(1, 3, figsize=(18, 4))\n",
        "#     plt.figure(figsize=(8,6))\n",
        "    keys = ['loss', 'acc', 'f1']\n",
        "    for idx, ax in enumerate(fig.axes):\n",
        "        train = dct_history[f'{keys[idx]}_train']\n",
        "        val = dct_history[f'{keys[idx]}_val']\n",
        "        ax.plot(range(1, len(train)+1), train, label=f'{keys[idx]}_train')\n",
        "        ax.plot(range(1, len(val)+1), val, label=f'{keys[idx]}_val')\n",
        "        ax.set_title('Training history', fontsize=12)\n",
        "        ax.set_ylabel(f'{keys[idx]}', fontsize=12)\n",
        "        ax.set_xlabel('Epoch', fontsize=12)\n",
        "        ax.legend(fontsize=12)\n",
        "        ax.tick_params(axis='both', which='major', labelsize=12)\n",
        "        ax.grid()\n",
        "    plt.show()\n"
      ],
      "metadata": {
        "id": "OlEH_6up_5PJ"
      },
      "execution_count": 38,
      "outputs": []
    },
    {
      "cell_type": "code",
      "source": [
        "def compute_score(metrics_, model_name):\n",
        "    metrics_temp = deepcopy(metrics_)\n",
        "    dct_info = {'loss_train': [], 'loss_val': [], 'acc_train': [], 'acc_val': [], 'f1_train': [], 'f1_val': []}\n",
        "    for idx in dct_info.keys():\n",
        "        dct_info[idx].append(metrics_temp[idx][-1])\n",
        "    dct_info['model'] = model_name\n",
        "    return dct_info"
      ],
      "metadata": {
        "id": "QqGtuPU8GQQP"
      },
      "execution_count": 50,
      "outputs": []
    },
    {
      "cell_type": "code",
      "source": [
        "model_classifier = MODEL_classifier(300).to(device)\n",
        "optimizer = Adam(model_classifier.parameters(), lr=0.0001)\n",
        "loss_fn = BCELoss()"
      ],
      "metadata": {
        "id": "uFBb0nmQFU4N"
      },
      "execution_count": 41,
      "outputs": []
    },
    {
      "cell_type": "code",
      "source": [
        "summary(model_classifier, (300,))"
      ],
      "metadata": {
        "colab": {
          "base_uri": "https://localhost:8080/"
        },
        "id": "5SdjTTUoFhPV",
        "outputId": "d7a73341-1bb7-4d75-b432-1ae36154f333"
      },
      "execution_count": 44,
      "outputs": [
        {
          "output_type": "stream",
          "name": "stdout",
          "text": [
            "----------------------------------------------------------------\n",
            "        Layer (type)               Output Shape         Param #\n",
            "================================================================\n",
            "            Linear-1                   [-1, 64]          19,264\n",
            "       BatchNorm1d-2                   [-1, 64]             128\n",
            "              ReLU-3                   [-1, 64]               0\n",
            "           Dropout-4                   [-1, 64]               0\n",
            "            Linear-5                   [-1, 32]           2,080\n",
            "       BatchNorm1d-6                   [-1, 32]              64\n",
            "              ReLU-7                   [-1, 32]               0\n",
            "           Dropout-8                   [-1, 32]               0\n",
            "            Linear-9                    [-1, 1]              33\n",
            "          Sigmoid-10                    [-1, 1]               0\n",
            "================================================================\n",
            "Total params: 21,569\n",
            "Trainable params: 21,569\n",
            "Non-trainable params: 0\n",
            "----------------------------------------------------------------\n",
            "Input size (MB): 0.00\n",
            "Forward/backward pass size (MB): 0.00\n",
            "Params size (MB): 0.08\n",
            "Estimated Total Size (MB): 0.09\n",
            "----------------------------------------------------------------\n"
          ]
        }
      ]
    },
    {
      "cell_type": "code",
      "source": [
        "EPOCH = 30\n",
        "dct_history = train(train_dataloader, val_dataloader, model_classifier, loss_fn, optimizer, EPOCH, device, 'binary')"
      ],
      "metadata": {
        "colab": {
          "base_uri": "https://localhost:8080/"
        },
        "id": "Qm88_kKqFoG2",
        "outputId": "ec20e977-1240-4e36-d7ab-d30fa9261227"
      },
      "execution_count": 47,
      "outputs": [
        {
          "output_type": "stream",
          "name": "stdout",
          "text": [
            "start training model classifier\n"
          ]
        },
        {
          "output_type": "stream",
          "name": "stderr",
          "text": [
            "  3%|▎         | 1/30 [00:03<01:34,  3.25s/it]"
          ]
        },
        {
          "output_type": "stream",
          "name": "stdout",
          "text": [
            "---Train---\n",
            "Epoch: 0, Accuracy: 0.8395940134426977, F1_score: 0.7950759476477346, Loss: 0.3831437836688264\n",
            "---Validation---\n",
            "Epoch: 0, Accuracy: 0.8681238056238056, F1_score: 0.8326421019467871, Loss: 0.318430728874765\n"
          ]
        },
        {
          "output_type": "stream",
          "name": "stderr",
          "text": [
            " 10%|█         | 3/30 [00:09<01:25,  3.17s/it]"
          ]
        },
        {
          "output_type": "stream",
          "name": "stdout",
          "text": [
            "---Train---\n",
            "Epoch: 2, Accuracy: 0.8674121383002963, F1_score: 0.8359883556261775, Loss: 0.3204323542073257\n",
            "---Validation---\n",
            "Epoch: 2, Accuracy: 0.875725156975157, F1_score: 0.8446990292065046, Loss: 0.2974032221345214\n"
          ]
        },
        {
          "output_type": "stream",
          "name": "stderr",
          "text": [
            " 17%|█▋        | 5/30 [00:16<01:21,  3.26s/it]"
          ]
        },
        {
          "output_type": "stream",
          "name": "stdout",
          "text": [
            "---Train---\n",
            "Epoch: 4, Accuracy: 0.8709145021645023, F1_score: 0.8407455384836787, Loss: 0.31005693748033136\n",
            "---Validation---\n",
            "Epoch: 4, Accuracy: 0.8777662605787605, F1_score: 0.847667421171705, Loss: 0.29145350850917195\n"
          ]
        },
        {
          "output_type": "stream",
          "name": "stderr",
          "text": [
            " 23%|██▎       | 7/30 [00:23<01:21,  3.53s/it]"
          ]
        },
        {
          "output_type": "stream",
          "name": "stdout",
          "text": [
            "---Train---\n",
            "Epoch: 6, Accuracy: 0.872064393939394, F1_score: 0.8423358800390464, Loss: 0.30748887911326905\n",
            "---Validation---\n",
            "Epoch: 6, Accuracy: 0.8798734814359814, F1_score: 0.8496912800949165, Loss: 0.2886932209671081\n"
          ]
        },
        {
          "output_type": "stream",
          "name": "stderr",
          "text": [
            " 30%|███       | 9/30 [00:33<01:24,  4.04s/it]"
          ]
        },
        {
          "output_type": "stream",
          "name": "stdout",
          "text": [
            "---Train---\n",
            "Epoch: 8, Accuracy: 0.8739440931875143, F1_score: 0.8445423878021122, Loss: 0.30325399184585516\n",
            "---Validation---\n",
            "Epoch: 8, Accuracy: 0.8797369812994813, F1_score: 0.8505575509953364, Loss: 0.2873622595189928\n"
          ]
        },
        {
          "output_type": "stream",
          "name": "stderr",
          "text": [
            " 37%|███▋      | 11/30 [00:39<01:08,  3.60s/it]"
          ]
        },
        {
          "output_type": "stream",
          "name": "stdout",
          "text": [
            "---Train---\n",
            "Epoch: 10, Accuracy: 0.8749088630667579, F1_score: 0.8456299972638549, Loss: 0.30163831385902895\n",
            "---Validation---\n",
            "Epoch: 10, Accuracy: 0.8817780849030848, F1_score: 0.8516615257596517, Loss: 0.2855628652347101\n"
          ]
        },
        {
          "output_type": "stream",
          "name": "stderr",
          "text": [
            " 43%|████▎     | 13/30 [00:46<00:57,  3.38s/it]"
          ]
        },
        {
          "output_type": "stream",
          "name": "stdout",
          "text": [
            "---Train---\n",
            "Epoch: 12, Accuracy: 0.8751908179539759, F1_score: 0.8458671288692817, Loss: 0.300680308301646\n",
            "---Validation---\n",
            "Epoch: 12, Accuracy: 0.8824861793611793, F1_score: 0.8526242477207102, Loss: 0.2837818826775293\n"
          ]
        },
        {
          "output_type": "stream",
          "name": "stderr",
          "text": [
            " 50%|█████     | 15/30 [00:54<00:55,  3.70s/it]"
          ]
        },
        {
          "output_type": "stream",
          "name": "stdout",
          "text": [
            "---Train---\n",
            "Epoch: 14, Accuracy: 0.8766226646160857, F1_score: 0.8476205845111249, Loss: 0.29784129938684906\n",
            "---Validation---\n",
            "Epoch: 14, Accuracy: 0.8824115308490308, F1_score: 0.854110720265674, Loss: 0.28157605620117876\n"
          ]
        },
        {
          "output_type": "stream",
          "name": "stderr",
          "text": [
            " 57%|█████▋    | 17/30 [01:00<00:44,  3.39s/it]"
          ]
        },
        {
          "output_type": "stream",
          "name": "stdout",
          "text": [
            "---Train---\n",
            "Epoch: 16, Accuracy: 0.8771879984051038, F1_score: 0.8480112537403159, Loss: 0.29702879006701305\n",
            "---Validation---\n",
            "Epoch: 16, Accuracy: 0.8836784227409227, F1_score: 0.8540465089331266, Loss: 0.27995536667672366\n"
          ]
        },
        {
          "output_type": "stream",
          "name": "stderr",
          "text": [
            " 63%|██████▎   | 19/30 [01:06<00:35,  3.26s/it]"
          ]
        },
        {
          "output_type": "stream",
          "name": "stdout",
          "text": [
            "---Train---\n",
            "Epoch: 18, Accuracy: 0.878315817953976, F1_score: 0.8493094735473601, Loss: 0.29560837501421905\n",
            "---Validation---\n",
            "Epoch: 18, Accuracy: 0.8819231162981163, F1_score: 0.852489046293081, Loss: 0.27991488112791163\n"
          ]
        },
        {
          "output_type": "stream",
          "name": "stderr",
          "text": [
            " 70%|███████   | 21/30 [01:13<00:28,  3.19s/it]"
          ]
        },
        {
          "output_type": "stream",
          "name": "stdout",
          "text": [
            "---Train---\n",
            "Epoch: 20, Accuracy: 0.8770925894281157, F1_score: 0.8477528035789945, Loss: 0.29447216433017775\n",
            "---Validation---\n",
            "Epoch: 20, Accuracy: 0.8835419226044225, F1_score: 0.8538570380357823, Loss: 0.2780840651946025\n"
          ]
        },
        {
          "output_type": "stream",
          "name": "stderr",
          "text": [
            " 77%|███████▋  | 23/30 [01:19<00:22,  3.16s/it]"
          ]
        },
        {
          "output_type": "stream",
          "name": "stdout",
          "text": [
            "---Train---\n",
            "Epoch: 22, Accuracy: 0.878785742766006, F1_score: 0.8500117975206725, Loss: 0.2912424275189414\n",
            "---Validation---\n",
            "Epoch: 22, Accuracy: 0.8843118686868686, F1_score: 0.8577890655304874, Loss: 0.279033453212128\n"
          ]
        },
        {
          "output_type": "stream",
          "name": "stderr",
          "text": [
            " 83%|████████▎ | 25/30 [01:25<00:15,  3.14s/it]"
          ]
        },
        {
          "output_type": "stream",
          "name": "stdout",
          "text": [
            "---Train---\n",
            "Epoch: 24, Accuracy: 0.8786682615629985, F1_score: 0.8497770048886489, Loss: 0.29237464490465653\n",
            "---Validation---\n",
            "Epoch: 24, Accuracy: 0.885860292110292, F1_score: 0.8571031834334709, Loss: 0.2756381419797738\n"
          ]
        },
        {
          "output_type": "stream",
          "name": "stderr",
          "text": [
            " 90%|█████████ | 27/30 [01:31<00:09,  3.12s/it]"
          ]
        },
        {
          "output_type": "stream",
          "name": "stdout",
          "text": [
            "---Train---\n",
            "Epoch: 26, Accuracy: 0.8799121383002962, F1_score: 0.8513153315751768, Loss: 0.2905570433552104\n",
            "---Validation---\n",
            "Epoch: 26, Accuracy: 0.8864233551733551, F1_score: 0.857936186239417, Loss: 0.27629379277025257\n"
          ]
        },
        {
          "output_type": "stream",
          "name": "stderr",
          "text": [
            " 97%|█████████▋| 29/30 [01:38<00:03,  3.11s/it]"
          ]
        },
        {
          "output_type": "stream",
          "name": "stdout",
          "text": [
            "---Train---\n",
            "Epoch: 28, Accuracy: 0.8798416495784918, F1_score: 0.8508719691020348, Loss: 0.29070104985756984\n",
            "---Validation---\n",
            "Epoch: 28, Accuracy: 0.8850156975156975, F1_score: 0.8564798319428715, Loss: 0.2751564939951037\n"
          ]
        },
        {
          "output_type": "stream",
          "name": "stderr",
          "text": [
            "100%|██████████| 30/30 [01:41<00:00,  3.37s/it]"
          ]
        },
        {
          "output_type": "stream",
          "name": "stdout",
          "text": [
            "training model classifier finished\n"
          ]
        },
        {
          "output_type": "stream",
          "name": "stderr",
          "text": [
            "\n"
          ]
        }
      ]
    },
    {
      "cell_type": "code",
      "source": [
        "learning_curves(dct_history)"
      ],
      "metadata": {
        "colab": {
          "base_uri": "https://localhost:8080/",
          "height": 287
        },
        "id": "aMfrF4STF4jj",
        "outputId": "ea2df59b-99f1-4c34-a41b-628a9e7dd58d"
      },
      "execution_count": 48,
      "outputs": [
        {
          "output_type": "display_data",
          "data": {
            "text/plain": [
              "<Figure size 1296x288 with 3 Axes>"
            ],
            "image/png": "[encoded data removed]"
          },
          "metadata": {
            "needs_background": "light"
          }
        }
      ]
    },
    {
      "cell_type": "code",
      "source": [
        "dct_score_glove = compute_score(dct_history, 'glove_own_training')"
      ],
      "metadata": {
        "id": "S0cmLWkgF651"
      },
      "execution_count": 53,
      "outputs": []
    },
    {
      "cell_type": "code",
      "source": [
        "dct_score_glove"
      ],
      "metadata": {
        "colab": {
          "base_uri": "https://localhost:8080/"
        },
        "id": "JFKurh_aGYwg",
        "outputId": "cdf4f077-6bc2-4772-ac49-78dabd7020ce"
      },
      "execution_count": 54,
      "outputs": [
        {
          "output_type": "execute_result",
          "data": {
            "text/plain": [
              "{'loss_train': [0.2866623647230908],\n",
              " 'loss_val': [0.2745149134918376],\n",
              " 'acc_train': [0.8806654420141263],\n",
              " 'acc_val': [0.8864233551733551],\n",
              " 'f1_train': [0.8519780645584474],\n",
              " 'f1_val': [0.8585606591172299],\n",
              " 'model': 'glove_own_training'}"
            ]
          },
          "metadata": {},
          "execution_count": 54
        }
      ]
    }
  ]
}